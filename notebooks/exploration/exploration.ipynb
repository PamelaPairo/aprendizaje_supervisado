{
 "cells": [
  {
   "cell_type": "markdown",
   "id": "38bff0e2",
   "metadata": {},
   "source": [
    "Diplomatura en Ciencias de Datos, Aprendizaje Automático y sus Aplicaciones\n",
    "\n",
    "Autores: Matías Oria, Antonela Sambuceti, Pamela Pairo, Benjamín Ocampo"
   ]
  },
  {
   "cell_type": "markdown",
   "id": "e636193c",
   "metadata": {},
   "source": [
    "## Importación de librerias"
   ]
  },
  {
   "cell_type": "code",
   "execution_count": null,
   "id": "6d1142d2",
   "metadata": {
    "lines_to_next_cell": 0
   },
   "outputs": [],
   "source": [
    "import pandas as pd\n",
    "import numpy as np\n",
    "import matplotlib.pyplot as plt\n",
    "import seaborn as sns"
   ]
  },
  {
   "cell_type": "markdown",
   "id": "f084dabe",
   "metadata": {},
   "source": [
    "## Lectura del dataset"
   ]
  },
  {
   "cell_type": "code",
   "execution_count": null,
   "id": "4302abb2",
   "metadata": {
    "lines_to_next_cell": 0
   },
   "outputs": [],
   "source": [
    "URL_TRAIN_DATA = \"https://www.famaf.unc.edu.ar/~nocampo043/travel_insurance_prediction_train.csv\"\n",
    "URL_TEST_DATA = \"https://www.famaf.unc.edu.ar/~nocampo043/travel_insurance_prediction_test.csv\"\n",
    "\n",
    "df_train = pd.read_csv(URL_TRAIN_DATA)\n",
    "df_test = pd.read_csv(URL_TEST_DATA)"
   ]
  },
  {
   "cell_type": "code",
   "execution_count": null,
   "id": "69f6409c",
   "metadata": {
    "lines_to_next_cell": 0
   },
   "outputs": [],
   "source": [
    "df_train.info()"
   ]
  },
  {
   "cell_type": "code",
   "execution_count": null,
   "id": "a1bbd9a0",
   "metadata": {
    "lines_to_next_cell": 0
   },
   "outputs": [],
   "source": [
    "df_test.info()"
   ]
  },
  {
   "cell_type": "code",
   "execution_count": null,
   "id": "c72bb9e1",
   "metadata": {
    "lines_to_next_cell": 0
   },
   "outputs": [],
   "source": [
    "df_train"
   ]
  },
  {
   "cell_type": "code",
   "execution_count": null,
   "id": "645cb1a6",
   "metadata": {
    "lines_to_next_cell": 0
   },
   "outputs": [],
   "source": [
    "df_test"
   ]
  },
  {
   "cell_type": "markdown",
   "id": "1812e8de",
   "metadata": {
    "lines_to_next_cell": 0
   },
   "source": [
    "## Análisis descriptivo"
   ]
  },
  {
   "cell_type": "code",
   "execution_count": null,
   "id": "65b41a43",
   "metadata": {
    "lines_to_next_cell": 0
   },
   "outputs": [],
   "source": [
    "df_train.describe().round()"
   ]
  },
  {
   "cell_type": "markdown",
   "id": "b954953e",
   "metadata": {
    "lines_to_next_cell": 0
   },
   "source": [
    "### Variable objetivo o target: Travel Insurance"
   ]
  },
  {
   "cell_type": "code",
   "execution_count": null,
   "id": "006e85ca",
   "metadata": {
    "lines_to_next_cell": 0
   },
   "outputs": [],
   "source": [
    "df_train[\"TravelInsurance\"].value_counts()"
   ]
  },
  {
   "cell_type": "code",
   "execution_count": null,
   "id": "8e4a4ca0",
   "metadata": {
    "lines_to_next_cell": 0
   },
   "outputs": [],
   "source": [
    "fig = plt.figure(figsize=(5, 5))\n",
    "sns.countplot(data=df_train, x=\"TravelInsurance\")"
   ]
  },
  {
   "cell_type": "markdown",
   "id": "093e38c0",
   "metadata": {},
   "source": [
    "### Correlación variables"
   ]
  },
  {
   "cell_type": "code",
   "execution_count": null,
   "id": "7fc3ac4a",
   "metadata": {
    "lines_to_next_cell": 0
   },
   "outputs": [],
   "source": [
    "corr = df_train[[\"TravelInsurance\", \"AnnualIncome\", \"Age\"]].corr().round(2)\n",
    "corr = corr[['TravelInsurance']]\n",
    "corr.loc[:, 'abs_corr'] = np.abs(corr['TravelInsurance'])\n",
    "corr.sort_values(by='abs_corr', ascending=False)"
   ]
  },
  {
   "cell_type": "code",
   "execution_count": null,
   "id": "3058c801",
   "metadata": {
    "lines_to_next_cell": 0
   },
   "outputs": [],
   "source": [
    "plt.figure(figsize=(10, 10))\n",
    "corr = df_train.corr()\n",
    "sns.heatmap(corr,\n",
    "            xticklabels=corr.columns,\n",
    "            yticklabels=corr.columns,\n",
    "            annot=True,\n",
    "            cmap='coolwarm')\n",
    "plt.show()"
   ]
  },
  {
   "cell_type": "markdown",
   "id": "e6e1856b",
   "metadata": {},
   "source": [
    "### Variable explicativa: Age"
   ]
  },
  {
   "cell_type": "markdown",
   "id": "71367df1",
   "metadata": {
    "lines_to_next_cell": 0
   },
   "source": [
    "En primer lugar, observamos la distribución de la variable Age en el df_train."
   ]
  },
  {
   "cell_type": "code",
   "execution_count": null,
   "id": "fcbd5b22",
   "metadata": {
    "lines_to_next_cell": 0
   },
   "outputs": [],
   "source": [
    "sns.countplot(data=df_train, x=\"Age\", hue=\"TravelInsurance\")"
   ]
  },
  {
   "cell_type": "code",
   "execution_count": null,
   "id": "f7753b7b",
   "metadata": {
    "lines_to_next_cell": 0
   },
   "outputs": [],
   "source": [
    "df_train[[\"TravelInsurance\", \"Age\"]].groupby(\"TravelInsurance\").describe()"
   ]
  },
  {
   "cell_type": "markdown",
   "id": "2b64e0bd",
   "metadata": {
    "lines_to_next_cell": 0
   },
   "source": [
    "Podemos observar que se encuentran fluctuaciones con respecto a la edad."
   ]
  },
  {
   "cell_type": "markdown",
   "id": "d1fce0d6",
   "metadata": {},
   "source": [
    "### Variable explicativa: AnnualIncome"
   ]
  },
  {
   "cell_type": "markdown",
   "id": "5f34a8bb",
   "metadata": {},
   "source": [
    "En primer lugar, observamos la distribución de la variable Annual Income en el df_train."
   ]
  },
  {
   "cell_type": "code",
   "execution_count": null,
   "id": "4fba9db3",
   "metadata": {},
   "outputs": [],
   "source": [
    "fig = plt.figure(figsize=(8, 8))\n",
    "sns.boxenplot(data=df_train, x=\"AnnualIncome\")\n",
    "plt.ticklabel_format(style='plain', axis='x')"
   ]
  },
  {
   "cell_type": "code",
   "execution_count": null,
   "id": "caba7be0",
   "metadata": {},
   "outputs": [],
   "source": [
    "fig = plt.figure(figsize=(8, 8))\n",
    "sns.boxenplot(data=df_train, x=\"TravelInsurance\", y=\"AnnualIncome\")\n",
    "plt.ticklabel_format(style='plain', axis='y')"
   ]
  },
  {
   "cell_type": "code",
   "execution_count": null,
   "id": "321e6612",
   "metadata": {
    "lines_to_next_cell": 0
   },
   "outputs": [],
   "source": [
    "(df_train[[\"TravelInsurance\",\n",
    "           \"AnnualIncome\"]].groupby([\"TravelInsurance\"]).describe())"
   ]
  },
  {
   "cell_type": "markdown",
   "id": "d16dd4f2",
   "metadata": {},
   "source": [
    "Podemos observar que la distribución de la variable Annual Income se ve afectada en gran medida, al condicionarla por las distintas clases de la variable TARGET. Si bien los valores mínimos y máximos son similares, la media y la mediana difieren considerablemente, como así también el rango intercuantil.\n",
    "Es una varible que se considera importante para explicar el comportamiento de Y."
   ]
  },
  {
   "cell_type": "markdown",
   "id": "9b1f9b8e",
   "metadata": {
    "lines_to_next_cell": 0
   },
   "source": [
    "### Variable explicativa: Employment Type"
   ]
  },
  {
   "cell_type": "code",
   "execution_count": null,
   "id": "5aa6e4fe",
   "metadata": {
    "lines_to_next_cell": 0
   },
   "outputs": [],
   "source": [
    "df_train[\"Employment Type\"].value_counts()\n",
    "pd.crosstab(df_train[\"TravelInsurance\"], df_train[\"GraduateOrNot\"])"
   ]
  },
  {
   "cell_type": "code",
   "execution_count": null,
   "id": "5a46e448",
   "metadata": {},
   "outputs": [],
   "source": [
    "fig = plt.figure(figsize=(5, 5))\n",
    "sns.countplot(data=df_train,\n",
    "              x=\"TravelInsurance\",\n",
    "              hue=df_train[\"Employment Type\"])\n",
    "pd.crosstab(df_train[\"TravelInsurance\"], df_train[\"Employment Type\"])"
   ]
  },
  {
   "cell_type": "markdown",
   "id": "4a4436cf",
   "metadata": {},
   "source": [
    "### Variable explicativa: Graduate Or Not"
   ]
  },
  {
   "cell_type": "code",
   "execution_count": null,
   "id": "28b4dc8f",
   "metadata": {
    "lines_to_next_cell": 0
   },
   "outputs": [],
   "source": [
    "df_train[\"GraduateOrNot\"].value_counts()"
   ]
  },
  {
   "cell_type": "code",
   "execution_count": null,
   "id": "f8f28b5e",
   "metadata": {
    "lines_to_next_cell": 0
   },
   "outputs": [],
   "source": [
    "fig = plt.figure(figsize=(5, 5))\n",
    "sns.countplot(data=df_train,\n",
    "              x=\"TravelInsurance\",\n",
    "              hue=df_train[\"GraduateOrNot\"])"
   ]
  },
  {
   "cell_type": "code",
   "execution_count": null,
   "id": "0aa45617",
   "metadata": {
    "lines_to_next_cell": 0
   },
   "outputs": [],
   "source": [
    "df_train"
   ]
  },
  {
   "cell_type": "markdown",
   "id": "734e0f1d",
   "metadata": {},
   "source": [
    "### Variable explicativa: Frequent Flyer"
   ]
  },
  {
   "cell_type": "code",
   "execution_count": null,
   "id": "c60926ca",
   "metadata": {},
   "outputs": [],
   "source": [
    "df_train[\"FrequentFlyer\"].value_counts()"
   ]
  },
  {
   "cell_type": "markdown",
   "id": "159f9da4",
   "metadata": {},
   "source": [
    "### Variable explicativa: Ever Travelled Abroad"
   ]
  },
  {
   "cell_type": "code",
   "execution_count": null,
   "id": "6ed65174",
   "metadata": {},
   "outputs": [],
   "source": [
    "df_train[\"EverTravelledAbroad\"].value_counts()"
   ]
  },
  {
   "cell_type": "markdown",
   "id": "5dc1aa9a",
   "metadata": {},
   "source": [
    "### Variable explicativa: Employment Type"
   ]
  },
  {
   "cell_type": "code",
   "execution_count": null,
   "id": "d107be40",
   "metadata": {},
   "outputs": [],
   "source": [
    "sns.countplot(data=df_train, x=\"Employment Type\")"
   ]
  },
  {
   "cell_type": "markdown",
   "id": "76ee3417",
   "metadata": {
    "lines_to_next_cell": 0
   },
   "source": [
    "### Variable explicativa: Family Members"
   ]
  },
  {
   "cell_type": "code",
   "execution_count": null,
   "id": "065a7391",
   "metadata": {
    "lines_to_next_cell": 0
   },
   "outputs": [],
   "source": [
    "df_train.columns"
   ]
  },
  {
   "cell_type": "code",
   "execution_count": null,
   "id": "46c5deff",
   "metadata": {
    "lines_to_next_cell": 0
   },
   "outputs": [],
   "source": [
    "plt.figure(figsize=(10, 8))\n",
    "sns.histplot(data=df_train,\n",
    "             x=\"FamilyMembers\",\n",
    "             hue='TravelInsurance',\n",
    "             multiple=\"stack\")"
   ]
  },
  {
   "cell_type": "markdown",
   "id": "6d7855f1",
   "metadata": {
    "lines_to_next_cell": 0
   },
   "source": [
    "### Variable explicativa: Chronic Diseases"
   ]
  },
  {
   "cell_type": "code",
   "execution_count": null,
   "id": "63fec394",
   "metadata": {
    "lines_to_next_cell": 0
   },
   "outputs": [],
   "source": [
    "plt.figure(figsize=(10, 8))\n",
    "ax = sns.countplot(data=df_train, x=\"ChronicDiseases\", hue=\"TravelInsurance\")\n",
    "legend_labels, _ = ax.get_legend_handles_labels()\n",
    "ax.legend(\n",
    "    legend_labels,\n",
    "    ['Not buyed', 'Buyed'],  #ver de cambiar!\n",
    "    title_fontsize=18,\n",
    "    fontsize=15,\n",
    "    bbox_to_anchor=(1, 1),\n",
    "    title='Travel Insurance')"
   ]
  },
  {
   "cell_type": "markdown",
   "id": "131e4ab3",
   "metadata": {
    "lines_to_next_cell": 0
   },
   "source": [
    "### Variable explicativa: FrequentFlyer"
   ]
  },
  {
   "cell_type": "code",
   "execution_count": null,
   "id": "bd995f61",
   "metadata": {
    "lines_to_next_cell": 0
   },
   "outputs": [],
   "source": [
    "fig = plt.figure(figsize=(5, 5))\n",
    "sns.countplot(data=df_train, x=\"TravelInsurance\", hue=df_train.FrequentFlyer)\n",
    "\n",
    "pd.crosstab(df_train[\"TravelInsurance\"], df_train[\"FrequentFlyer\"])"
   ]
  },
  {
   "cell_type": "markdown",
   "id": "6c2baf2d",
   "metadata": {
    "lines_to_next_cell": 0
   },
   "source": [
    "Se puede observar en este gráfico que si no sos viajero frecuente la cantidad\n",
    "de clientes que contratan un seguro es baja, caso contrario la cantidad de\n",
    "contratar un seguro es pareja."
   ]
  },
  {
   "cell_type": "markdown",
   "id": "506220f6",
   "metadata": {
    "lines_to_next_cell": 0
   },
   "source": [
    "### Variable explicativa: EverTravelledAbroad"
   ]
  },
  {
   "cell_type": "code",
   "execution_count": null,
   "id": "1d73087f",
   "metadata": {},
   "outputs": [],
   "source": [
    "fig = plt.figure(figsize=(5, 5))\n",
    "sns.countplot(data=df_train,\n",
    "              x=\"TravelInsurance\",\n",
    "              hue=df_train.EverTravelledAbroad)\n",
    "\n",
    "pd.crosstab(df_train[\"TravelInsurance\"], df_train[\"EverTravelledAbroad\"])"
   ]
  }
 ],
 "metadata": {
  "jupytext": {
   "encoding": "# -*- coding: utf-8 -*-",
   "main_language": "python"
  },
  "kernelspec": {
   "display_name": "Python 3.9.7 64-bit ('diplodatos-supervised': conda)",
   "name": "python397jvsc74a57bd01fbf230ed8a49891bdc325a868414da3a93ccc603acb0edf0a274c21ede9f486"
  }
 },
 "nbformat": 4,
 "nbformat_minor": 5
}
