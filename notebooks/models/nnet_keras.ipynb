{
 "cells": [
  {
   "cell_type": "code",
   "execution_count": null,
   "id": "c60c6e27",
   "metadata": {
    "lines_to_next_cell": 0
   },
   "outputs": [],
   "source": [
    "import pandas as pd\n",
    "from utils import (make_pipeline, df_test,  X_train_total, y_train_total)\n",
    "from keras.models import Sequential\n",
    "from keras.layers import Dense, Dropout\n",
    "from keras.wrappers.scikit_learn import KerasClassifier\n",
    "\n",
    "from skopt import BayesSearchCV\n",
    "from skopt.space import Real, Categorical, Integer"
   ]
  },
  {
   "cell_type": "code",
   "execution_count": null,
   "id": "6fd0b4f2",
   "metadata": {
    "lines_to_next_cell": 0
   },
   "outputs": [],
   "source": [
    "def create_model(hl1=100,\n",
    "                 hl2=50,\n",
    "                 activation=\"relu\",\n",
    "                 optimizer=\"adam\",\n",
    "                 dropout=.2,\n",
    "                 kernel_initializer=\"normal\"):\n",
    "    model = Sequential()\n",
    "    model.add(\n",
    "        Dense(hl1,\n",
    "              kernel_initializer=kernel_initializer,\n",
    "              activation=activation))\n",
    "    model.add(Dropout(dropout))\n",
    "    model.add(\n",
    "        Dense(hl2,\n",
    "              kernel_initializer=kernel_initializer,\n",
    "              activation=activation))\n",
    "    model.add(Dense(1, activation=\"sigmoid\"))\n",
    "\n",
    "    model.compile(loss=\"binary_crossentropy\", optimizer=optimizer)\n",
    "\n",
    "    return model"
   ]
  },
  {
   "cell_type": "code",
   "execution_count": null,
   "id": "ce72d1e9",
   "metadata": {
    "lines_to_next_cell": 0
   },
   "outputs": [],
   "source": [
    "pipe = make_pipeline(KerasClassifier(build_fn=create_model, verbose=0))\n",
    "\n",
    "params_bayes = {\n",
    "    \"preprocessor__discretizer__n_bins\": Integer(2, 25),\n",
    "    \"model__batch_size\": Integer(10, 100),\n",
    "    \"model__epochs\": Integer(10, 50),\n",
    "    \"model__hl1\": Integer(50, 200),\n",
    "    \"model__hl2\": Integer(25, 100),\n",
    "    \"model__activation\": Categorical([\"relu\", \"tanh\"]),\n",
    "    \"model__optimizer\": Categorical([\"adam\", \"sgd\"]),\n",
    "    \"model__dropout\": Real(0, .4),\n",
    "    \"model__kernel_initializer\": Categorical([\"uniform\", \"normal\"])\n",
    "}"
   ]
  },
  {
   "cell_type": "code",
   "execution_count": null,
   "id": "c52066e1",
   "metadata": {
    "lines_to_next_cell": 0
   },
   "outputs": [],
   "source": [
    "opt = BayesSearchCV(pipe, params_bayes, scoring=\"f1\")\n",
    "opt.fit(X_train_total, y_train_total)"
   ]
  },
  {
   "cell_type": "code",
   "execution_count": null,
   "id": "8bd20785",
   "metadata": {
    "lines_to_next_cell": 0
   },
   "outputs": [],
   "source": []
  },
  {
   "cell_type": "code",
   "execution_count": null,
   "id": "bef563da",
   "metadata": {
    "lines_to_next_cell": 0
   },
   "outputs": [],
   "source": [
    "test_id = df_test[\"Customer\"]\n",
    "test_pred = opt.best_estimator_.predict(df_test.drop(columns=[\"Customer\"]))\n",
    "submission = pd.DataFrame(list(zip(test_id, test_pred)),\n",
    "                              columns=[\"Customer\", \"TravelInsurance\"])\n",
    "submission[\"TravelInsurance\"] = submission.TravelInsurance.apply(lambda xs: xs[0])"
   ]
  },
  {
   "cell_type": "code",
   "execution_count": null,
   "id": "c8052e90",
   "metadata": {},
   "outputs": [],
   "source": []
  }
 ],
 "metadata": {
  "jupytext": {
   "cell_metadata_filter": "-all",
   "main_language": "python",
   "notebook_metadata_filter": "-all"
  }
 },
 "nbformat": 4,
 "nbformat_minor": 5
}
