{
 "cells": [
  {
   "cell_type": "code",
   "execution_count": null,
   "id": "63388419",
   "metadata": {
    "lines_to_next_cell": 0
   },
   "outputs": [],
   "source": [
    "from utils import (make_pipeline, X_train, X_val, save_predictions, y_train,\n",
    "                   y_val, X_train_total, y_train_total)\n",
    "from sklearn.metrics import classification_report\n",
    "from xgboost import XGBClassifier\n",
    "\n",
    "from skopt import BayesSearchCV\n",
    "from skopt.space import Real, Categorical, Integer"
   ]
  },
  {
   "cell_type": "code",
   "execution_count": null,
   "id": "1d929ba2",
   "metadata": {
    "lines_to_next_cell": 0
   },
   "outputs": [],
   "source": [
    "pipe = make_pipeline(XGBClassifier())"
   ]
  },
  {
   "cell_type": "code",
   "execution_count": null,
   "id": "25a541c2",
   "metadata": {
    "lines_to_next_cell": 0
   },
   "outputs": [],
   "source": [
    "pipe.fit(X_train, y_train)\n",
    "y_val_pred = pipe.predict(X_val)"
   ]
  },
  {
   "cell_type": "code",
   "execution_count": null,
   "id": "426a8cf7",
   "metadata": {
    "lines_to_next_cell": 0
   },
   "outputs": [],
   "source": [
    "print(classification_report(y_val, y_val_pred))"
   ]
  },
  {
   "cell_type": "markdown",
   "id": "f4043df8",
   "metadata": {
    "lines_to_next_cell": 0
   },
   "source": [
    "## Fine Tunning"
   ]
  },
  {
   "cell_type": "code",
   "execution_count": null,
   "id": "caf0224e",
   "metadata": {
    "lines_to_next_cell": 0
   },
   "outputs": [],
   "source": [
    "params_bayes = {\n",
    "    \"preprocessor__discretizer__n_bins\": Integer(2, 25),\n",
    "    \"model__objective\": Categorical([\"binary:logistic\"]),\n",
    "    \"model__n_estimators\": Integer(10, 500),\n",
    "    \"model__gamma\": Real(1e-6, 1),\n",
    "    \"model__max_depth\": Integer(4, 20),\n",
    "    \"model__learning_rate\": Real(1e-4, 1),\n",
    "    \"model__alpha\": Real(1e-4, 1),\n",
    "    \"model__booster\": Categorical([\"gbtree\", \"gblinear\", \"dart\"]),\n",
    "    \"model__colsample_bytree\": Real(.5, 1),\n",
    "    \"model__subsample\": Real(.6, 1),\n",
    "    \"model__eval_metric\": Categorical([\"logloss\"]),\n",
    "    \"model__use_label_encoder\": Categorical([False]),\n",
    "}\n",
    "opt = BayesSearchCV(pipe, params_bayes)\n",
    "# Works better if we tune using all the training data.\n",
    "opt.fit(X_train_total, y_train_total)"
   ]
  },
  {
   "cell_type": "code",
   "execution_count": null,
   "id": "4cb112c1",
   "metadata": {
    "lines_to_next_cell": 0
   },
   "outputs": [],
   "source": [
    "save_predictions(opt.best_estimator_, \"xgboost.csv\")"
   ]
  },
  {
   "cell_type": "code",
   "execution_count": null,
   "id": "567cb0c6",
   "metadata": {},
   "outputs": [],
   "source": []
  }
 ],
 "metadata": {
  "jupytext": {
   "cell_metadata_filter": "-all",
   "main_language": "python",
   "notebook_metadata_filter": "-all"
  }
 },
 "nbformat": 4,
 "nbformat_minor": 5
}
