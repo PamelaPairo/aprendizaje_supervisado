{
 "cells": [
  {
   "cell_type": "code",
   "execution_count": null,
   "id": "38644158",
   "metadata": {
    "lines_to_next_cell": 0
   },
   "outputs": [],
   "source": [
    "from utils import (make_pipeline, save_predictions, X_train_total,\n",
    "                   y_train_total)\n",
    "from xgboost import XGBClassifier\n",
    "from skopt import BayesSearchCV\n",
    "from skopt.space import Real, Categorical, Integer"
   ]
  },
  {
   "cell_type": "code",
   "execution_count": null,
   "id": "c75ee381",
   "metadata": {
    "lines_to_next_cell": 0
   },
   "outputs": [],
   "source": [
    "pipe = make_pipeline(XGBClassifier())"
   ]
  },
  {
   "cell_type": "markdown",
   "id": "12ab15ae",
   "metadata": {
    "lines_to_next_cell": 0
   },
   "source": [
    "## Fine Tunning"
   ]
  },
  {
   "cell_type": "code",
   "execution_count": null,
   "id": "7b731718",
   "metadata": {
    "lines_to_next_cell": 0
   },
   "outputs": [],
   "source": [
    "params_bayes = {\n",
    "    \"preprocessor__discretizer__n_bins\": Integer(2, 25),\n",
    "    \"model__objective\": Categorical([\"binary:logistic\"]),\n",
    "    \"model__n_estimators\": Integer(10, 500),\n",
    "    \"model__gamma\": Real(1e-6, 1),\n",
    "    \"model__max_depth\": Integer(4, 20),\n",
    "    \"model__learning_rate\": Real(1e-4, 1),\n",
    "    \"model__alpha\": Real(1e-4, 1),\n",
    "    \"model__booster\": Categorical([\"gbtree\", \"gblinear\", \"dart\"]),\n",
    "    \"model__colsample_bytree\": Real(.5, 1),\n",
    "    \"model__subsample\": Real(.6, 1),\n",
    "    \"model__eval_metric\": Categorical([\"logloss\"]),\n",
    "    \"model__use_label_encoder\": Categorical([False]),\n",
    "}\n",
    "opt = BayesSearchCV(pipe, params_bayes, scoring=\"f1\")\n",
    "opt.fit(X_train_total, y_train_total)"
   ]
  },
  {
   "cell_type": "code",
   "execution_count": null,
   "id": "d0310488",
   "metadata": {
    "lines_to_next_cell": 0
   },
   "outputs": [],
   "source": [
    "save_predictions(opt.best_estimator_, \"xgb.csv\")"
   ]
  },
  {
   "cell_type": "code",
   "execution_count": null,
   "id": "b19359d1",
   "metadata": {},
   "outputs": [],
   "source": []
  }
 ],
 "metadata": {
  "jupytext": {
   "cell_metadata_filter": "-all",
   "main_language": "python",
   "notebook_metadata_filter": "-all"
  }
 },
 "nbformat": 4,
 "nbformat_minor": 5
}
