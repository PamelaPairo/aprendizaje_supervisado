{
 "cells": [
  {
   "cell_type": "code",
   "execution_count": null,
   "id": "3bb3df5a",
   "metadata": {
    "lines_to_next_cell": 0
   },
   "outputs": [],
   "source": [
    "from utils import make_pipeline, X_train, X_val, y_train, y_val\n",
    "from sklearn.linear_model import LogisticRegression\n",
    "from sklearn.metrics import classification_report\n",
    "from sklearn.model_selection import GridSearchCV"
   ]
  },
  {
   "cell_type": "markdown",
   "id": "3edcaf4f",
   "metadata": {
    "lines_to_next_cell": 0
   },
   "source": [
    "## Default"
   ]
  },
  {
   "cell_type": "code",
   "execution_count": null,
   "id": "1d4f5f9c",
   "metadata": {
    "lines_to_next_cell": 0
   },
   "outputs": [],
   "source": [
    "seed = 0\n",
    "pipe = make_pipeline(LogisticRegression(random_state=seed))"
   ]
  },
  {
   "cell_type": "code",
   "execution_count": null,
   "id": "2b192077",
   "metadata": {
    "lines_to_next_cell": 0
   },
   "outputs": [],
   "source": [
    "pipe.fit(X_train, y_train)\n",
    "y_val_pred = pipe.predict(X_val)"
   ]
  },
  {
   "cell_type": "code",
   "execution_count": null,
   "id": "2a9ee88e",
   "metadata": {
    "lines_to_next_cell": 0
   },
   "outputs": [],
   "source": [
    "print(classification_report(y_val, y_val_pred))"
   ]
  },
  {
   "cell_type": "markdown",
   "id": "1e22efb6",
   "metadata": {
    "lines_to_next_cell": 0
   },
   "source": [
    "## Fine Tunning"
   ]
  },
  {
   "cell_type": "code",
   "execution_count": null,
   "id": "32a326cf",
   "metadata": {
    "lines_to_next_cell": 0
   },
   "outputs": [],
   "source": [
    "params = {\n",
    "    \"model__penalty\": [\"l1\", \"l2\"],\n",
    "    \"model__class_weight\": [\"balanced\"],\n",
    "    \"model__solver\": [\"liblinear\", \"saga\"],\n",
    "    \"model__max_iter\": [5000]\n",
    "}\n",
    "clf = GridSearchCV(pipe, param_grid=params, scoring=\"f1\")\n",
    "clf.fit(X_train, y_train)\n",
    "y_val_pred = clf.best_estimator_.predict(X_val)\n",
    "print(classification_report(y_val, y_val_pred))"
   ]
  },
  {
   "cell_type": "code",
   "execution_count": null,
   "id": "395bba72",
   "metadata": {},
   "outputs": [],
   "source": []
  }
 ],
 "metadata": {
  "jupytext": {
   "cell_metadata_filter": "-all",
   "main_language": "python",
   "notebook_metadata_filter": "-all"
  }
 },
 "nbformat": 4,
 "nbformat_minor": 5
}
