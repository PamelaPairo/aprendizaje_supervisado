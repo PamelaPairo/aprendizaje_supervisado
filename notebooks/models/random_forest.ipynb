{
 "cells": [
  {
   "cell_type": "markdown",
   "id": "479b7e03",
   "metadata": {},
   "source": [
    "# Random Forest"
   ]
  },
  {
   "cell_type": "code",
   "execution_count": null,
   "id": "c6c453d5",
   "metadata": {},
   "outputs": [],
   "source": [
    "import pandas as pd\n",
    "from utils import (make_pipeline, X_train, X_val, save_predictions, y_train,\n",
    "                   y_val, X_train_total, y_train_total)\n",
    "from sklearn.metrics import classification_report\n",
    "from sklearn.ensemble import RandomForestClassifier\n",
    "from sklearn.model_selection import train_test_split\n",
    "from sklearn.compose import ColumnTransformer\n",
    "from sklearn.preprocessing import StandardScaler, OneHotEncoder, MinMaxScaler\n",
    "from sklearn.pipeline import Pipeline\n",
    "\n",
    "from skopt import BayesSearchCV\n",
    "from skopt.space import Real, Categorical, Integer"
   ]
  },
  {
   "cell_type": "code",
   "execution_count": null,
   "id": "16b9c957",
   "metadata": {},
   "outputs": [],
   "source": [
    "URL_TRAIN_DATA = \"https://www.famaf.unc.edu.ar/~nocampo043/travel_insurance_prediction_train.csv\"\n",
    "URL_TEST_DATA = \"https://www.famaf.unc.edu.ar/~nocampo043/travel_insurance_prediction_test.csv\"\n",
    "\n",
    "\n",
    "df_train = pd.read_csv(URL_TRAIN_DATA)\n",
    "df_test = pd.read_csv(URL_TEST_DATA)"
   ]
  },
  {
   "cell_type": "code",
   "execution_count": null,
   "id": "ea762784",
   "metadata": {},
   "outputs": [],
   "source": [
    "import sklearn\n",
    "\n",
    "print('The scikit-learn version is {}.'.format(sklearn.__version__))"
   ]
  },
  {
   "cell_type": "code",
   "execution_count": null,
   "id": "9a3e7b63",
   "metadata": {},
   "outputs": [],
   "source": [
    "seed = 0\n",
    "\n",
    "X_train_total = df_train.drop([\"Customer\",\"TravelInsurance\", \"GraduateOrNot\"], axis=1)\n",
    "y_train_total = df_train[\"TravelInsurance\"]"
   ]
  },
  {
   "cell_type": "code",
   "execution_count": null,
   "id": "613a8996",
   "metadata": {},
   "outputs": [],
   "source": [
    "X_train, X_valid, y_train, y_valid = train_test_split(X_train_total,\n",
    "                                                      y_train_total,\n",
    "                                                      test_size=0.2,\n",
    "                                                      random_state=seed)\n",
    "X_test = df_test.drop([\"Customer\", \"GraduateOrNot\"], axis=1)"
   ]
  },
  {
   "cell_type": "code",
   "execution_count": null,
   "id": "59cbde98",
   "metadata": {},
   "outputs": [],
   "source": [
    "numerical_cols = X_train_total.select_dtypes(\n",
    "    include=['float64', 'int64']).columns\n",
    "\n",
    "categorical_cols = X_train_total.select_dtypes(include=['object']).columns\n",
    "\n",
    "vars_to_scale = [\"Age\", \"AnnualIncome\", \"FamilyMembers\"]\n",
    "\n",
    "preprocessor = ColumnTransformer(\n",
    "    [(\"encoder\", OneHotEncoder(), categorical_cols),\n",
    "     (\"scaler\", StandardScaler(), vars_to_scale)],\n",
    "    remainder=\"passthrough\")\n"
   ]
  },
  {
   "cell_type": "code",
   "execution_count": null,
   "id": "29577fb6",
   "metadata": {},
   "outputs": [],
   "source": [
    "pipe_rfc = Pipeline([\n",
    "    (\"preprocessor\", preprocessor),\n",
    "    (\"rfc\", RandomForestClassifier(random_state=seed))\n",
    "])"
   ]
  },
  {
   "cell_type": "code",
   "execution_count": null,
   "id": "c506b521",
   "metadata": {},
   "outputs": [],
   "source": [
    "params_rfc = {\n",
    "    \"rfc__max_depth\": Integer(5, 40),\n",
    "    \"rfc__criterion\":Categorical(['gini', 'entropy']),\n",
    "    \"rfc__min_samples_split\": Integer(3,20),\n",
    "    \"rfc__min_samples_leaf\":Integer(1,25),\n",
    "    \"rfc__bootstrap\": Categorical([False]),\n",
    "    \"rfc__n_estimators\": Integer(20, 150)\n",
    "}\n",
    "\n",
    "opt = BayesSearchCV(pipe_rfc, params_rfc, scoring=\"f1\", cv=3)\n",
    "#opt.fit(X_train_total, y_train_total)"
   ]
  },
  {
   "cell_type": "code",
   "execution_count": null,
   "id": "af02654e",
   "metadata": {},
   "outputs": [],
   "source": [
    "opt.fit(X_train, y_train)"
   ]
  },
  {
   "cell_type": "code",
   "execution_count": null,
   "id": "f06fbfbe",
   "metadata": {},
   "outputs": [],
   "source": [
    "print(opt.score(X_valid, y_valid))"
   ]
  },
  {
   "cell_type": "code",
   "execution_count": null,
   "id": "dba51b4f",
   "metadata": {},
   "outputs": [],
   "source": [
    "opt.best_estimator_"
   ]
  },
  {
   "cell_type": "code",
   "execution_count": null,
   "id": "ae9061b0",
   "metadata": {},
   "outputs": [],
   "source": [
    "y_val_pred = opt.best_estimator_.predict(X_valid)\n",
    "print(classification_report(y_valid, y_val_pred))"
   ]
  },
  {
   "cell_type": "code",
   "execution_count": null,
   "id": "01b24622",
   "metadata": {},
   "outputs": [],
   "source": [
    "from os import makedirs\n",
    "DIR_SUBMISSIONS = \"submissions\"\n",
    "\n",
    "def save_predictions(model, filename):\n",
    "    test_id = df_test[\"Customer\"]\n",
    "    test_pred = model.predict(df_test.drop(columns=[\"Customer\", \"GraduateOrNot\"]))\n",
    "\n",
    "    submission = pd.DataFrame(list(zip(test_id, test_pred)),\n",
    "                              columns=[\"Customer\", \"TravelInsurance\"])\n",
    "    \n",
    "    makedirs(DIR_SUBMISSIONS, exist_ok=True)\n",
    "    submission.to_csv(f\"{DIR_SUBMISSIONS}/{filename}\",\n",
    "                      header=True,\n",
    "                      index=False)"
   ]
  },
  {
   "cell_type": "code",
   "execution_count": null,
   "id": "5fe013de",
   "metadata": {},
   "outputs": [],
   "source": [
    "save_predictions(opt.best_estimator_, \"random_forest.csv\")"
   ]
  },
  {
   "cell_type": "markdown",
   "id": "fc431c39",
   "metadata": {},
   "source": [
    "## Con todo X_train_total"
   ]
  },
  {
   "cell_type": "code",
   "execution_count": null,
   "id": "dd16c75d",
   "metadata": {},
   "outputs": [],
   "source": [
    "opt_total = BayesSearchCV(pipe_rfc, params_rfc, scoring=\"f1\", cv=3)\n",
    "opt_total.fit(X_train_total, y_train_total)"
   ]
  },
  {
   "cell_type": "code",
   "execution_count": null,
   "id": "cd778e50",
   "metadata": {},
   "outputs": [],
   "source": [
    "opt_total.best_estimator_"
   ]
  },
  {
   "cell_type": "code",
   "execution_count": null,
   "id": "7a4d9c42",
   "metadata": {},
   "outputs": [],
   "source": [
    "save_predictions(opt.best_estimator_, \"random_forest_total.csv\")"
   ]
  },
  {
   "cell_type": "code",
   "execution_count": null,
   "id": "1cab0cb0",
   "metadata": {},
   "outputs": [],
   "source": []
  }
 ],
 "metadata": {
  "kernelspec": {
   "display_name": "Python 3",
   "language": "python",
   "name": "python3"
  },
  "language_info": {
   "codemirror_mode": {
    "name": "ipython",
    "version": 3
   },
   "file_extension": ".py",
   "mimetype": "text/x-python",
   "name": "python",
   "nbconvert_exporter": "python",
   "pygments_lexer": "ipython3",
   "version": "3.9.5"
  },
  "toc": {
   "base_numbering": 1,
   "nav_menu": {},
   "number_sections": false,
   "sideBar": true,
   "skip_h1_title": false,
   "title_cell": "Table of Contents",
   "title_sidebar": "Contents",
   "toc_cell": false,
   "toc_position": {},
   "toc_section_display": true,
   "toc_window_display": false
  }
 },
 "nbformat": 4,
 "nbformat_minor": 5
}
