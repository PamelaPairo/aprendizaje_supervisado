{
 "cells": [
  {
   "cell_type": "code",
   "execution_count": null,
   "id": "a42eb98b",
   "metadata": {
    "lines_to_next_cell": 0
   },
   "outputs": [],
   "source": [
    "from utils import (make_pipeline, X_train, X_val, save_predictions, y_train,\n",
    "                   y_val, X_train_total, y_train_total)\n",
    "from sklearn.svm import SVC\n",
    "from sklearn.metrics import classification_report\n",
    "from sklearn.model_selection import GridSearchCV"
   ]
  },
  {
   "cell_type": "markdown",
   "id": "d596e12b",
   "metadata": {
    "lines_to_next_cell": 0
   },
   "source": [
    "## Default"
   ]
  },
  {
   "cell_type": "code",
   "execution_count": null,
   "id": "d9240716",
   "metadata": {
    "lines_to_next_cell": 0
   },
   "outputs": [],
   "source": [
    "pipe = make_pipeline(SVC())"
   ]
  },
  {
   "cell_type": "code",
   "execution_count": null,
   "id": "2fa2bebb",
   "metadata": {
    "lines_to_next_cell": 0
   },
   "outputs": [],
   "source": [
    "pipe.fit(X_train, y_train)\n",
    "y_val_pred = pipe.predict(X_val)"
   ]
  },
  {
   "cell_type": "code",
   "execution_count": null,
   "id": "a9690cd6",
   "metadata": {
    "lines_to_next_cell": 0
   },
   "outputs": [],
   "source": [
    "print(classification_report(y_val, y_val_pred))"
   ]
  },
  {
   "cell_type": "markdown",
   "id": "65acfc68",
   "metadata": {
    "lines_to_next_cell": 0
   },
   "source": [
    "## Fine Tunning"
   ]
  },
  {
   "cell_type": "code",
   "execution_count": null,
   "id": "dfb170d2",
   "metadata": {
    "lines_to_next_cell": 0
   },
   "outputs": [],
   "source": [
    "params = {\n",
    "    \"model__kernel\": [\"linear\", \"sigmoid\", \"poly\", \"rbf\"],\n",
    "    \"model__gamma\": [\"scale\", \"auto\"],\n",
    "    \"model__degree\": [2, 3, 4],\n",
    "    \"model__coef0\": [.001, .01, 0, 1],\n",
    "    \"model__tol\": [1e-2, 1e-3, 1e-4],\n",
    "    \"model__C\": [1, 0.1, 0.01, 0.001, 0.0001, 10],\n",
    "    \"model__class_weight\": [\"balanced\"]\n",
    "}\n",
    "clf = GridSearchCV(pipe, param_grid=params, scoring=\"f1\")\n",
    "clf.fit(X_train, y_train)\n",
    "y_val_pred = clf.best_estimator_.predict(X_val)\n",
    "print(classification_report(y_val, y_val_pred))"
   ]
  },
  {
   "cell_type": "code",
   "execution_count": null,
   "id": "681b7922",
   "metadata": {
    "lines_to_next_cell": 0
   },
   "outputs": [],
   "source": [
    "# Refit with validation data\n",
    "best_model = make_pipeline(\n",
    "    SVC(\n",
    "        **{\n",
    "            key.removeprefix(\"model__\"): value\n",
    "            for key, value in clf.best_params_.items()\n",
    "        }))\n",
    "best_model.fit(X_train_total, y_train_total)"
   ]
  },
  {
   "cell_type": "code",
   "execution_count": null,
   "id": "fb66361b",
   "metadata": {
    "lines_to_next_cell": 0
   },
   "outputs": [],
   "source": [
    "save_predictions(best_model, \"svm.csv\")"
   ]
  },
  {
   "cell_type": "code",
   "execution_count": null,
   "id": "cd0ac39a",
   "metadata": {},
   "outputs": [],
   "source": []
  }
 ],
 "metadata": {
  "jupytext": {
   "cell_metadata_filter": "-all",
   "main_language": "python",
   "notebook_metadata_filter": "-all"
  }
 },
 "nbformat": 4,
 "nbformat_minor": 5
}
