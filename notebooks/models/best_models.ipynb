{
 "cells": [
  {
   "cell_type": "markdown",
   "id": "339d7bee",
   "metadata": {
    "lines_to_next_cell": 0
   },
   "source": [
    "# Diplomatura en Ciencias de Datos, Aprendizaje Automático y sus Aplicaciones\n",
    "\n",
    "Autores: Matías Oria, Antonela Sambuceti, Pamela Pairo, Benjamín Ocampo"
   ]
  },
  {
   "cell_type": "markdown",
   "id": "85ed3248",
   "metadata": {
    "lines_to_next_cell": 0
   },
   "source": [
    "## Mejores 3 Modelos de la Competencia\n",
    "Se trabajó sobre los siguientes modelos:\n",
    "\n",
    "- `xgb`: XGBoost.\n",
    "- `lgr`: Regresión logistica.\n",
    "- `svm`: Support Vector Machines.\n",
    "- `random_forest`: Random Forest.\n",
    "- `dtree`: Decision Tree.\n",
    "- `sgd`: SGD Classifier para regresión logistica.\n",
    "- `nnet`: Neural Networks (Sklearn).\n",
    "- `nnet_keras`: Neural Networks (Keras).\n",
    "\n",
    "De los cuales los `xgb`, `svm`, y `rndforest` lograron los mejores resultados\n",
    "para el conjunto de *test* público en la competencia de Kaggle.\n",
    "\n",
    "La implementación y busqueda de hiperparametros del resto de modelos puede\n",
    "encontrarse en una notebook dedicada para cada uno."
   ]
  },
  {
   "cell_type": "markdown",
   "id": "59b05a8f",
   "metadata": {
    "lines_to_next_cell": 0
   },
   "source": [
    "### Pipeline\n",
    "El pipeline planteado durante el proceso de aprendizaje consiste de 3 capas.\n",
    "\n",
    "- Discretización para las variables continuas `Age`, y `AnnualIncome`.\n",
    "- Códificación one-hot para el resto de variables categoricas.\n",
    "- Modelo.\n",
    "\n",
    "Donde las primeras dos son de preprocesamiento, mientras que la tercera es el\n",
    "predictor utilizado."
   ]
  },
  {
   "cell_type": "code",
   "execution_count": null,
   "id": "5702ac52",
   "metadata": {},
   "outputs": [],
   "source": [
    "from utils import (make_pipeline, save_predictions, X_train_total,\n",
    "                   y_train_total, X_train, X_val, y_train, y_val)\n",
    "from sklearn.metrics import classification_report\n",
    "from sklearn.model_selection import GridSearchCV\n",
    "from skopt import BayesSearchCV\n",
    "from skopt.space import Real, Categorical, Integer"
   ]
  },
  {
   "cell_type": "markdown",
   "id": "e15a8368",
   "metadata": {
    "lines_to_next_cell": 0
   },
   "source": [
    "### 1º XGBoost\n",
    "Para este modelo se optó por realizar una busqueda de hiperparámetros\n",
    "utilizando todas las filas y columnas del conjunto de entrenamiento por medio\n",
    "de una Busqueda Bayesiana (`Bayesian Search`) donde se especifica un rango o\n",
    "espacio sobre los parametros que se desean encontrar. Este espacio se recorre\n",
    "de manera apropiada recordando iteraciones pasadas de busqueda hasta encontrar\n",
    "el modelo óptimo. Algo a recalcar es que no solamente se ajustó la signature\n",
    "del clasificador, si no que también se intentó encontrar distintas\n",
    "discretizaciones posibles durante el preprocesamiento. \n",
    "\n",
    "Resultado en Kaggle f1-score: 0.80898"
   ]
  },
  {
   "cell_type": "code",
   "execution_count": null,
   "id": "43c39296",
   "metadata": {
    "lines_to_next_cell": 0
   },
   "outputs": [],
   "source": [
    "from xgboost import XGBClassifier\n",
    "\n",
    "xgboost = make_pipeline(XGBClassifier())\n",
    "params_bayes = {\n",
    "    \"preprocessor__discretizer__n_bins\": Integer(2, 25),\n",
    "    \"model__objective\": Categorical([\"binary:logistic\"]),\n",
    "    \"model__n_estimators\": Integer(10, 500),\n",
    "    \"model__gamma\": Real(1e-6, 1),\n",
    "    \"model__max_depth\": Integer(4, 20),\n",
    "    \"model__learning_rate\": Real(1e-4, 1),\n",
    "    \"model__alpha\": Real(1e-4, 1),\n",
    "    \"model__booster\": Categorical([\"gbtree\", \"gblinear\", \"dart\"]),\n",
    "    \"model__colsample_bytree\": Real(.5, 1),\n",
    "    \"model__subsample\": Real(.6, 1),\n",
    "    \"model__eval_metric\": Categorical([\"logloss\"]),\n",
    "    \"model__use_label_encoder\": Categorical([False]),\n",
    "}\n",
    "opt = BayesSearchCV(xgboost, params_bayes, scoring=\"f1\")\n",
    "opt.fit(X_train_total, y_train_total)\n",
    "save_predictions(opt.best_estimator_, \"xgb.csv\")\n",
    "opt.best_params_"
   ]
  },
  {
   "cell_type": "markdown",
   "id": "c41abcf5",
   "metadata": {
    "lines_to_next_cell": 0
   },
   "source": [
    "### 2º SVM\n",
    "El segundo modelo consta de una busqueda de hiperparametros por medio de una\n",
    "Grid Search recorriendo sobre 4 kernels posibles, `linear`, `sigmoid`, `poly`,\n",
    "`rbf`. A diferencia de `xgb`, en este caso se optó por dividir los datos en\n",
    "train y validación para obtener métricas del modelo sobre este último conjunto.\n",
    "Una vez realizada la busqueda de hiperparametros sobre el conjunto de datos de\n",
    "entrenamiento, se utilizan los mejores hiperparametros para realizar un último\n",
    "ajuste con `train` + `validation`.\n",
    "\n",
    "Resultado en Kaggle f1-score: 0.80459"
   ]
  },
  {
   "cell_type": "code",
   "execution_count": null,
   "id": "c55ed5f1",
   "metadata": {
    "lines_to_next_cell": 0
   },
   "outputs": [],
   "source": [
    "from sklearn.svm import SVC\n",
    "svm = make_pipeline(SVC())\n",
    "\n",
    "params = {\n",
    "    \"model__kernel\": [\"linear\", \"sigmoid\", \"poly\", \"rbf\"],\n",
    "    \"model__gamma\": [\"scale\", \"auto\"],\n",
    "    \"model__degree\": [2, 3, 4],\n",
    "    \"model__coef0\": [.001, .01, 0, 1],\n",
    "    \"model__tol\": [1e-2, 1e-3, 1e-4],\n",
    "    \"model__C\": [1, 0.1, 0.01, 0.001, 0.0001, 10],\n",
    "    \"model__class_weight\": [\"balanced\"]\n",
    "}\n",
    "clf = GridSearchCV(svm, param_grid=params, scoring=\"f1\")\n",
    "clf.fit(X_train, y_train)\n",
    "y_val_pred = clf.best_estimator_.predict(X_val)\n",
    "print(classification_report(y_val, y_val_pred))"
   ]
  },
  {
   "cell_type": "code",
   "execution_count": null,
   "id": "7e11ec4d",
   "metadata": {
    "lines_to_next_cell": 0
   },
   "outputs": [],
   "source": [
    "# Refit with validation data\n",
    "best_model = make_pipeline(\n",
    "    SVC(\n",
    "        **{\n",
    "            key.removeprefix(\"model__\"): value\n",
    "            for key, value in clf.best_params_.items()\n",
    "        }))\n",
    "best_model.fit(X_train_total, y_train_total)\n",
    "save_predictions(best_model, \"svm.csv\")"
   ]
  },
  {
   "cell_type": "markdown",
   "id": "af3f3149",
   "metadata": {
    "lines_to_next_cell": 0
   },
   "source": [
    "### 3º Random Forest\n",
    "En este último caso, se optó por utilizar Busqueda Bayesiana dividiendo los datos de entrenamiento y se obtuvo el score F1 mas alto eliminando la variable `GraduateOrNot`-\n",
    "\n",
    "Resultado en Kaggle f1-score: 0.80459"
   ]
  },
  {
   "cell_type": "code",
   "execution_count": null,
   "id": "bd0dd513",
   "metadata": {},
   "outputs": [],
   "source": [
    "X_train_total = df_train.drop([\"Customer\",\"TravelInsurance\", \"GraduateOrNot\"], axis=1)\n",
    "y_train_total = df_train[\"TravelInsurance\"]"
   ]
  },
  {
   "cell_type": "code",
   "execution_count": null,
   "id": "6e4257d0",
   "metadata": {},
   "outputs": [],
   "source": [
    "X_train, X_valid, y_train, y_valid = train_test_split(X_train_total,\n",
    "                                                      y_train_total,\n",
    "                                                      test_size=0.2,\n",
    "                                                      random_state=seed)\n",
    "X_test = df_test.drop([\"Customer\", \"GraduateOrNot\"], axis=1)"
   ]
  },
  {
   "cell_type": "code",
   "execution_count": null,
   "id": "62d5cff5",
   "metadata": {},
   "outputs": [],
   "source": [
    "numerical_cols = X_train_total.select_dtypes(\n",
    "    include=['float64', 'int64']).columns\n",
    "\n",
    "categorical_cols = X_train_total.select_dtypes(include=['object']).columns\n",
    "\n",
    "vars_to_scale = [\"Age\", \"AnnualIncome\", \"FamilyMembers\"]\n",
    "\n",
    "preprocessor = ColumnTransformer(\n",
    "    [(\"encoder\", OneHotEncoder(), categorical_cols),\n",
    "     (\"scaler\", StandardScaler(), vars_to_scale)],\n",
    "    remainder=\"passthrough\")"
   ]
  },
  {
   "cell_type": "code",
   "execution_count": null,
   "id": "2fc9b8ee",
   "metadata": {},
   "outputs": [],
   "source": [
    "pipe_rfc = Pipeline([\n",
    "    (\"preprocessor\", preprocessor),\n",
    "    (\"rfc\", RandomForestClassifier(random_state=seed))\n",
    "])"
   ]
  },
  {
   "cell_type": "code",
   "execution_count": null,
   "id": "829352bc",
   "metadata": {},
   "outputs": [],
   "source": [
    "from sklearn.ensemble import RandomForestClassifier\n",
    "params_rfc = {\n",
    "    \"rfc__max_depth\": Integer(5, 40),\n",
    "    \"rfc__criterion\":Categorical(['gini', 'entropy']),\n",
    "    \"rfc__min_samples_split\": Integer(3,20),\n",
    "    \"rfc__min_samples_leaf\":Integer(1,25),\n",
    "    \"rfc__bootstrap\": Categorical([False]),\n",
    "    \"rfc__n_estimators\": Integer(20, 150)\n",
    "}\n",
    "\n",
    "opt = BayesSearchCV(pipe_rfc, params_rfc, scoring=\"f1\", cv=3)\n",
    "opt.fit(X_train, y_train)"
   ]
  },
  {
   "cell_type": "code",
   "execution_count": null,
   "id": "636ff3d5",
   "metadata": {},
   "outputs": [],
   "source": [
    "opt.best_estimator_"
   ]
  },
  {
   "cell_type": "code",
   "execution_count": null,
   "id": "dde0fd43",
   "metadata": {},
   "outputs": [],
   "source": [
    "y_val_pred = opt.best_estimator_.predict(X_valid)\n",
    "print(classification_report(y_valid, y_val_pred))"
   ]
  },
  {
   "cell_type": "code",
   "execution_count": null,
   "id": "ac528c29",
   "metadata": {},
   "outputs": [],
   "source": [
    "def save_predictions(model, filename):\n",
    "    test_id = df_test[\"Customer\"]\n",
    "    test_pred = model.predict(df_test.drop(columns=[\"Customer\", \"GraduateOrNot\"]))\n",
    "\n",
    "    submission = pd.DataFrame(list(zip(test_id, test_pred)),\n",
    "                              columns=[\"Customer\", \"TravelInsurance\"])\n",
    "    \n",
    "    makedirs(DIR_SUBMISSIONS, exist_ok=True)\n",
    "    submission.to_csv(f\"{DIR_SUBMISSIONS}/{filename}\",\n",
    "                      header=True,\n",
    "                      index=False)"
   ]
  },
  {
   "cell_type": "code",
   "execution_count": null,
   "id": "6585b744",
   "metadata": {},
   "outputs": [],
   "source": [
    "save_predictions(opt.best_estimator_, \"random_forest.csv\")"
   ]
  }
 ],
 "metadata": {
  "jupytext": {
   "cell_metadata_filter": "-all",
   "main_language": "python",
   "notebook_metadata_filter": "-all"
  },
  "kernelspec": {
   "display_name": "Python 3",
   "language": "python",
   "name": "python3"
  },
  "language_info": {
   "codemirror_mode": {
    "name": "ipython",
    "version": 3
   },
   "file_extension": ".py",
   "mimetype": "text/x-python",
   "name": "python",
   "nbconvert_exporter": "python",
   "pygments_lexer": "ipython3",
   "version": "3.9.5"
  },
  "toc": {
   "base_numbering": 1,
   "nav_menu": {},
   "number_sections": true,
   "sideBar": true,
   "skip_h1_title": false,
   "title_cell": "Table of Contents",
   "title_sidebar": "Contents",
   "toc_cell": false,
   "toc_position": {},
   "toc_section_display": true,
   "toc_window_display": false
  }
 },
 "nbformat": 4,
 "nbformat_minor": 5
}
