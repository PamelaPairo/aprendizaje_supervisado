{
 "cells": [
  {
   "cell_type": "markdown",
   "id": "488c32c7",
   "metadata": {},
   "source": [
    "# Naive Bayes"
   ]
  },
  {
   "cell_type": "code",
   "execution_count": null,
   "id": "edd15d31",
   "metadata": {},
   "outputs": [],
   "source": [
    "from sklearn.metrics import classification_report\n",
    "from sklearn.naive_bayes import MultinomialNB\n",
    "from sklearn.compose import ColumnTransformer\n",
    "from sklearn.preprocessing import StandardScaler, OneHotEncoder, MinMaxScaler\n",
    "from sklearn.pipeline import Pipeline\n",
    "\n",
    "\n",
    "import pandas as pd\n",
    "from sklearn.model_selection import train_test_split, GridSearchCV"
   ]
  },
  {
   "cell_type": "code",
   "execution_count": null,
   "id": "4383fc01",
   "metadata": {},
   "outputs": [],
   "source": [
    "URL_TRAIN_DATA = \"https://www.famaf.unc.edu.ar/~nocampo043/travel_insurance_prediction_train.csv\"\n",
    "URL_TEST_DATA = \"https://www.famaf.unc.edu.ar/~nocampo043/travel_insurance_prediction_test.csv\"\n",
    "\n",
    "\n",
    "df_train = pd.read_csv(URL_TRAIN_DATA)\n",
    "df_test = pd.read_csv(URL_TEST_DATA)"
   ]
  },
  {
   "cell_type": "code",
   "execution_count": null,
   "id": "6bd35d44",
   "metadata": {},
   "outputs": [],
   "source": [
    "X_train_total = df_train.drop([\"Customer\",\"TravelInsurance\", \"GraduateOrNot\"], axis=1)\n",
    "y_train_total = df_train[\"TravelInsurance\"]"
   ]
  },
  {
   "cell_type": "code",
   "execution_count": null,
   "id": "3e6b2935",
   "metadata": {},
   "outputs": [],
   "source": [
    "seed=0\n",
    "X_train, X_valid, y_train, y_valid = train_test_split(X_train_total,\n",
    "                                                      y_train_total,\n",
    "                                                      test_size=0.2,\n",
    "                                                      random_state=seed)"
   ]
  },
  {
   "cell_type": "code",
   "execution_count": null,
   "id": "f5a41418",
   "metadata": {},
   "outputs": [],
   "source": [
    "X_test = df_test.drop([\"Customer\", \"GraduateOrNot\"], axis=1)"
   ]
  },
  {
   "cell_type": "code",
   "execution_count": null,
   "id": "2a986447",
   "metadata": {},
   "outputs": [],
   "source": [
    "numerical_cols = X_train_total.select_dtypes(\n",
    "    include=['float64', 'int64']).columns\n",
    "\n",
    "categorical_cols = X_train_total.select_dtypes(include=['object']).columns\n",
    "\n",
    "vars_to_scale = [\"Age\", \"AnnualIncome\", \"FamilyMembers\"]"
   ]
  },
  {
   "cell_type": "code",
   "execution_count": null,
   "id": "63a46e10",
   "metadata": {},
   "outputs": [],
   "source": [
    "preprocessor_naive = ColumnTransformer(\n",
    "    [(\"encoder\", OneHotEncoder(), categorical_cols),\n",
    "     (\"scaler\", MinMaxScaler(), vars_to_scale)],# daba un error que decia que no acepta valores negativos en train, asi que lleve los valores a una escala de 0-1\n",
    "    remainder=\"passthrough\")\n",
    "\n",
    "pipe_naive = Pipeline([\n",
    "    (\"preprocessor\", preprocessor_naive),\n",
    "    (\"naive\", MultinomialNB())\n",
    "])"
   ]
  },
  {
   "cell_type": "code",
   "execution_count": null,
   "id": "e10b0ecf",
   "metadata": {},
   "outputs": [],
   "source": [
    "param_naive = {\n",
    "    'naive__alpha': [0.5, 0.4, 0.3, 0.01, 1],\n",
    "    'naive__fit_prior': [1, 0],\n",
    "    'naive__class_prior': [None, [0.5, 0.5], [0.6426, 0.3573]]\n",
    "}\n",
    "\n",
    "clf_naive = GridSearchCV(pipe_naive, param_grid=param_naive, scoring=\"f1\", cv=3)\n",
    "clf_naive.fit(X_train, y_train)"
   ]
  },
  {
   "cell_type": "code",
   "execution_count": null,
   "id": "328874bd",
   "metadata": {},
   "outputs": [],
   "source": [
    "clf_naive.best_params_"
   ]
  },
  {
   "cell_type": "code",
   "execution_count": null,
   "id": "913819b1",
   "metadata": {},
   "outputs": [],
   "source": [
    "y_train_pred_naiv = clf_naive.best_estimator_.predict(X_train)\n",
    "y_val_pred_naiv = clf_naive.best_estimator_.predict(X_valid)\n",
    "y_test_pred_naiv = clf_naive.best_estimator_.predict(X_test)"
   ]
  },
  {
   "cell_type": "code",
   "execution_count": null,
   "id": "e20c695c",
   "metadata": {},
   "outputs": [],
   "source": [
    "text = \"Naive Bayes - Reporte de clasificación del conjunto de validation\"\n",
    "print(len(text)*\"=\")\n",
    "print(text)\n",
    "print(len(text)*\"=\")\n",
    "print(classification_report(y_valid, y_val_pred_naiv))"
   ]
  }
 ],
 "metadata": {
  "kernelspec": {
   "display_name": "Python 3",
   "language": "python",
   "name": "python3"
  },
  "language_info": {
   "codemirror_mode": {
    "name": "ipython",
    "version": 3
   },
   "file_extension": ".py",
   "mimetype": "text/x-python",
   "name": "python",
   "nbconvert_exporter": "python",
   "pygments_lexer": "ipython3",
   "version": "3.9.5"
  },
  "toc": {
   "base_numbering": 1,
   "nav_menu": {},
   "number_sections": false,
   "sideBar": true,
   "skip_h1_title": false,
   "title_cell": "Table of Contents",
   "title_sidebar": "Contents",
   "toc_cell": false,
   "toc_position": {},
   "toc_section_display": true,
   "toc_window_display": false
  }
 },
 "nbformat": 4,
 "nbformat_minor": 5
}
