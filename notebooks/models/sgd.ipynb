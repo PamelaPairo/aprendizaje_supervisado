{
 "cells": [
  {
   "cell_type": "code",
   "execution_count": null,
   "id": "04776021",
   "metadata": {
    "lines_to_next_cell": 0
   },
   "outputs": [],
   "source": [
    "from numpy.lib.npyio import save\n",
    "from utils import make_pipeline, X_train, X_val, save_predictions, y_train, y_val, df_test\n",
    "from sklearn.svm import SVC\n",
    "from sklearn.metrics import classification_report\n",
    "from sklearn.model_selection import GridSearchCV"
   ]
  },
  {
   "cell_type": "code",
   "execution_count": null,
   "id": "02cfad28",
   "metadata": {
    "lines_to_next_cell": 0
   },
   "outputs": [],
   "source": [
    "pipe = make_pipeline(SVC())"
   ]
  },
  {
   "cell_type": "code",
   "execution_count": null,
   "id": "6333c962",
   "metadata": {
    "lines_to_next_cell": 0
   },
   "outputs": [],
   "source": [
    "pipe.fit(X_train, y_train)\n",
    "y_val_pred = pipe.predict(X_val)"
   ]
  },
  {
   "cell_type": "code",
   "execution_count": null,
   "id": "2d40a063",
   "metadata": {
    "lines_to_next_cell": 0
   },
   "outputs": [],
   "source": [
    "print(classification_report(y_val, y_val_pred))"
   ]
  },
  {
   "cell_type": "code",
   "execution_count": null,
   "id": "f581b7bf",
   "metadata": {
    "lines_to_next_cell": 0
   },
   "outputs": [],
   "source": [
    "params = {\n",
    "    \"model__penalty\": [\"l1\", \"l2\"],\n",
    "    \"model__alpha\": [0.01, 0.1, 0.001, 0.0001],\n",
    "    \"model__loss\":\n",
    "    ['hinge', 'log', 'modified_huber', 'squared_hinge', 'perceptron'],\n",
    "    \"model__eta0\": [10, 1e-2, 1e-3, 1e-4],\n",
    "    \"model__learning_rate\": ['optimal', 'constant', 'adaptive']\n",
    "}\n",
    "clf = GridSearchCV(pipe, param_grid=params, scoring=\"f1\")\n",
    "clf.fit(X_train, y_train)\n",
    "y_val_pred = clf.best_estimator_.predict(X_val)\n",
    "print(classification_report(y_val, y_val_pred))"
   ]
  },
  {
   "cell_type": "code",
   "execution_count": null,
   "id": "fefd3f1d",
   "metadata": {},
   "outputs": [],
   "source": [
    "save_predictions(clf.best_estimator_, \"sgd.csv\")"
   ]
  }
 ],
 "metadata": {
  "jupytext": {
   "cell_metadata_filter": "-all",
   "main_language": "python",
   "notebook_metadata_filter": "-all"
  }
 },
 "nbformat": 4,
 "nbformat_minor": 5
}
