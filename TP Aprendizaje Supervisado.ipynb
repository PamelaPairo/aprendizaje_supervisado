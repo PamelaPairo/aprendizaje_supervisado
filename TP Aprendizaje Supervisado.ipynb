{
 "cells": [
  {
   "cell_type": "markdown",
   "id": "304cb0e2",
   "metadata": {},
   "source": [
    "# APRENDIZAJE SUPERVISADO"
   ]
  },
  {
   "cell_type": "markdown",
   "id": "c9f06909",
   "metadata": {},
   "source": [
    "## Importación de librerias"
   ]
  },
  {
   "cell_type": "code",
   "execution_count": null,
   "id": "250823ea",
   "metadata": {},
   "outputs": [],
   "source": [
    "import pandas as pd\n",
    "import numpy as np\n",
    "import matplotlib.pyplot as plt\n",
    "import seaborn as sns\n",
    "from sklearn.linear_model import LogisticRegression\n",
    "from sklearn.pipeline import Pipeline\n",
    "from sklearn.preprocessing import StandardScaler\n",
    "from sklearn.metrics import classification_report, confusion_matrix, plot_confusion_matrix\n",
    "from sklearn.tree import DecisionTreeClassifier\n",
    "from sklearn.model_selection import train_test_split\n",
    "from sklearn.metrics import accuracy_score"
   ]
  },
  {
   "cell_type": "markdown",
   "id": "b319526b",
   "metadata": {},
   "source": [
    "## Lectura del dataset"
   ]
  },
  {
   "cell_type": "code",
   "execution_count": null,
   "id": "588dc0ea",
   "metadata": {},
   "outputs": [],
   "source": [
    "URL_TRAIN_DATA = \"https://www.famaf.unc.edu.ar/~nocampo043/travel_insurance_prediction_train.csv\"\n",
    "URL_TEST_DATA = \"https://www.famaf.unc.edu.ar/~nocampo043/travel_insurance_prediction_test.csv\"\n",
    "\n",
    "\n",
    "df_train = pd.read_csv(URL_TRAIN_DATA)\n",
    "df_test = pd.read_csv(URL_TEST_DATA)"
   ]
  },
  {
   "cell_type": "code",
   "execution_count": null,
   "id": "89533402",
   "metadata": {},
   "outputs": [],
   "source": [
    "df_train.info()"
   ]
  },
  {
   "cell_type": "code",
   "execution_count": null,
   "id": "7f808678",
   "metadata": {},
   "outputs": [],
   "source": [
    "df_test.info()"
   ]
  },
  {
   "cell_type": "code",
   "execution_count": null,
   "id": "0cd003bd",
   "metadata": {},
   "outputs": [],
   "source": [
    "df_train"
   ]
  },
  {
   "cell_type": "code",
   "execution_count": null,
   "id": "8acbde2b",
   "metadata": {},
   "outputs": [],
   "source": [
    "df_test"
   ]
  },
  {
   "cell_type": "markdown",
   "id": "5b27a62a",
   "metadata": {},
   "source": [
    "## Análisis descriptivo"
   ]
  },
  {
   "cell_type": "code",
   "execution_count": null,
   "id": "5a563560",
   "metadata": {},
   "outputs": [],
   "source": [
    "df_train.describe().round()"
   ]
  },
  {
   "cell_type": "markdown",
   "id": "93f5665a",
   "metadata": {},
   "source": [
    "### Variable objetivo o target: Travel Insurance"
   ]
  },
  {
   "cell_type": "code",
   "execution_count": null,
   "id": "92b39356",
   "metadata": {},
   "outputs": [],
   "source": [
    "df_train[\"TravelInsurance\"].value_counts()"
   ]
  },
  {
   "cell_type": "code",
   "execution_count": null,
   "id": "4c01e305",
   "metadata": {},
   "outputs": [],
   "source": [
    "fig = plt.figure(figsize=(5,5))\n",
    "sns.countplot(data=df_train, x=\"TravelInsurance\")"
   ]
  },
  {
   "cell_type": "markdown",
   "id": "cb657f1b",
   "metadata": {},
   "source": [
    "### Correlación variables"
   ]
  },
  {
   "cell_type": "code",
   "execution_count": null,
   "id": "f2084fc2",
   "metadata": {
    "lines_to_next_cell": 0
   },
   "outputs": [],
   "source": [
    "corr = df_train[[\"TravelInsurance\",\"AnnualIncome\", \"Age\"]].corr().round(2)\n",
    "corr = corr[['TravelInsurance']]\n",
    "corr.loc[:, 'abs_corr'] = np.abs(corr['TravelInsurance'])\n",
    "corr.sort_values(by='abs_corr', ascending=False)"
   ]
  },
  {
   "cell_type": "code",
   "execution_count": null,
   "id": "24cc613d",
   "metadata": {
    "lines_to_next_cell": 0
   },
   "outputs": [],
   "source": [
    "plt.figure(figsize=(10,10))\n",
    "corr = df_train.corr()\n",
    "sns.heatmap(corr, xticklabels = corr.columns, yticklabels = corr.columns, annot=True, cmap= 'coolwarm')\n",
    "plt.show()"
   ]
  },
  {
   "cell_type": "markdown",
   "id": "071756cd",
   "metadata": {},
   "source": [
    "### Variable explicativa: Age"
   ]
  },
  {
   "cell_type": "markdown",
   "id": "8fd26edc",
   "metadata": {
    "lines_to_next_cell": 0
   },
   "source": [
    "En primer lugar, observamos la distribución de la variable Age en el df_train."
   ]
  },
  {
   "cell_type": "code",
   "execution_count": null,
   "id": "4b562664",
   "metadata": {
    "lines_to_next_cell": 0
   },
   "outputs": [],
   "source": [
    "sns.countplot(data=df_train, x=\"Age\", hue=\"TravelInsurance\")"
   ]
  },
  {
   "cell_type": "code",
   "execution_count": null,
   "id": "04abe713",
   "metadata": {
    "lines_to_next_cell": 0
   },
   "outputs": [],
   "source": [
    "df_train[[\"TravelInsurance\", \"Age\"]].groupby(\"TravelInsurance\").describe()"
   ]
  },
  {
   "cell_type": "markdown",
   "id": "ce80acf2",
   "metadata": {
    "lines_to_next_cell": 0
   },
   "source": [
    "Podemos observar que se encuentran fluctuaciones con respecto a la edad."
   ]
  },
  {
   "cell_type": "markdown",
   "id": "ec438234",
   "metadata": {},
   "source": [
    "### Variable explicativa: AnnualIncome"
   ]
  },
  {
   "cell_type": "markdown",
   "id": "f176ac34",
   "metadata": {},
   "source": [
    "En primer lugar, observamos la distribución de la variable Annual Income en el df_train."
   ]
  },
  {
   "cell_type": "code",
   "execution_count": null,
   "id": "62447dbe",
   "metadata": {},
   "outputs": [],
   "source": [
    "fig = plt.figure(figsize=(8,8))\n",
    "sns.boxenplot(data=df_train, x=\"AnnualIncome\")\n",
    "plt.ticklabel_format(style='plain', axis='x')"
   ]
  },
  {
   "cell_type": "code",
   "execution_count": null,
   "id": "2088781e",
   "metadata": {},
   "outputs": [],
   "source": [
    "fig = plt.figure(figsize=(8,8))\n",
    "sns.boxenplot(data=df_train, x=\"TravelInsurance\", y=\"AnnualIncome\")\n",
    "plt.ticklabel_format(style='plain', axis='y')"
   ]
  },
  {
   "cell_type": "code",
   "execution_count": null,
   "id": "6a9cdc64",
   "metadata": {
    "lines_to_next_cell": 0
   },
   "outputs": [],
   "source": [
    "(\n",
    "    df_train[[\"TravelInsurance\", \"AnnualIncome\"]]\n",
    "        .groupby([\"TravelInsurance\"])\n",
    "        .describe()\n",
    ")"
   ]
  },
  {
   "cell_type": "markdown",
   "id": "ca528479",
   "metadata": {},
   "source": [
    "Podemos observar que la distribución de la variable Annual Income se ve afectada en gran medida, al condicionarla por las distintas clases de la variable TARGET. Si bien los valores mínimos y máximos son similares, la media y la mediana difieren considerablemente, como así también el rango intercuantil.\n",
    "Es una varible que se considera importante para explicar el comportamiento de Y."
   ]
  },
  {
   "cell_type": "markdown",
   "id": "58f99bec",
   "metadata": {
    "lines_to_next_cell": 0
   },
   "source": [
    "### Variable explicativa: Employment Type"
   ]
  },
  {
   "cell_type": "code",
   "execution_count": null,
   "id": "25eacc4c",
   "metadata": {
    "lines_to_next_cell": 0
   },
   "outputs": [],
   "source": [
    "df_train[\"Employment Type\"].value_counts()\n",
    "pd.crosstab(df_train[\"TravelInsurance\"], df_train[\"GraduateOrNot\"])"
   ]
  },
  {
   "cell_type": "code",
   "execution_count": null,
   "id": "11fad648",
   "metadata": {},
   "outputs": [],
   "source": [
    "fig = plt.figure(figsize=(5, 5))\n",
    "sns.countplot(data=df_train,\n",
    "              x=\"TravelInsurance\",\n",
    "              hue=df_train[\"Employment Type\"])\n",
    "pd.crosstab(df_train[\"TravelInsurance\"], df_train[\"Employment Type\"])"
   ]
  },
  {
   "cell_type": "markdown",
   "id": "3faba8e5",
   "metadata": {},
   "source": [
    "### Variable explicativa: Graduate Or Not"
   ]
  },
  {
   "cell_type": "code",
   "execution_count": null,
   "id": "7ab4089d",
   "metadata": {
    "lines_to_next_cell": 0
   },
   "outputs": [],
   "source": [
    "df_train[\"GraduateOrNot\"].value_counts()"
   ]
  },
  {
   "cell_type": "code",
   "execution_count": null,
   "id": "80b54db0",
   "metadata": {
    "lines_to_next_cell": 0
   },
   "outputs": [],
   "source": [
    "fig = plt.figure(figsize=(5, 5))\n",
    "sns.countplot(data=df_train,\n",
    "              x=\"TravelInsurance\",\n",
    "              hue=df_train[\"GraduateOrNot\"])"
   ]
  },
  {
   "cell_type": "code",
   "execution_count": null,
   "id": "f237181c",
   "metadata": {
    "lines_to_next_cell": 0
   },
   "outputs": [],
   "source": [
    "df_train"
   ]
  },
  {
   "cell_type": "markdown",
   "id": "f5090438",
   "metadata": {},
   "source": [
    "### Variable explicativa: Frequent Flyer"
   ]
  },
  {
   "cell_type": "code",
   "execution_count": null,
   "id": "ad8167f1",
   "metadata": {},
   "outputs": [],
   "source": [
    "df_train[\"FrequentFlyer\"].value_counts()"
   ]
  },
  {
   "cell_type": "markdown",
   "id": "31d12a88",
   "metadata": {},
   "source": [
    "### Variable explicativa: Ever Travelled Abroad"
   ]
  },
  {
   "cell_type": "code",
   "execution_count": null,
   "id": "7db1eb04",
   "metadata": {},
   "outputs": [],
   "source": [
    "df_train[\"EverTravelledAbroad\"].value_counts()"
   ]
  },
  {
   "cell_type": "markdown",
   "id": "813d6d2d",
   "metadata": {},
   "source": [
    "### Variable explicativa: Employment Type"
   ]
  },
  {
   "cell_type": "code",
   "execution_count": null,
   "id": "694e4dbc",
   "metadata": {},
   "outputs": [],
   "source": [
    "sns.countplot(data=df_train, x=\"Employment Type\")"
   ]
  },
  {
   "cell_type": "markdown",
   "id": "abd6d28d",
   "metadata": {},
   "source": [
    "Para el entrenamiento de los modelos no utilizaremos las variable Customer y Travel Insurance (Target)"
   ]
  },
  {
   "cell_type": "code",
   "execution_count": null,
   "id": "7674fa18",
   "metadata": {
    "tags": []
   },
   "outputs": [],
   "source": [
    "X_train_total = df_train.drop([\"Customer\",\"TravelInsurance\"], axis=1)\n",
    "Y_train_total = df_train[\"TravelInsurance\"]"
   ]
  },
  {
   "cell_type": "markdown",
   "id": "48f5876b",
   "metadata": {
    "lines_to_next_cell": 0
   },
   "source": [
    "### Variable explicativa: Family Members"
   ]
  },
  {
   "cell_type": "code",
   "execution_count": null,
   "id": "fb407267",
   "metadata": {
    "lines_to_next_cell": 0
   },
   "outputs": [],
   "source": [
    "df_train.columns"
   ]
  },
  {
   "cell_type": "code",
   "execution_count": null,
   "id": "7e1e7316",
   "metadata": {
    "lines_to_next_cell": 0
   },
   "outputs": [],
   "source": [
    "plt.figure(figsize=(10,8))\n",
    "sns.histplot(data=df_train, x=\"FamilyMembers\", hue= 'TravelInsurance', multiple=\"stack\")"
   ]
  },
  {
   "cell_type": "markdown",
   "id": "4ab111e1",
   "metadata": {
    "lines_to_next_cell": 0
   },
   "source": [
    "### Variable explicativa: Chronic Diseases"
   ]
  },
  {
   "cell_type": "code",
   "execution_count": null,
   "id": "246eec58",
   "metadata": {
    "lines_to_next_cell": 0
   },
   "outputs": [],
   "source": [
    "plt.figure(figsize=(10,8))\n",
    "ax= sns.countplot(data= df_train, x=\"ChronicDiseases\", hue= \"TravelInsurance\")\n",
    "legend_labels, _= ax.get_legend_handles_labels()\n",
    "ax.legend(legend_labels, ['Not buyed', 'Buyed'], #ver de cambiar!\n",
    "          title_fontsize = 18,\n",
    "          fontsize = 15,\n",
    "          bbox_to_anchor=(1,1),\n",
    "          title='Travel Insurance')"
   ]
  },
  {
   "cell_type": "markdown",
   "id": "d2fed0a1",
   "metadata": {
    "lines_to_next_cell": 0
   },
   "source": [
    "### Variable explicativa: FrequentFlyer"
   ]
  },
  {
   "cell_type": "code",
   "execution_count": null,
   "id": "34d5be33",
   "metadata": {
    "lines_to_next_cell": 0
   },
   "outputs": [],
   "source": [
    "fig = plt.figure(figsize=(5,5))\n",
    "sns.countplot(data=df_train, x=\"TravelInsurance\", hue=df_train.FrequentFlyer)\n",
    "\n",
    "pd.crosstab(df_train[\"TravelInsurance\"], df_train[\"FrequentFlyer\"])"
   ]
  },
  {
   "cell_type": "markdown",
   "id": "e397b50f",
   "metadata": {
    "lines_to_next_cell": 0
   },
   "source": [
    "Se puede observar en este gráfico que si no sos viajero frecuente la cantidad\n",
    "de clientes que contratan un seguro es baja, caso contrario la cantidad de\n",
    "contratar un seguro es pareja."
   ]
  },
  {
   "cell_type": "markdown",
   "id": "4d50666c",
   "metadata": {
    "lines_to_next_cell": 0
   },
   "source": [
    "### Variable explicativa: EverTravelledAbroad"
   ]
  },
  {
   "cell_type": "code",
   "execution_count": null,
   "id": "a7269c31",
   "metadata": {
    "lines_to_next_cell": 0
   },
   "outputs": [],
   "source": [
    "fig = plt.figure(figsize=(5, 5))\n",
    "sns.countplot(data=df_train, x=\"TravelInsurance\", hue=df_train.EverTravelledAbroad)\n",
    "\n",
    "pd.crosstab(df_train[\"TravelInsurance\"], df_train[\"EverTravelledAbroad\"])"
   ]
  },
  {
   "cell_type": "markdown",
   "id": "cfa53e75",
   "metadata": {},
   "source": [
    "## Encoding variables"
   ]
  },
  {
   "cell_type": "code",
   "execution_count": null,
   "id": "b40f5854",
   "metadata": {
    "tags": []
   },
   "outputs": [],
   "source": [
    "numerical_cols = X_train_total.select_dtypes(include=['float64', 'int64']).columns"
   ]
  },
  {
   "cell_type": "code",
   "execution_count": null,
   "id": "85a53e94",
   "metadata": {},
   "outputs": [],
   "source": [
    "numerical_cols"
   ]
  },
  {
   "cell_type": "code",
   "execution_count": null,
   "id": "2b97a340",
   "metadata": {},
   "outputs": [],
   "source": [
    "categorical_cols = X_train_total.select_dtypes(include=['object']).columns"
   ]
  },
  {
   "cell_type": "code",
   "execution_count": null,
   "id": "2a7e4d0d",
   "metadata": {},
   "outputs": [],
   "source": [
    "categorical_cols"
   ]
  },
  {
   "cell_type": "code",
   "execution_count": null,
   "id": "b83dafe0",
   "metadata": {},
   "outputs": [],
   "source": [
    "from sklearn.preprocessing import OneHotEncoder\n",
    "from sklearn import feature_extraction\n",
    "\n",
    "features = list(X_train_total.T.to_dict().values())\n",
    "\n",
    "vectorizer = feature_extraction.DictVectorizer()\n",
    "X_train_enc = vectorizer.fit_transform(features).todense()\n",
    "# encoder = OneHotEncoder(sparse=False)\n",
    "# encoder.fit(X_train_total[categorical_cols])\n",
    "# # We can inspect the categories found by the encoder\n",
    "# encoder.categories_\n",
    "# # %%\n",
    "# encoded_types = encoder.transform(X_train_total[categorical_cols])\n",
    "# encoded_types[:10]\n",
    "#\n",
    "# # %%\n",
    "# X_train_num = X_train_total[numerical_cols].values\n",
    "# X_train_num[:10]\n",
    "#\n",
    "# # %%\n",
    "# X_train_enc = np.hstack((encoded_types, X_train_num))\n",
    "# X_train_enc [:5]\n",
    "#\n",
    "# # %%\n",
    "# X_train_enc.shape"
   ]
  },
  {
   "cell_type": "markdown",
   "id": "1156bfad",
   "metadata": {},
   "source": [
    "## Creación del train y validation"
   ]
  },
  {
   "cell_type": "code",
   "execution_count": null,
   "id": "a8c3d403",
   "metadata": {
    "lines_to_next_cell": 0
   },
   "outputs": [],
   "source": [
    "X_train, X_valid, Y_train, Y_valid = train_test_split(X_train_enc,\n",
    "                                                      Y_train_total,\n",
    "                                                      test_size=0.2,\n",
    "                                                      random_state=0)"
   ]
  },
  {
   "cell_type": "markdown",
   "id": "fd0cd6c5",
   "metadata": {},
   "source": [
    "## Modelos propuestos"
   ]
  },
  {
   "cell_type": "markdown",
   "id": "62c788d9",
   "metadata": {},
   "source": [
    "## Primer modelo de prueba: Regresión Logística"
   ]
  },
  {
   "cell_type": "code",
   "execution_count": null,
   "id": "6e474d46",
   "metadata": {},
   "outputs": [],
   "source": [
    "#X_train_lreg = X_train_enc[np.concatenate((num_cols,cat_cols))]\n",
    "#X_val_lreg = X_val_c[np.concatenate((num_cols,cat_cols))]\n",
    "\n",
    "pipe = Pipeline([('scaler', StandardScaler()), ('lreg', LogisticRegression(random_state=0))])\n",
    "\n",
    "pipe.fit(X_train, Y_train)"
   ]
  },
  {
   "cell_type": "code",
   "execution_count": null,
   "id": "8109c6ee",
   "metadata": {},
   "outputs": [],
   "source": [
    "pipe['lreg'].classes_"
   ]
  },
  {
   "cell_type": "code",
   "execution_count": null,
   "id": "5843e65f",
   "metadata": {},
   "outputs": [],
   "source": [
    "pipe['lreg'].get_params()"
   ]
  },
  {
   "cell_type": "code",
   "execution_count": null,
   "id": "b5e0b749",
   "metadata": {},
   "outputs": [],
   "source": [
    "Y_train_predic_lreg = pipe.predict(X_train)\n",
    "Y_val_pred_lreg = pipe.predict(X_valid)"
   ]
  },
  {
   "cell_type": "code",
   "execution_count": null,
   "id": "5dd0ad47",
   "metadata": {},
   "outputs": [],
   "source": [
    "text = \"Logistic Regression - Reporte de clasificación del conjunto de train\"\n",
    "print(len(text)*\"=\")\n",
    "print(text)\n",
    "print(len(text)*\"=\")\n",
    "print(classification_report(Y_train, Y_train_predic_lreg))"
   ]
  },
  {
   "cell_type": "code",
   "execution_count": null,
   "id": "952c1bb1",
   "metadata": {},
   "outputs": [],
   "source": [
    "text = \"Logistic Regression - Reporte de clasificación del conjunto de validation\"\n",
    "print(len(text)*\"=\")\n",
    "print(text)\n",
    "print(len(text)*\"=\")\n",
    "print(classification_report(Y_valid, Y_val_pred_lreg))"
   ]
  },
  {
   "cell_type": "markdown",
   "id": "83530d88",
   "metadata": {},
   "source": [
    "## Segundo modelo de prueba: Árbol de decisión"
   ]
  },
  {
   "cell_type": "code",
   "execution_count": null,
   "id": "28fa7c63",
   "metadata": {},
   "outputs": [],
   "source": [
    "clf_tree = DecisionTreeClassifier(random_state=0)\n",
    "clf_tree.fit(X_train, Y_train)"
   ]
  },
  {
   "cell_type": "code",
   "execution_count": null,
   "id": "246758be",
   "metadata": {},
   "outputs": [],
   "source": [
    "Y_train_pred = clf_tree.predict(X_train)\n",
    "Y_valid_pred = clf_tree.predict(X_valid)"
   ]
  },
  {
   "cell_type": "code",
   "execution_count": null,
   "id": "ae45bca7",
   "metadata": {},
   "outputs": [],
   "source": [
    "train_acc = accuracy_score(Y_train, Y_train_pred)\n",
    "valid_acc = accuracy_score(Y_valid, Y_valid_pred)\n",
    "print(f'Train accuracy: {train_acc:0.2}')\n",
    "print(f'Test accuracy: {valid_acc:0.2}')"
   ]
  },
  {
   "cell_type": "markdown",
   "id": "1f1eef21",
   "metadata": {
    "lines_to_next_cell": 0
   },
   "source": [
    "## SVM"
   ]
  },
  {
   "cell_type": "code",
   "execution_count": null,
   "id": "23bf20c2",
   "metadata": {
    "lines_to_next_cell": 0
   },
   "outputs": [],
   "source": [
    "from sklearn.svm import SVC\n",
    "\n",
    "scaler = StandardScaler()\n",
    "vars_to_scale = [\"Age\", \"AnnualIncome\", \"FamilyMembers\"]\n",
    "X_train_df = pd.DataFrame(X_train, columns=vectorizer.get_feature_names())\n",
    "X_valid_df = pd.DataFrame(X_valid, columns=vectorizer.get_feature_names())"
   ]
  },
  {
   "cell_type": "code",
   "execution_count": null,
   "id": "c1f550f7",
   "metadata": {},
   "outputs": [],
   "source": [
    "X_train_df[vars_to_scale] = scaler.fit_transform(X_train_df[vars_to_scale])\n",
    "X_valid_df[vars_to_scale] = scaler.fit_transform(X_valid_df[vars_to_scale])"
   ]
  }
 ],
 "metadata": {
  "jupytext": {
   "encoding": "# -*- coding: utf-8 -*-",
   "main_language": "python"
  },
  "kernelspec": {
   "display_name": "Python 3.9.7 64-bit ('diplodatos-supervised': conda)",
   "name": "python397jvsc74a57bd01fbf230ed8a49891bdc325a868414da3a93ccc603acb0edf0a274c21ede9f486"
  }
 },
 "nbformat": 4,
 "nbformat_minor": 5
}
