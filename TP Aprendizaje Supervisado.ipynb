{
 "cells": [
  {
   "cell_type": "markdown",
   "id": "2a4f7eab",
   "metadata": {},
   "source": [
    "# APRENDIZAJE SUPERVISADO"
   ]
  },
  {
   "cell_type": "markdown",
   "id": "0f071b63",
   "metadata": {},
   "source": [
    "## Importación de librerias"
   ]
  },
  {
   "cell_type": "code",
   "execution_count": null,
   "id": "1e5fcdbe",
   "metadata": {},
   "outputs": [],
   "source": [
    "import pandas as pd\n",
    "import numpy as np\n",
    "import matplotlib.pyplot as plt\n",
    "import seaborn as sns\n",
    "from sklearn.linear_model import LogisticRegression\n",
    "from sklearn.compose import ColumnTransformer\n",
    "from sklearn.pipeline import Pipeline\n",
    "from sklearn.preprocessing import StandardScaler, OneHotEncoder\n",
    "from sklearn.metrics import accuracy_score, classification_report\n",
    "from sklearn.tree import DecisionTreeClassifier\n",
    "from sklearn.model_selection import train_test_split, GridSearchCV"
   ]
  },
  {
   "cell_type": "markdown",
   "id": "5460c7c4",
   "metadata": {},
   "source": [
    "## Lectura del dataset"
   ]
  },
  {
   "cell_type": "code",
   "execution_count": null,
   "id": "165e483e",
   "metadata": {},
   "outputs": [],
   "source": [
    "URL_TRAIN_DATA = \"https://www.famaf.unc.edu.ar/~nocampo043/travel_insurance_prediction_train.csv\"\n",
    "URL_TEST_DATA = \"https://www.famaf.unc.edu.ar/~nocampo043/travel_insurance_prediction_test.csv\"\n",
    "\n",
    "\n",
    "df_train = pd.read_csv(URL_TRAIN_DATA)\n",
    "df_test = pd.read_csv(URL_TEST_DATA)"
   ]
  },
  {
   "cell_type": "code",
   "execution_count": null,
   "id": "0d5daa35",
   "metadata": {},
   "outputs": [],
   "source": [
    "df_train.info()"
   ]
  },
  {
   "cell_type": "code",
   "execution_count": null,
   "id": "112fd43b",
   "metadata": {},
   "outputs": [],
   "source": [
    "df_test.info()"
   ]
  },
  {
   "cell_type": "code",
   "execution_count": null,
   "id": "44b974f2",
   "metadata": {},
   "outputs": [],
   "source": [
    "df_train"
   ]
  },
  {
   "cell_type": "code",
   "execution_count": null,
   "id": "fb9b01d7",
   "metadata": {},
   "outputs": [],
   "source": [
    "df_test"
   ]
  },
  {
   "cell_type": "markdown",
   "id": "c6d9df7e",
   "metadata": {},
   "source": [
    "## Análisis descriptivo"
   ]
  },
  {
   "cell_type": "code",
   "execution_count": null,
   "id": "b8e183ce",
   "metadata": {},
   "outputs": [],
   "source": [
    "df_train.describe().round()"
   ]
  },
  {
   "cell_type": "markdown",
   "id": "75ad26ed",
   "metadata": {},
   "source": [
    "### Variable objetivo o target: Travel Insurance"
   ]
  },
  {
   "cell_type": "code",
   "execution_count": null,
   "id": "ae87a2a4",
   "metadata": {},
   "outputs": [],
   "source": [
    "df_train[\"TravelInsurance\"].value_counts()"
   ]
  },
  {
   "cell_type": "code",
   "execution_count": null,
   "id": "ebd00610",
   "metadata": {},
   "outputs": [],
   "source": [
    "fig = plt.figure(figsize=(5,5))\n",
    "sns.countplot(data=df_train, x=\"TravelInsurance\")"
   ]
  },
  {
   "cell_type": "markdown",
   "id": "914e4acf",
   "metadata": {},
   "source": [
    "### Correlación variables"
   ]
  },
  {
   "cell_type": "code",
   "execution_count": null,
   "id": "c5c39f4f",
   "metadata": {
    "lines_to_next_cell": 0
   },
   "outputs": [],
   "source": [
    "corr = df_train[[\"TravelInsurance\",\"AnnualIncome\", \"Age\"]].corr().round(2)\n",
    "corr = corr[['TravelInsurance']]\n",
    "corr.loc[:, 'abs_corr'] = np.abs(corr['TravelInsurance'])\n",
    "corr.sort_values(by='abs_corr', ascending=False)"
   ]
  },
  {
   "cell_type": "code",
   "execution_count": null,
   "id": "cf80dca1",
   "metadata": {
    "lines_to_next_cell": 0
   },
   "outputs": [],
   "source": [
    "plt.figure(figsize=(10,10))\n",
    "corr = df_train.corr()\n",
    "sns.heatmap(corr, xticklabels = corr.columns, yticklabels = corr.columns, annot=True, cmap= 'coolwarm')\n",
    "plt.show()"
   ]
  },
  {
   "cell_type": "markdown",
   "id": "b718e294",
   "metadata": {},
   "source": [
    "### Variable explicativa: Age"
   ]
  },
  {
   "cell_type": "markdown",
   "id": "dcb15057",
   "metadata": {
    "lines_to_next_cell": 0
   },
   "source": [
    "En primer lugar, observamos la distribución de la variable Age en el df_train."
   ]
  },
  {
   "cell_type": "code",
   "execution_count": null,
   "id": "9071c1a6",
   "metadata": {
    "lines_to_next_cell": 0
   },
   "outputs": [],
   "source": [
    "sns.countplot(data=df_train, x=\"Age\", hue=\"TravelInsurance\")"
   ]
  },
  {
   "cell_type": "code",
   "execution_count": null,
   "id": "8ba21044",
   "metadata": {
    "lines_to_next_cell": 0
   },
   "outputs": [],
   "source": [
    "df_train[[\"TravelInsurance\", \"Age\"]].groupby(\"TravelInsurance\").describe()"
   ]
  },
  {
   "cell_type": "markdown",
   "id": "38807481",
   "metadata": {
    "lines_to_next_cell": 0
   },
   "source": [
    "Podemos observar que se encuentran fluctuaciones con respecto a la edad."
   ]
  },
  {
   "cell_type": "markdown",
   "id": "7aef0e24",
   "metadata": {},
   "source": [
    "### Variable explicativa: AnnualIncome"
   ]
  },
  {
   "cell_type": "markdown",
   "id": "3eb9ec7c",
   "metadata": {},
   "source": [
    "En primer lugar, observamos la distribución de la variable Annual Income en el df_train."
   ]
  },
  {
   "cell_type": "code",
   "execution_count": null,
   "id": "0941f5de",
   "metadata": {},
   "outputs": [],
   "source": [
    "fig = plt.figure(figsize=(8,8))\n",
    "sns.boxenplot(data=df_train, x=\"AnnualIncome\")\n",
    "plt.ticklabel_format(style='plain', axis='x')"
   ]
  },
  {
   "cell_type": "code",
   "execution_count": null,
   "id": "dc3c766e",
   "metadata": {},
   "outputs": [],
   "source": [
    "fig = plt.figure(figsize=(8,8))\n",
    "sns.boxenplot(data=df_train, x=\"TravelInsurance\", y=\"AnnualIncome\")\n",
    "plt.ticklabel_format(style='plain', axis='y')"
   ]
  },
  {
   "cell_type": "code",
   "execution_count": null,
   "id": "069771d4",
   "metadata": {
    "lines_to_next_cell": 0
   },
   "outputs": [],
   "source": [
    "(\n",
    "    df_train[[\"TravelInsurance\", \"AnnualIncome\"]]\n",
    "        .groupby([\"TravelInsurance\"])\n",
    "        .describe()\n",
    ")"
   ]
  },
  {
   "cell_type": "markdown",
   "id": "97fd59ca",
   "metadata": {},
   "source": [
    "Podemos observar que la distribución de la variable Annual Income se ve afectada en gran medida, al condicionarla por las distintas clases de la variable TARGET. Si bien los valores mínimos y máximos son similares, la media y la mediana difieren considerablemente, como así también el rango intercuantil.\n",
    "Es una varible que se considera importante para explicar el comportamiento de Y."
   ]
  },
  {
   "cell_type": "markdown",
   "id": "0bd4ec5f",
   "metadata": {
    "lines_to_next_cell": 0
   },
   "source": [
    "### Variable explicativa: Employment Type"
   ]
  },
  {
   "cell_type": "code",
   "execution_count": null,
   "id": "ed0a2e57",
   "metadata": {
    "lines_to_next_cell": 0
   },
   "outputs": [],
   "source": [
    "df_train[\"Employment Type\"].value_counts()\n",
    "pd.crosstab(df_train[\"TravelInsurance\"], df_train[\"GraduateOrNot\"])"
   ]
  },
  {
   "cell_type": "code",
   "execution_count": null,
   "id": "33edda9c",
   "metadata": {},
   "outputs": [],
   "source": [
    "fig = plt.figure(figsize=(5, 5))\n",
    "sns.countplot(data=df_train,\n",
    "              x=\"TravelInsurance\",\n",
    "              hue=df_train[\"Employment Type\"])\n",
    "pd.crosstab(df_train[\"TravelInsurance\"], df_train[\"Employment Type\"])"
   ]
  },
  {
   "cell_type": "markdown",
   "id": "5956bc04",
   "metadata": {},
   "source": [
    "### Variable explicativa: Graduate Or Not"
   ]
  },
  {
   "cell_type": "code",
   "execution_count": null,
   "id": "7a040727",
   "metadata": {
    "lines_to_next_cell": 0
   },
   "outputs": [],
   "source": [
    "df_train[\"GraduateOrNot\"].value_counts()"
   ]
  },
  {
   "cell_type": "code",
   "execution_count": null,
   "id": "91710307",
   "metadata": {
    "lines_to_next_cell": 0
   },
   "outputs": [],
   "source": [
    "fig = plt.figure(figsize=(5, 5))\n",
    "sns.countplot(data=df_train,\n",
    "              x=\"TravelInsurance\",\n",
    "              hue=df_train[\"GraduateOrNot\"])"
   ]
  },
  {
   "cell_type": "code",
   "execution_count": null,
   "id": "a1826ccd",
   "metadata": {
    "lines_to_next_cell": 0
   },
   "outputs": [],
   "source": [
    "df_train"
   ]
  },
  {
   "cell_type": "markdown",
   "id": "c3a6a9a6",
   "metadata": {},
   "source": [
    "### Variable explicativa: Frequent Flyer"
   ]
  },
  {
   "cell_type": "code",
   "execution_count": null,
   "id": "630b2c8d",
   "metadata": {},
   "outputs": [],
   "source": [
    "df_train[\"FrequentFlyer\"].value_counts()"
   ]
  },
  {
   "cell_type": "markdown",
   "id": "4171d65a",
   "metadata": {},
   "source": [
    "### Variable explicativa: Ever Travelled Abroad"
   ]
  },
  {
   "cell_type": "code",
   "execution_count": null,
   "id": "c1618e84",
   "metadata": {},
   "outputs": [],
   "source": [
    "df_train[\"EverTravelledAbroad\"].value_counts()"
   ]
  },
  {
   "cell_type": "markdown",
   "id": "87f1b0a1",
   "metadata": {},
   "source": [
    "### Variable explicativa: Employment Type"
   ]
  },
  {
   "cell_type": "code",
   "execution_count": null,
   "id": "81c49b16",
   "metadata": {},
   "outputs": [],
   "source": [
    "sns.countplot(data=df_train, x=\"Employment Type\")"
   ]
  },
  {
   "cell_type": "markdown",
   "id": "4279e84d",
   "metadata": {
    "lines_to_next_cell": 0
   },
   "source": [
    "### Variable explicativa: Family Members"
   ]
  },
  {
   "cell_type": "code",
   "execution_count": null,
   "id": "077b63b4",
   "metadata": {
    "lines_to_next_cell": 0
   },
   "outputs": [],
   "source": [
    "df_train.columns"
   ]
  },
  {
   "cell_type": "code",
   "execution_count": null,
   "id": "3dc02c61",
   "metadata": {
    "lines_to_next_cell": 0
   },
   "outputs": [],
   "source": [
    "plt.figure(figsize=(10,8))\n",
    "sns.histplot(data=df_train, x=\"FamilyMembers\", hue= 'TravelInsurance', multiple=\"stack\")"
   ]
  },
  {
   "cell_type": "markdown",
   "id": "e964d3ea",
   "metadata": {
    "lines_to_next_cell": 0
   },
   "source": [
    "### Variable explicativa: Chronic Diseases"
   ]
  },
  {
   "cell_type": "code",
   "execution_count": null,
   "id": "8dba5e36",
   "metadata": {
    "lines_to_next_cell": 0
   },
   "outputs": [],
   "source": [
    "plt.figure(figsize=(10,8))\n",
    "ax= sns.countplot(data= df_train, x=\"ChronicDiseases\", hue= \"TravelInsurance\")\n",
    "legend_labels, _= ax.get_legend_handles_labels()\n",
    "ax.legend(legend_labels, ['Not buyed', 'Buyed'], #ver de cambiar!\n",
    "          title_fontsize = 18,\n",
    "          fontsize = 15,\n",
    "          bbox_to_anchor=(1,1),\n",
    "          title='Travel Insurance')"
   ]
  },
  {
   "cell_type": "markdown",
   "id": "ea7470ca",
   "metadata": {
    "lines_to_next_cell": 0
   },
   "source": [
    "### Variable explicativa: FrequentFlyer"
   ]
  },
  {
   "cell_type": "code",
   "execution_count": null,
   "id": "722c4173",
   "metadata": {
    "lines_to_next_cell": 0
   },
   "outputs": [],
   "source": [
    "fig = plt.figure(figsize=(5,5))\n",
    "sns.countplot(data=df_train, x=\"TravelInsurance\", hue=df_train.FrequentFlyer)\n",
    "\n",
    "pd.crosstab(df_train[\"TravelInsurance\"], df_train[\"FrequentFlyer\"])"
   ]
  },
  {
   "cell_type": "markdown",
   "id": "6f3bd015",
   "metadata": {
    "lines_to_next_cell": 0
   },
   "source": [
    "Se puede observar en este gráfico que si no sos viajero frecuente la cantidad\n",
    "de clientes que contratan un seguro es baja, caso contrario la cantidad de\n",
    "contratar un seguro es pareja."
   ]
  },
  {
   "cell_type": "markdown",
   "id": "2faca0f8",
   "metadata": {
    "lines_to_next_cell": 0
   },
   "source": [
    "### Variable explicativa: EverTravelledAbroad"
   ]
  },
  {
   "cell_type": "code",
   "execution_count": null,
   "id": "85f8b41b",
   "metadata": {
    "lines_to_next_cell": 0
   },
   "outputs": [],
   "source": [
    "fig = plt.figure(figsize=(5, 5))\n",
    "sns.countplot(data=df_train, x=\"TravelInsurance\", hue=df_train.EverTravelledAbroad)\n",
    "\n",
    "pd.crosstab(df_train[\"TravelInsurance\"], df_train[\"EverTravelledAbroad\"])"
   ]
  },
  {
   "cell_type": "markdown",
   "id": "59d1862b",
   "metadata": {
    "lines_to_next_cell": 0
   },
   "source": [
    "## Creación del train y validation\n",
    "Para el entrenamiento de los modelos no utilizaremos las variable Customer y\n",
    "Travel Insurance (Target)"
   ]
  },
  {
   "cell_type": "code",
   "execution_count": null,
   "id": "8b331b97",
   "metadata": {
    "lines_to_next_cell": 0
   },
   "outputs": [],
   "source": [
    "seed = 0\n",
    "\n",
    "X_train_total = df_train.drop([\"Customer\",\"TravelInsurance\"], axis=1)\n",
    "y_train_total = df_train[\"TravelInsurance\"]"
   ]
  },
  {
   "cell_type": "code",
   "execution_count": null,
   "id": "77704113",
   "metadata": {
    "lines_to_next_cell": 0
   },
   "outputs": [],
   "source": [
    "X_train, X_valid, y_train, y_valid = train_test_split(X_train_total,\n",
    "                                                      y_train_total,\n",
    "                                                      test_size=0.2,\n",
    "                                                      random_state=seed)\n",
    "X_test = df_test.drop(\"Customer\", axis=1)"
   ]
  },
  {
   "cell_type": "markdown",
   "id": "5ca01103",
   "metadata": {
    "lines_to_next_cell": 0
   },
   "source": [
    "## Modelos propuestos"
   ]
  },
  {
   "cell_type": "markdown",
   "id": "63a77606",
   "metadata": {
    "lines_to_next_cell": 0
   },
   "source": [
    "### Regresión Logística: Default"
   ]
  },
  {
   "cell_type": "code",
   "execution_count": null,
   "id": "7402fe66",
   "metadata": {
    "lines_to_next_cell": 0
   },
   "outputs": [],
   "source": [
    "numerical_cols = X_train_total.select_dtypes(\n",
    "    include=['float64', 'int64']).columns\n",
    "\n",
    "categorical_cols = X_train_total.select_dtypes(include=['object']).columns\n",
    "\n",
    "vars_to_scale = [\"Age\", \"AnnualIncome\", \"FamilyMembers\"]\n",
    "\n",
    "preprocessor = ColumnTransformer(\n",
    "    [(\"encoder\", OneHotEncoder(), categorical_cols),\n",
    "     (\"scaler\", StandardScaler(), vars_to_scale)],\n",
    "    remainder=\"passthrough\")\n",
    "\n",
    "pipe_lgr = Pipeline([\n",
    "    (\"preprocessor\", preprocessor),\n",
    "    (\"lgr\", LogisticRegression(random_state=seed))\n",
    "])\n",
    "pipe_lgr.fit(X_train, y_train)"
   ]
  },
  {
   "cell_type": "code",
   "execution_count": null,
   "id": "e778ae19",
   "metadata": {},
   "outputs": [],
   "source": [
    "pipe_lgr[\"lgr\"].classes_"
   ]
  },
  {
   "cell_type": "code",
   "execution_count": null,
   "id": "831c04a4",
   "metadata": {},
   "outputs": [],
   "source": [
    "pipe_lgr[\"lgr\"].get_params()"
   ]
  },
  {
   "cell_type": "code",
   "execution_count": null,
   "id": "7dd2534c",
   "metadata": {},
   "outputs": [],
   "source": [
    "y_train_pred_lreg = pipe_lgr.predict(X_train)\n",
    "y_val_pred_lreg = pipe_lgr.predict(X_valid)\n",
    "y_test_pred_lreg = pipe_lgr.predict(X_test)"
   ]
  },
  {
   "cell_type": "code",
   "execution_count": null,
   "id": "158231e0",
   "metadata": {},
   "outputs": [],
   "source": [
    "text = \"Logistic Regression - Reporte de clasificación del conjunto de train\"\n",
    "print(len(text)*\"=\")\n",
    "print(text)\n",
    "print(len(text)*\"=\")\n",
    "print(classification_report(y_train, y_train_pred_lreg))"
   ]
  },
  {
   "cell_type": "code",
   "execution_count": null,
   "id": "aa220903",
   "metadata": {
    "lines_to_next_cell": 0
   },
   "outputs": [],
   "source": [
    "text = \"Logistic Regression - Reporte de clasificación del conjunto de validation\"\n",
    "print(len(text)*\"=\")\n",
    "print(text)\n",
    "print(len(text)*\"=\")\n",
    "print(classification_report(y_valid, y_val_pred_lreg))"
   ]
  },
  {
   "cell_type": "markdown",
   "id": "3bbb7cf5",
   "metadata": {
    "lines_to_next_cell": 0
   },
   "source": [
    "### Regresión Logística: Busqueda de hiperparámetros"
   ]
  },
  {
   "cell_type": "code",
   "execution_count": null,
   "id": "a7eb18b8",
   "metadata": {
    "lines_to_next_cell": 0
   },
   "outputs": [],
   "source": [
    "params_lreg = {\n",
    "    \"lgr__penalty\": [\"l1\", \"l2\"],\n",
    "    \"lgr__class_weight\": [\"balanced\"],\n",
    "    \"lgr__solver\": [\"liblinear\", \"saga\"],\n",
    "    \"lgr__max_iter\": [5000]\n",
    "}\n",
    "\n",
    "clf = GridSearchCV(pipe_lgr, param_grid=params_lreg, scoring=\"f1\")\n",
    "clf.fit(X_train, y_train)"
   ]
  },
  {
   "cell_type": "code",
   "execution_count": null,
   "id": "799aab0e",
   "metadata": {
    "lines_to_next_cell": 0
   },
   "outputs": [],
   "source": [
    "clf.best_params_"
   ]
  },
  {
   "cell_type": "code",
   "execution_count": null,
   "id": "fc9d2c81",
   "metadata": {
    "lines_to_next_cell": 0
   },
   "outputs": [],
   "source": [
    "clf.best_estimator_"
   ]
  },
  {
   "cell_type": "code",
   "execution_count": null,
   "id": "a042ae1a",
   "metadata": {},
   "outputs": [],
   "source": [
    "y_train_pred_lreg = clf.best_estimator_.predict(X_train)\n",
    "y_val_pred_lreg = clf.best_estimator_.predict(X_valid)\n",
    "y_test_pred_lreg = clf.best_estimator_.predict(X_test)"
   ]
  },
  {
   "cell_type": "code",
   "execution_count": null,
   "id": "5368d09c",
   "metadata": {},
   "outputs": [],
   "source": [
    "text = \"Logistic Regression - Reporte de clasificación del conjunto de train\"\n",
    "print(len(text)*\"=\")\n",
    "print(text)\n",
    "print(len(text)*\"=\")\n",
    "print(classification_report(y_train, y_train_pred_lreg))"
   ]
  },
  {
   "cell_type": "code",
   "execution_count": null,
   "id": "e98b9f60",
   "metadata": {
    "lines_to_next_cell": 0
   },
   "outputs": [],
   "source": [
    "text = \"Logistic Regression - Reporte de clasificación del conjunto de validation\"\n",
    "print(len(text)*\"=\")\n",
    "print(text)\n",
    "print(len(text)*\"=\")\n",
    "print(classification_report(y_valid, y_val_pred_lreg))"
   ]
  },
  {
   "cell_type": "markdown",
   "id": "4d10f266",
   "metadata": {},
   "source": [
    "## Segundo modelo de prueba: Árbol de decisión"
   ]
  },
  {
   "cell_type": "code",
   "execution_count": null,
   "id": "bdb4938b",
   "metadata": {
    "lines_to_next_cell": 0
   },
   "outputs": [],
   "source": [
    "pipe_dtree = Pipeline([\n",
    "    (\"preprocessor\", preprocessor),\n",
    "    (\"model\", DecisionTreeClassifier(random_state=seed))\n",
    "])\n",
    "pipe_dtree.fit(X_train, y_train)"
   ]
  },
  {
   "cell_type": "code",
   "execution_count": null,
   "id": "a23ce360",
   "metadata": {
    "lines_to_next_cell": 0
   },
   "outputs": [],
   "source": [
    "y_train_pred_dtree = pipe_dtree.predict(X_train)\n",
    "y_valid_pred_dtree = pipe_dtree.predict(X_valid)\n",
    "y_test_pred_dtree = pipe_lgr.predict(X_test)"
   ]
  },
  {
   "cell_type": "code",
   "execution_count": null,
   "id": "d2c796d6",
   "metadata": {
    "lines_to_next_cell": 0
   },
   "outputs": [],
   "source": [
    "train_acc = accuracy_score(y_train, y_train_pred_dtree)\n",
    "valid_acc = accuracy_score(y_valid, y_valid_pred_dtree)\n",
    "print(f'Train accuracy: {train_acc:0.2}')\n",
    "print(f'Val accuracy: {valid_acc:0.2}')"
   ]
  },
  {
   "cell_type": "markdown",
   "id": "4855943a",
   "metadata": {
    "lines_to_next_cell": 0
   },
   "source": []
  },
  {
   "cell_type": "code",
   "execution_count": null,
   "id": "21edc779",
   "metadata": {},
   "outputs": [],
   "source": []
  }
 ],
 "metadata": {
  "jupytext": {
   "encoding": "# -*- coding: utf-8 -*-",
   "main_language": "python"
  },
  "kernelspec": {
   "display_name": "Python 3.9.7 64-bit ('diplodatos-supervised': conda)",
   "name": "python397jvsc74a57bd01fbf230ed8a49891bdc325a868414da3a93ccc603acb0edf0a274c21ede9f486"
  }
 },
 "nbformat": 4,
 "nbformat_minor": 5
}
