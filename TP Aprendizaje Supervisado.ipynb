{
 "cells": [
  {
   "cell_type": "code",
   "execution_count": 1,
   "id": "0cdfa5fc-9f34-43d1-8a9b-2db2ae2d9b69",
   "metadata": {},
   "outputs": [],
   "source": [
    "import pandas as pd\n",
    "import numpy as np\n",
    "from sklearn.linear_model import LogisticRegression\n",
    "from sklearn.pipeline import Pipeline\n",
    "from sklearn.preprocessing import StandardScaler\n",
    "from sklearn.metrics import classification_report, confusion_matrix, plot_confusion_matrix\n",
    "from sklearn.tree import DecisionTreeClassifier\n",
    "from sklearn.model_selection import train_test_split\n",
    "from sklearn.metrics import accuracy_score"
   ]
  },
  {
   "cell_type": "code",
   "execution_count": 2,
   "id": "fe6085ad-34b8-46fa-835a-17bd3f6c5797",
   "metadata": {},
   "outputs": [],
   "source": [
    "df_test = pd.read_csv(\"C:/Users/anto_/OneDrive/Escritorio/Diplomatura en Ciencia de Datos/4. Aprendizaje supervisado/AprendizajeSupervisado-master/practico/data/travel_insurance_prediction_test.csv\")\n",
    "df_train = pd.read_csv(\"C:/Users/anto_/OneDrive/Escritorio/Diplomatura en Ciencia de Datos/4. Aprendizaje supervisado/AprendizajeSupervisado-master/practico/data/travel_insurance_prediction_train.csv\")\n",
    "df_submission = pd.read_csv(\"C:/Users/anto_/OneDrive/Escritorio/Diplomatura en Ciencia de Datos/4. Aprendizaje supervisado/AprendizajeSupervisado-master/practico/data/travel_insurance_submission.csv\")"
   ]
  },
  {
   "cell_type": "code",
   "execution_count": 3,
   "id": "4c1c805f-c511-434e-84e7-9dcd8e880acd",
   "metadata": {},
   "outputs": [
    {
     "name": "stdout",
     "output_type": "stream",
     "text": [
      "<class 'pandas.core.frame.DataFrame'>\n",
      "RangeIndex: 1490 entries, 0 to 1489\n",
      "Data columns (total 10 columns):\n",
      " #   Column               Non-Null Count  Dtype \n",
      "---  ------               --------------  ----- \n",
      " 0   Customer             1490 non-null   int64 \n",
      " 1   Age                  1490 non-null   int64 \n",
      " 2   Employment Type      1490 non-null   object\n",
      " 3   GraduateOrNot        1490 non-null   object\n",
      " 4   AnnualIncome         1490 non-null   int64 \n",
      " 5   FamilyMembers        1490 non-null   int64 \n",
      " 6   ChronicDiseases      1490 non-null   int64 \n",
      " 7   FrequentFlyer        1490 non-null   object\n",
      " 8   EverTravelledAbroad  1490 non-null   object\n",
      " 9   TravelInsurance      1490 non-null   int64 \n",
      "dtypes: int64(6), object(4)\n",
      "memory usage: 116.5+ KB\n"
     ]
    }
   ],
   "source": [
    "df_train.info()"
   ]
  },
  {
   "cell_type": "code",
   "execution_count": 4,
   "id": "e0ec8cb4-5c7f-4485-aeca-b6c6b76c5b45",
   "metadata": {},
   "outputs": [
    {
     "name": "stdout",
     "output_type": "stream",
     "text": [
      "<class 'pandas.core.frame.DataFrame'>\n",
      "RangeIndex: 497 entries, 0 to 496\n",
      "Data columns (total 9 columns):\n",
      " #   Column               Non-Null Count  Dtype \n",
      "---  ------               --------------  ----- \n",
      " 0   Customer             497 non-null    int64 \n",
      " 1   Age                  497 non-null    int64 \n",
      " 2   Employment Type      497 non-null    object\n",
      " 3   GraduateOrNot        497 non-null    object\n",
      " 4   AnnualIncome         497 non-null    int64 \n",
      " 5   FamilyMembers        497 non-null    int64 \n",
      " 6   ChronicDiseases      497 non-null    int64 \n",
      " 7   FrequentFlyer        497 non-null    object\n",
      " 8   EverTravelledAbroad  497 non-null    object\n",
      "dtypes: int64(5), object(4)\n",
      "memory usage: 35.1+ KB\n"
     ]
    }
   ],
   "source": [
    "df_test.info()"
   ]
  },
  {
   "cell_type": "code",
   "execution_count": 5,
   "id": "ecc93565-130b-41cd-a5c7-189a9fb26801",
   "metadata": {},
   "outputs": [
    {
     "data": {
      "text/html": [
       "<div>\n",
       "<style scoped>\n",
       "    .dataframe tbody tr th:only-of-type {\n",
       "        vertical-align: middle;\n",
       "    }\n",
       "\n",
       "    .dataframe tbody tr th {\n",
       "        vertical-align: top;\n",
       "    }\n",
       "\n",
       "    .dataframe thead th {\n",
       "        text-align: right;\n",
       "    }\n",
       "</style>\n",
       "<table border=\"1\" class=\"dataframe\">\n",
       "  <thead>\n",
       "    <tr style=\"text-align: right;\">\n",
       "      <th></th>\n",
       "      <th>Customer</th>\n",
       "      <th>Age</th>\n",
       "      <th>Employment Type</th>\n",
       "      <th>GraduateOrNot</th>\n",
       "      <th>AnnualIncome</th>\n",
       "      <th>FamilyMembers</th>\n",
       "      <th>ChronicDiseases</th>\n",
       "      <th>FrequentFlyer</th>\n",
       "      <th>EverTravelledAbroad</th>\n",
       "      <th>TravelInsurance</th>\n",
       "    </tr>\n",
       "  </thead>\n",
       "  <tbody>\n",
       "    <tr>\n",
       "      <th>0</th>\n",
       "      <td>1</td>\n",
       "      <td>33</td>\n",
       "      <td>Private Sector/Self Employed</td>\n",
       "      <td>Yes</td>\n",
       "      <td>550000</td>\n",
       "      <td>6</td>\n",
       "      <td>0</td>\n",
       "      <td>No</td>\n",
       "      <td>No</td>\n",
       "      <td>1</td>\n",
       "    </tr>\n",
       "    <tr>\n",
       "      <th>1</th>\n",
       "      <td>2</td>\n",
       "      <td>28</td>\n",
       "      <td>Private Sector/Self Employed</td>\n",
       "      <td>Yes</td>\n",
       "      <td>800000</td>\n",
       "      <td>7</td>\n",
       "      <td>0</td>\n",
       "      <td>Yes</td>\n",
       "      <td>No</td>\n",
       "      <td>0</td>\n",
       "    </tr>\n",
       "    <tr>\n",
       "      <th>2</th>\n",
       "      <td>3</td>\n",
       "      <td>31</td>\n",
       "      <td>Private Sector/Self Employed</td>\n",
       "      <td>Yes</td>\n",
       "      <td>1250000</td>\n",
       "      <td>4</td>\n",
       "      <td>0</td>\n",
       "      <td>No</td>\n",
       "      <td>No</td>\n",
       "      <td>0</td>\n",
       "    </tr>\n",
       "    <tr>\n",
       "      <th>3</th>\n",
       "      <td>4</td>\n",
       "      <td>31</td>\n",
       "      <td>Government Sector</td>\n",
       "      <td>No</td>\n",
       "      <td>300000</td>\n",
       "      <td>7</td>\n",
       "      <td>0</td>\n",
       "      <td>No</td>\n",
       "      <td>No</td>\n",
       "      <td>0</td>\n",
       "    </tr>\n",
       "    <tr>\n",
       "      <th>4</th>\n",
       "      <td>5</td>\n",
       "      <td>28</td>\n",
       "      <td>Private Sector/Self Employed</td>\n",
       "      <td>Yes</td>\n",
       "      <td>1250000</td>\n",
       "      <td>3</td>\n",
       "      <td>0</td>\n",
       "      <td>No</td>\n",
       "      <td>No</td>\n",
       "      <td>0</td>\n",
       "    </tr>\n",
       "    <tr>\n",
       "      <th>...</th>\n",
       "      <td>...</td>\n",
       "      <td>...</td>\n",
       "      <td>...</td>\n",
       "      <td>...</td>\n",
       "      <td>...</td>\n",
       "      <td>...</td>\n",
       "      <td>...</td>\n",
       "      <td>...</td>\n",
       "      <td>...</td>\n",
       "      <td>...</td>\n",
       "    </tr>\n",
       "    <tr>\n",
       "      <th>1485</th>\n",
       "      <td>1486</td>\n",
       "      <td>31</td>\n",
       "      <td>Government Sector</td>\n",
       "      <td>No</td>\n",
       "      <td>300000</td>\n",
       "      <td>5</td>\n",
       "      <td>0</td>\n",
       "      <td>No</td>\n",
       "      <td>No</td>\n",
       "      <td>0</td>\n",
       "    </tr>\n",
       "    <tr>\n",
       "      <th>1486</th>\n",
       "      <td>1487</td>\n",
       "      <td>31</td>\n",
       "      <td>Private Sector/Self Employed</td>\n",
       "      <td>Yes</td>\n",
       "      <td>950000</td>\n",
       "      <td>3</td>\n",
       "      <td>0</td>\n",
       "      <td>Yes</td>\n",
       "      <td>No</td>\n",
       "      <td>0</td>\n",
       "    </tr>\n",
       "    <tr>\n",
       "      <th>1487</th>\n",
       "      <td>1488</td>\n",
       "      <td>28</td>\n",
       "      <td>Private Sector/Self Employed</td>\n",
       "      <td>Yes</td>\n",
       "      <td>1250000</td>\n",
       "      <td>5</td>\n",
       "      <td>0</td>\n",
       "      <td>No</td>\n",
       "      <td>No</td>\n",
       "      <td>0</td>\n",
       "    </tr>\n",
       "    <tr>\n",
       "      <th>1488</th>\n",
       "      <td>1489</td>\n",
       "      <td>31</td>\n",
       "      <td>Government Sector</td>\n",
       "      <td>Yes</td>\n",
       "      <td>1300000</td>\n",
       "      <td>5</td>\n",
       "      <td>0</td>\n",
       "      <td>No</td>\n",
       "      <td>No</td>\n",
       "      <td>0</td>\n",
       "    </tr>\n",
       "    <tr>\n",
       "      <th>1489</th>\n",
       "      <td>1490</td>\n",
       "      <td>30</td>\n",
       "      <td>Private Sector/Self Employed</td>\n",
       "      <td>No</td>\n",
       "      <td>650000</td>\n",
       "      <td>4</td>\n",
       "      <td>0</td>\n",
       "      <td>No</td>\n",
       "      <td>No</td>\n",
       "      <td>0</td>\n",
       "    </tr>\n",
       "  </tbody>\n",
       "</table>\n",
       "<p>1490 rows × 10 columns</p>\n",
       "</div>"
      ],
      "text/plain": [
       "      Customer  Age               Employment Type GraduateOrNot  AnnualIncome  \\\n",
       "0            1   33  Private Sector/Self Employed           Yes        550000   \n",
       "1            2   28  Private Sector/Self Employed           Yes        800000   \n",
       "2            3   31  Private Sector/Self Employed           Yes       1250000   \n",
       "3            4   31             Government Sector            No        300000   \n",
       "4            5   28  Private Sector/Self Employed           Yes       1250000   \n",
       "...        ...  ...                           ...           ...           ...   \n",
       "1485      1486   31             Government Sector            No        300000   \n",
       "1486      1487   31  Private Sector/Self Employed           Yes        950000   \n",
       "1487      1488   28  Private Sector/Self Employed           Yes       1250000   \n",
       "1488      1489   31             Government Sector           Yes       1300000   \n",
       "1489      1490   30  Private Sector/Self Employed            No        650000   \n",
       "\n",
       "      FamilyMembers  ChronicDiseases FrequentFlyer EverTravelledAbroad  \\\n",
       "0                 6                0            No                  No   \n",
       "1                 7                0           Yes                  No   \n",
       "2                 4                0            No                  No   \n",
       "3                 7                0            No                  No   \n",
       "4                 3                0            No                  No   \n",
       "...             ...              ...           ...                 ...   \n",
       "1485              5                0            No                  No   \n",
       "1486              3                0           Yes                  No   \n",
       "1487              5                0            No                  No   \n",
       "1488              5                0            No                  No   \n",
       "1489              4                0            No                  No   \n",
       "\n",
       "      TravelInsurance  \n",
       "0                   1  \n",
       "1                   0  \n",
       "2                   0  \n",
       "3                   0  \n",
       "4                   0  \n",
       "...               ...  \n",
       "1485                0  \n",
       "1486                0  \n",
       "1487                0  \n",
       "1488                0  \n",
       "1489                0  \n",
       "\n",
       "[1490 rows x 10 columns]"
      ]
     },
     "execution_count": 5,
     "metadata": {},
     "output_type": "execute_result"
    }
   ],
   "source": [
    "df_train"
   ]
  },
  {
   "cell_type": "code",
   "execution_count": 6,
   "id": "0152021e-8aef-437a-b871-12126b77fe2f",
   "metadata": {},
   "outputs": [
    {
     "data": {
      "text/html": [
       "<div>\n",
       "<style scoped>\n",
       "    .dataframe tbody tr th:only-of-type {\n",
       "        vertical-align: middle;\n",
       "    }\n",
       "\n",
       "    .dataframe tbody tr th {\n",
       "        vertical-align: top;\n",
       "    }\n",
       "\n",
       "    .dataframe thead th {\n",
       "        text-align: right;\n",
       "    }\n",
       "</style>\n",
       "<table border=\"1\" class=\"dataframe\">\n",
       "  <thead>\n",
       "    <tr style=\"text-align: right;\">\n",
       "      <th></th>\n",
       "      <th>Customer</th>\n",
       "      <th>Age</th>\n",
       "      <th>AnnualIncome</th>\n",
       "      <th>FamilyMembers</th>\n",
       "      <th>ChronicDiseases</th>\n",
       "      <th>TravelInsurance</th>\n",
       "    </tr>\n",
       "  </thead>\n",
       "  <tbody>\n",
       "    <tr>\n",
       "      <th>count</th>\n",
       "      <td>1490.0</td>\n",
       "      <td>1490.0</td>\n",
       "      <td>1490.0</td>\n",
       "      <td>1490.0</td>\n",
       "      <td>1490.0</td>\n",
       "      <td>1490.0</td>\n",
       "    </tr>\n",
       "    <tr>\n",
       "      <th>mean</th>\n",
       "      <td>746.0</td>\n",
       "      <td>30.0</td>\n",
       "      <td>927819.0</td>\n",
       "      <td>5.0</td>\n",
       "      <td>0.0</td>\n",
       "      <td>0.0</td>\n",
       "    </tr>\n",
       "    <tr>\n",
       "      <th>std</th>\n",
       "      <td>430.0</td>\n",
       "      <td>3.0</td>\n",
       "      <td>381172.0</td>\n",
       "      <td>2.0</td>\n",
       "      <td>0.0</td>\n",
       "      <td>0.0</td>\n",
       "    </tr>\n",
       "    <tr>\n",
       "      <th>min</th>\n",
       "      <td>1.0</td>\n",
       "      <td>25.0</td>\n",
       "      <td>300000.0</td>\n",
       "      <td>2.0</td>\n",
       "      <td>0.0</td>\n",
       "      <td>0.0</td>\n",
       "    </tr>\n",
       "    <tr>\n",
       "      <th>25%</th>\n",
       "      <td>373.0</td>\n",
       "      <td>28.0</td>\n",
       "      <td>600000.0</td>\n",
       "      <td>4.0</td>\n",
       "      <td>0.0</td>\n",
       "      <td>0.0</td>\n",
       "    </tr>\n",
       "    <tr>\n",
       "      <th>50%</th>\n",
       "      <td>746.0</td>\n",
       "      <td>29.0</td>\n",
       "      <td>900000.0</td>\n",
       "      <td>5.0</td>\n",
       "      <td>0.0</td>\n",
       "      <td>0.0</td>\n",
       "    </tr>\n",
       "    <tr>\n",
       "      <th>75%</th>\n",
       "      <td>1118.0</td>\n",
       "      <td>32.0</td>\n",
       "      <td>1250000.0</td>\n",
       "      <td>6.0</td>\n",
       "      <td>1.0</td>\n",
       "      <td>1.0</td>\n",
       "    </tr>\n",
       "    <tr>\n",
       "      <th>max</th>\n",
       "      <td>1490.0</td>\n",
       "      <td>35.0</td>\n",
       "      <td>1800000.0</td>\n",
       "      <td>9.0</td>\n",
       "      <td>1.0</td>\n",
       "      <td>1.0</td>\n",
       "    </tr>\n",
       "  </tbody>\n",
       "</table>\n",
       "</div>"
      ],
      "text/plain": [
       "       Customer     Age  AnnualIncome  FamilyMembers  ChronicDiseases  \\\n",
       "count    1490.0  1490.0        1490.0         1490.0           1490.0   \n",
       "mean      746.0    30.0      927819.0            5.0              0.0   \n",
       "std       430.0     3.0      381172.0            2.0              0.0   \n",
       "min         1.0    25.0      300000.0            2.0              0.0   \n",
       "25%       373.0    28.0      600000.0            4.0              0.0   \n",
       "50%       746.0    29.0      900000.0            5.0              0.0   \n",
       "75%      1118.0    32.0     1250000.0            6.0              1.0   \n",
       "max      1490.0    35.0     1800000.0            9.0              1.0   \n",
       "\n",
       "       TravelInsurance  \n",
       "count           1490.0  \n",
       "mean               0.0  \n",
       "std                0.0  \n",
       "min                0.0  \n",
       "25%                0.0  \n",
       "50%                0.0  \n",
       "75%                1.0  \n",
       "max                1.0  "
      ]
     },
     "execution_count": 6,
     "metadata": {},
     "output_type": "execute_result"
    }
   ],
   "source": [
    "df_train.describe().round()"
   ]
  },
  {
   "cell_type": "code",
   "execution_count": 7,
   "id": "bba0aa74-f836-4fec-8eca-877416706e51",
   "metadata": {},
   "outputs": [
    {
     "data": {
      "text/plain": [
       "0    958\n",
       "1    532\n",
       "Name: TravelInsurance, dtype: int64"
      ]
     },
     "execution_count": 7,
     "metadata": {},
     "output_type": "execute_result"
    }
   ],
   "source": [
    "df_train[\"TravelInsurance\"].value_counts()"
   ]
  },
  {
   "cell_type": "code",
   "execution_count": 8,
   "id": "a08f093c-2930-41a8-97f1-9053ee64259d",
   "metadata": {},
   "outputs": [
    {
     "data": {
      "text/plain": [
       "Private Sector/Self Employed    1057\n",
       "Government Sector                433\n",
       "Name: Employment Type, dtype: int64"
      ]
     },
     "execution_count": 8,
     "metadata": {},
     "output_type": "execute_result"
    }
   ],
   "source": [
    "df_train[\"Employment Type\"].value_counts()"
   ]
  },
  {
   "cell_type": "code",
   "execution_count": 9,
   "id": "9635ccff-55ed-42f4-9c47-df31e29e2811",
   "metadata": {},
   "outputs": [
    {
     "data": {
      "text/plain": [
       "Yes    1268\n",
       "No      222\n",
       "Name: GraduateOrNot, dtype: int64"
      ]
     },
     "execution_count": 9,
     "metadata": {},
     "output_type": "execute_result"
    }
   ],
   "source": [
    "df_train[\"GraduateOrNot\"].value_counts()"
   ]
  },
  {
   "cell_type": "code",
   "execution_count": 10,
   "id": "93b116fc-a0ee-47f1-b000-1032898ec49f",
   "metadata": {},
   "outputs": [
    {
     "data": {
      "text/plain": [
       "No     1173\n",
       "Yes     317\n",
       "Name: FrequentFlyer, dtype: int64"
      ]
     },
     "execution_count": 10,
     "metadata": {},
     "output_type": "execute_result"
    }
   ],
   "source": [
    "df_train[\"FrequentFlyer\"].value_counts()"
   ]
  },
  {
   "cell_type": "code",
   "execution_count": 11,
   "id": "609eeee5-ed4a-4410-a8bf-45ed73a13380",
   "metadata": {},
   "outputs": [
    {
     "data": {
      "text/plain": [
       "No     1202\n",
       "Yes     288\n",
       "Name: EverTravelledAbroad, dtype: int64"
      ]
     },
     "execution_count": 11,
     "metadata": {},
     "output_type": "execute_result"
    }
   ],
   "source": [
    "df_train[\"EverTravelledAbroad\"].value_counts()"
   ]
  },
  {
   "cell_type": "code",
   "execution_count": null,
   "id": "48ee103a-5732-4d47-8685-3809393e7d11",
   "metadata": {},
   "outputs": [],
   "source": []
  },
  {
   "cell_type": "code",
   "execution_count": 12,
   "id": "658b755e-2b1c-4d69-b4f1-56a1b81bf26f",
   "metadata": {
    "tags": []
   },
   "outputs": [],
   "source": [
    "X_train_total = df_train.drop([\"Customer\",\"TravelInsurance\"], axis=1)\n",
    "Y_train_total = df_train.TravelInsurance"
   ]
  },
  {
   "cell_type": "markdown",
   "id": "dd996fac-4822-4c8a-8304-6308d232ffca",
   "metadata": {},
   "source": [
    "## Encoding variables"
   ]
  },
  {
   "cell_type": "code",
   "execution_count": 13,
   "id": "36f380d9-7934-4ee9-b273-0df457bb59a9",
   "metadata": {
    "tags": []
   },
   "outputs": [],
   "source": [
    "numerical_cols = X_train_total.select_dtypes(include=['float64', 'int64']).columns"
   ]
  },
  {
   "cell_type": "code",
   "execution_count": 14,
   "id": "1bec2085-fce3-4409-9429-8f726b1f7052",
   "metadata": {},
   "outputs": [],
   "source": [
    "categorical_cols = X_train_total.select_dtypes(include=['object']).columns"
   ]
  },
  {
   "cell_type": "code",
   "execution_count": 15,
   "id": "cef4f0ba-e01b-4e55-b77a-00585ff0dcc1",
   "metadata": {
    "tags": []
   },
   "outputs": [
    {
     "data": {
      "text/plain": [
       "[array(['Government Sector', 'Private Sector/Self Employed'], dtype=object),\n",
       " array(['No', 'Yes'], dtype=object),\n",
       " array(['No', 'Yes'], dtype=object),\n",
       " array(['No', 'Yes'], dtype=object)]"
      ]
     },
     "execution_count": 15,
     "metadata": {},
     "output_type": "execute_result"
    }
   ],
   "source": [
    "from sklearn.preprocessing import OneHotEncoder\n",
    "\n",
    "encoder = OneHotEncoder(sparse=False)\n",
    "encoder.fit(X_train_total[categorical_cols])\n",
    "# We can inspect the categories found by the encoder\n",
    "encoder.categories_"
   ]
  },
  {
   "cell_type": "code",
   "execution_count": 16,
   "id": "788e74d3-7724-474b-acff-23e651f9b674",
   "metadata": {},
   "outputs": [
    {
     "data": {
      "text/plain": [
       "array([[0., 1., 0., 1., 1., 0., 1., 0.],\n",
       "       [0., 1., 0., 1., 0., 1., 1., 0.],\n",
       "       [0., 1., 0., 1., 1., 0., 1., 0.],\n",
       "       [1., 0., 1., 0., 1., 0., 1., 0.],\n",
       "       [0., 1., 0., 1., 1., 0., 1., 0.],\n",
       "       [0., 1., 1., 0., 0., 1., 0., 1.],\n",
       "       [1., 0., 1., 0., 1., 0., 1., 0.],\n",
       "       [1., 0., 0., 1., 1., 0., 1., 0.],\n",
       "       [1., 0., 0., 1., 1., 0., 1., 0.],\n",
       "       [0., 1., 1., 0., 0., 1., 1., 0.]])"
      ]
     },
     "execution_count": 16,
     "metadata": {},
     "output_type": "execute_result"
    }
   ],
   "source": [
    "encoded_types = encoder.transform(X_train_total[categorical_cols])\n",
    "encoded_types[:10]"
   ]
  },
  {
   "cell_type": "code",
   "execution_count": 17,
   "id": "2e982e46-6dcc-489d-8190-331dcb2a5de7",
   "metadata": {},
   "outputs": [
    {
     "data": {
      "text/plain": [
       "array([[     33,  550000,       6,       0],\n",
       "       [     28,  800000,       7,       0],\n",
       "       [     31, 1250000,       4,       0],\n",
       "       [     31,  300000,       7,       0],\n",
       "       [     28, 1250000,       3,       0],\n",
       "       [     25, 1350000,       3,       1],\n",
       "       [     33,  400000,       4,       0],\n",
       "       [     26,  500000,       5,       0],\n",
       "       [     31,  400000,       4,       0],\n",
       "       [     35,  800000,       6,       0]], dtype=int64)"
      ]
     },
     "execution_count": 17,
     "metadata": {},
     "output_type": "execute_result"
    }
   ],
   "source": [
    "X_train_total = X_train_total[numerical_cols].values\n",
    "X_train_total[:10]"
   ]
  },
  {
   "cell_type": "code",
   "execution_count": 18,
   "id": "92026f0b-5027-4c94-8c41-2ba3d025798c",
   "metadata": {},
   "outputs": [
    {
     "data": {
      "text/plain": [
       "array([[0.00e+00, 1.00e+00, 0.00e+00, 1.00e+00, 1.00e+00, 0.00e+00,\n",
       "        1.00e+00, 0.00e+00, 3.30e+01, 5.50e+05, 6.00e+00, 0.00e+00],\n",
       "       [0.00e+00, 1.00e+00, 0.00e+00, 1.00e+00, 0.00e+00, 1.00e+00,\n",
       "        1.00e+00, 0.00e+00, 2.80e+01, 8.00e+05, 7.00e+00, 0.00e+00],\n",
       "       [0.00e+00, 1.00e+00, 0.00e+00, 1.00e+00, 1.00e+00, 0.00e+00,\n",
       "        1.00e+00, 0.00e+00, 3.10e+01, 1.25e+06, 4.00e+00, 0.00e+00],\n",
       "       [1.00e+00, 0.00e+00, 1.00e+00, 0.00e+00, 1.00e+00, 0.00e+00,\n",
       "        1.00e+00, 0.00e+00, 3.10e+01, 3.00e+05, 7.00e+00, 0.00e+00],\n",
       "       [0.00e+00, 1.00e+00, 0.00e+00, 1.00e+00, 1.00e+00, 0.00e+00,\n",
       "        1.00e+00, 0.00e+00, 2.80e+01, 1.25e+06, 3.00e+00, 0.00e+00]])"
      ]
     },
     "execution_count": 18,
     "metadata": {},
     "output_type": "execute_result"
    }
   ],
   "source": [
    "X_train_enc = np.hstack((encoded_types, X_train_total))\n",
    "X_train_enc [:5]"
   ]
  },
  {
   "cell_type": "code",
   "execution_count": 19,
   "id": "ea8956b4-4365-4568-8f67-ed35189d4644",
   "metadata": {},
   "outputs": [
    {
     "data": {
      "text/plain": [
       "(1490, 12)"
      ]
     },
     "execution_count": 19,
     "metadata": {},
     "output_type": "execute_result"
    }
   ],
   "source": [
    "X_train_enc.shape"
   ]
  },
  {
   "cell_type": "markdown",
   "id": "b24094c9-cdd5-4043-90c6-47ee92c3bb3c",
   "metadata": {},
   "source": [
    "## Creación del train y validation"
   ]
  },
  {
   "cell_type": "code",
   "execution_count": 20,
   "id": "1fd86c63-8f31-4f19-9b02-3ad4ce08eb49",
   "metadata": {},
   "outputs": [],
   "source": [
    "X_train, X_valid, Y_train, Y_valid = train_test_split(X_train_total, Y_train_total, test_size=0.2,random_state= 0)"
   ]
  },
  {
   "cell_type": "markdown",
   "id": "7200b553-5406-4e33-a0a4-92413588aeaf",
   "metadata": {},
   "source": [
    "## Primer modelo de prueba: Regresión Logística"
   ]
  },
  {
   "cell_type": "code",
   "execution_count": 21,
   "id": "f7f2e7a8-91ee-43eb-adb6-8709154a0226",
   "metadata": {},
   "outputs": [
    {
     "data": {
      "text/plain": [
       "Pipeline(steps=[('scaler', StandardScaler()),\n",
       "                ('lreg', LogisticRegression(random_state=0))])"
      ]
     },
     "execution_count": 21,
     "metadata": {},
     "output_type": "execute_result"
    }
   ],
   "source": [
    "#X_train_lreg = X_train_enc[np.concatenate((num_cols,cat_cols))]\n",
    "#X_val_lreg = X_val_c[np.concatenate((num_cols,cat_cols))]\n",
    "\n",
    "pipe = Pipeline([('scaler', StandardScaler()), ('lreg', LogisticRegression(random_state=0))])\n",
    "\n",
    "pipe.fit(X_train, Y_train)"
   ]
  },
  {
   "cell_type": "code",
   "execution_count": 22,
   "id": "286c0258-7cd7-4f6a-82c5-73a7a06390d3",
   "metadata": {},
   "outputs": [
    {
     "data": {
      "text/plain": [
       "array([0, 1], dtype=int64)"
      ]
     },
     "execution_count": 22,
     "metadata": {},
     "output_type": "execute_result"
    }
   ],
   "source": [
    "pipe['lreg'].classes_"
   ]
  },
  {
   "cell_type": "code",
   "execution_count": 23,
   "id": "f29ebffa-cc3d-49b4-97a4-8bcdcb2bfc48",
   "metadata": {},
   "outputs": [
    {
     "data": {
      "text/plain": [
       "{'C': 1.0,\n",
       " 'class_weight': None,\n",
       " 'dual': False,\n",
       " 'fit_intercept': True,\n",
       " 'intercept_scaling': 1,\n",
       " 'l1_ratio': None,\n",
       " 'max_iter': 100,\n",
       " 'multi_class': 'auto',\n",
       " 'n_jobs': None,\n",
       " 'penalty': 'l2',\n",
       " 'random_state': 0,\n",
       " 'solver': 'lbfgs',\n",
       " 'tol': 0.0001,\n",
       " 'verbose': 0,\n",
       " 'warm_start': False}"
      ]
     },
     "execution_count": 23,
     "metadata": {},
     "output_type": "execute_result"
    }
   ],
   "source": [
    "pipe['lreg'].get_params()"
   ]
  },
  {
   "cell_type": "code",
   "execution_count": 26,
   "id": "3353e161-c4f1-432e-a614-24641199e68d",
   "metadata": {},
   "outputs": [],
   "source": [
    "Y_train_predic_lreg = pipe.predict(X_train)\n",
    "Y_val_pred_lreg = pipe.predict(X_valid)"
   ]
  },
  {
   "cell_type": "code",
   "execution_count": 27,
   "id": "95d9d90e-ae23-4cc9-883f-8fb4e4318a3d",
   "metadata": {},
   "outputs": [
    {
     "name": "stdout",
     "output_type": "stream",
     "text": [
      "====================================================================\n",
      "Logistic Regression - Reporte de clasificación del conjunto de train\n",
      "====================================================================\n",
      "              precision    recall  f1-score   support\n",
      "\n",
      "           0       0.78      0.88      0.82       766\n",
      "           1       0.71      0.54      0.62       426\n",
      "\n",
      "    accuracy                           0.76      1192\n",
      "   macro avg       0.74      0.71      0.72      1192\n",
      "weighted avg       0.75      0.76      0.75      1192\n",
      "\n"
     ]
    }
   ],
   "source": [
    "text = \"Logistic Regression - Reporte de clasificación del conjunto de train\" \n",
    "print(len(text)*\"=\")\n",
    "print(text)\n",
    "print(len(text)*\"=\")\n",
    "print(classification_report(Y_train, Y_train_predic_lreg))"
   ]
  },
  {
   "cell_type": "code",
   "execution_count": 28,
   "id": "6cbd67b7-0fe5-4eeb-adf7-3ac821dd5097",
   "metadata": {},
   "outputs": [
    {
     "name": "stdout",
     "output_type": "stream",
     "text": [
      "=========================================================================\n",
      "Logistic Regression - Reporte de clasificación del conjunto de validation\n",
      "=========================================================================\n",
      "              precision    recall  f1-score   support\n",
      "\n",
      "           0       0.76      0.85      0.80       192\n",
      "           1       0.65      0.50      0.57       106\n",
      "\n",
      "    accuracy                           0.73       298\n",
      "   macro avg       0.71      0.68      0.68       298\n",
      "weighted avg       0.72      0.73      0.72       298\n",
      "\n"
     ]
    }
   ],
   "source": [
    "text = \"Logistic Regression - Reporte de clasificación del conjunto de validation\" \n",
    "print(len(text)*\"=\")\n",
    "print(text)\n",
    "print(len(text)*\"=\")\n",
    "print(classification_report(Y_valid, Y_val_pred_lreg))"
   ]
  },
  {
   "cell_type": "markdown",
   "id": "733e217f-648c-4c19-ae48-8e832926076e",
   "metadata": {},
   "source": [
    "## Segundo modelo de prueba: Árbol de decisión"
   ]
  },
  {
   "cell_type": "code",
   "execution_count": 30,
   "id": "deb4b1dc-69dc-4f86-af7c-f03adde1fbf0",
   "metadata": {},
   "outputs": [
    {
     "data": {
      "text/plain": [
       "DecisionTreeClassifier(random_state=0)"
      ]
     },
     "execution_count": 30,
     "metadata": {},
     "output_type": "execute_result"
    }
   ],
   "source": [
    "clf_tree = DecisionTreeClassifier(random_state=0)\n",
    "clf_tree.fit(X_train, Y_train)"
   ]
  },
  {
   "cell_type": "code",
   "execution_count": 31,
   "id": "5066ed1c-7412-4e06-a32c-cd26ba8fb964",
   "metadata": {},
   "outputs": [],
   "source": [
    "Y_train_pred = clf_tree.predict(X_train)\n",
    "Y_valid_pred = clf_tree.predict(X_valid)"
   ]
  },
  {
   "cell_type": "code",
   "execution_count": 33,
   "id": "3f6a7926-d164-4f45-b037-88cd711e4ba1",
   "metadata": {},
   "outputs": [
    {
     "name": "stdout",
     "output_type": "stream",
     "text": [
      "Train accuracy: 0.92\n",
      "Test accuracy: 0.8\n"
     ]
    }
   ],
   "source": [
    "train_acc = accuracy_score(Y_train, Y_train_pred)\n",
    "valid_acc = accuracy_score(Y_valid, Y_valid_pred)\n",
    "print(f'Train accuracy: {train_acc:0.2}')\n",
    "print(f'Test accuracy: {valid_acc:0.2}')"
   ]
  },
  {
   "cell_type": "code",
   "execution_count": null,
   "id": "4515d5d1-d7e2-4ac1-ae9e-265f65044b0e",
   "metadata": {},
   "outputs": [],
   "source": []
  },
  {
   "cell_type": "code",
   "execution_count": null,
   "id": "af3f01d3-4f6f-422e-8d65-59bbde1248ba",
   "metadata": {},
   "outputs": [],
   "source": []
  }
 ],
 "metadata": {
  "kernelspec": {
   "display_name": "Python 3",
   "language": "python",
   "name": "python3"
  },
  "language_info": {
   "codemirror_mode": {
    "name": "ipython",
    "version": 3
   },
   "file_extension": ".py",
   "mimetype": "text/x-python",
   "name": "python",
   "nbconvert_exporter": "python",
   "pygments_lexer": "ipython3",
   "version": "3.9.4"
  }
 },
 "nbformat": 4,
 "nbformat_minor": 5
}
