{
 "cells": [
  {
   "cell_type": "markdown",
   "metadata": {},
   "source": [
    "# APRENDIZAJE SUPERVISADO"
   ]
  },
  {
   "cell_type": "markdown",
   "metadata": {},
   "source": [
    "## Importación de librerias"
   ]
  },
  {
   "cell_type": "code",
   "execution_count": 2,
   "metadata": {},
   "outputs": [],
   "source": [
    "import pandas as pd\n",
    "import numpy as np\n",
    "import matplotlib.pyplot as plt\n",
    "import seaborn as sns\n",
    "from sklearn.linear_model import LogisticRegression\n",
    "from sklearn.pipeline import Pipeline\n",
    "from sklearn.preprocessing import StandardScaler\n",
    "from sklearn.metrics import classification_report, confusion_matrix, plot_confusion_matrix\n",
    "from sklearn.tree import DecisionTreeClassifier\n",
    "from sklearn.model_selection import train_test_split\n",
    "from sklearn.metrics import accuracy_score"
   ]
  },
  {
   "cell_type": "markdown",
   "metadata": {},
   "source": [
    "## Lectura del dataset"
   ]
  },
  {
   "cell_type": "code",
   "execution_count": 3,
   "metadata": {},
   "outputs": [],
   "source": [
    "URL_TRAIN_DATA = \"https://www.famaf.unc.edu.ar/~nocampo043/travel_insurance_prediction_train.csv\"\n",
    "URL_TEST_DATA = \"https://www.famaf.unc.edu.ar/~nocampo043/travel_insurance_prediction_test.csv\"\n",
    "\n",
    "\n",
    "df_train = pd.read_csv(URL_TRAIN_DATA)\n",
    "df_test = pd.read_csv(URL_TEST_DATA)"
   ]
  },
  {
   "cell_type": "code",
   "execution_count": 4,
   "metadata": {},
   "outputs": [
    {
     "name": "stdout",
     "output_type": "stream",
     "text": [
      "<class 'pandas.core.frame.DataFrame'>\n",
      "RangeIndex: 1490 entries, 0 to 1489\n",
      "Data columns (total 10 columns):\n",
      " #   Column               Non-Null Count  Dtype \n",
      "---  ------               --------------  ----- \n",
      " 0   Customer             1490 non-null   int64 \n",
      " 1   Age                  1490 non-null   int64 \n",
      " 2   Employment Type      1490 non-null   object\n",
      " 3   GraduateOrNot        1490 non-null   object\n",
      " 4   AnnualIncome         1490 non-null   int64 \n",
      " 5   FamilyMembers        1490 non-null   int64 \n",
      " 6   ChronicDiseases      1490 non-null   int64 \n",
      " 7   FrequentFlyer        1490 non-null   object\n",
      " 8   EverTravelledAbroad  1490 non-null   object\n",
      " 9   TravelInsurance      1490 non-null   int64 \n",
      "dtypes: int64(6), object(4)\n",
      "memory usage: 116.5+ KB\n"
     ]
    }
   ],
   "source": [
    "df_train.info()"
   ]
  },
  {
   "cell_type": "code",
   "execution_count": 5,
   "metadata": {},
   "outputs": [
    {
     "name": "stdout",
     "output_type": "stream",
     "text": [
      "<class 'pandas.core.frame.DataFrame'>\n",
      "RangeIndex: 497 entries, 0 to 496\n",
      "Data columns (total 9 columns):\n",
      " #   Column               Non-Null Count  Dtype \n",
      "---  ------               --------------  ----- \n",
      " 0   Customer             497 non-null    int64 \n",
      " 1   Age                  497 non-null    int64 \n",
      " 2   Employment Type      497 non-null    object\n",
      " 3   GraduateOrNot        497 non-null    object\n",
      " 4   AnnualIncome         497 non-null    int64 \n",
      " 5   FamilyMembers        497 non-null    int64 \n",
      " 6   ChronicDiseases      497 non-null    int64 \n",
      " 7   FrequentFlyer        497 non-null    object\n",
      " 8   EverTravelledAbroad  497 non-null    object\n",
      "dtypes: int64(5), object(4)\n",
      "memory usage: 35.1+ KB\n"
     ]
    }
   ],
   "source": [
    "df_test.info()"
   ]
  },
  {
   "cell_type": "code",
   "execution_count": 6,
   "metadata": {},
   "outputs": [
    {
     "data": {
      "text/html": "<div>\n<style scoped>\n    .dataframe tbody tr th:only-of-type {\n        vertical-align: middle;\n    }\n\n    .dataframe tbody tr th {\n        vertical-align: top;\n    }\n\n    .dataframe thead th {\n        text-align: right;\n    }\n</style>\n<table border=\"1\" class=\"dataframe\">\n  <thead>\n    <tr style=\"text-align: right;\">\n      <th></th>\n      <th>Customer</th>\n      <th>Age</th>\n      <th>Employment Type</th>\n      <th>GraduateOrNot</th>\n      <th>AnnualIncome</th>\n      <th>FamilyMembers</th>\n      <th>ChronicDiseases</th>\n      <th>FrequentFlyer</th>\n      <th>EverTravelledAbroad</th>\n      <th>TravelInsurance</th>\n    </tr>\n  </thead>\n  <tbody>\n    <tr>\n      <th>0</th>\n      <td>1</td>\n      <td>33</td>\n      <td>Private Sector/Self Employed</td>\n      <td>Yes</td>\n      <td>550000</td>\n      <td>6</td>\n      <td>0</td>\n      <td>No</td>\n      <td>No</td>\n      <td>1</td>\n    </tr>\n    <tr>\n      <th>1</th>\n      <td>2</td>\n      <td>28</td>\n      <td>Private Sector/Self Employed</td>\n      <td>Yes</td>\n      <td>800000</td>\n      <td>7</td>\n      <td>0</td>\n      <td>Yes</td>\n      <td>No</td>\n      <td>0</td>\n    </tr>\n    <tr>\n      <th>2</th>\n      <td>3</td>\n      <td>31</td>\n      <td>Private Sector/Self Employed</td>\n      <td>Yes</td>\n      <td>1250000</td>\n      <td>4</td>\n      <td>0</td>\n      <td>No</td>\n      <td>No</td>\n      <td>0</td>\n    </tr>\n    <tr>\n      <th>3</th>\n      <td>4</td>\n      <td>31</td>\n      <td>Government Sector</td>\n      <td>No</td>\n      <td>300000</td>\n      <td>7</td>\n      <td>0</td>\n      <td>No</td>\n      <td>No</td>\n      <td>0</td>\n    </tr>\n    <tr>\n      <th>4</th>\n      <td>5</td>\n      <td>28</td>\n      <td>Private Sector/Self Employed</td>\n      <td>Yes</td>\n      <td>1250000</td>\n      <td>3</td>\n      <td>0</td>\n      <td>No</td>\n      <td>No</td>\n      <td>0</td>\n    </tr>\n    <tr>\n      <th>...</th>\n      <td>...</td>\n      <td>...</td>\n      <td>...</td>\n      <td>...</td>\n      <td>...</td>\n      <td>...</td>\n      <td>...</td>\n      <td>...</td>\n      <td>...</td>\n      <td>...</td>\n    </tr>\n    <tr>\n      <th>1485</th>\n      <td>1486</td>\n      <td>31</td>\n      <td>Government Sector</td>\n      <td>No</td>\n      <td>300000</td>\n      <td>5</td>\n      <td>0</td>\n      <td>No</td>\n      <td>No</td>\n      <td>0</td>\n    </tr>\n    <tr>\n      <th>1486</th>\n      <td>1487</td>\n      <td>31</td>\n      <td>Private Sector/Self Employed</td>\n      <td>Yes</td>\n      <td>950000</td>\n      <td>3</td>\n      <td>0</td>\n      <td>Yes</td>\n      <td>No</td>\n      <td>0</td>\n    </tr>\n    <tr>\n      <th>1487</th>\n      <td>1488</td>\n      <td>28</td>\n      <td>Private Sector/Self Employed</td>\n      <td>Yes</td>\n      <td>1250000</td>\n      <td>5</td>\n      <td>0</td>\n      <td>No</td>\n      <td>No</td>\n      <td>0</td>\n    </tr>\n    <tr>\n      <th>1488</th>\n      <td>1489</td>\n      <td>31</td>\n      <td>Government Sector</td>\n      <td>Yes</td>\n      <td>1300000</td>\n      <td>5</td>\n      <td>0</td>\n      <td>No</td>\n      <td>No</td>\n      <td>0</td>\n    </tr>\n    <tr>\n      <th>1489</th>\n      <td>1490</td>\n      <td>30</td>\n      <td>Private Sector/Self Employed</td>\n      <td>No</td>\n      <td>650000</td>\n      <td>4</td>\n      <td>0</td>\n      <td>No</td>\n      <td>No</td>\n      <td>0</td>\n    </tr>\n  </tbody>\n</table>\n<p>1490 rows × 10 columns</p>\n</div>",
      "text/plain": "      Customer  Age               Employment Type GraduateOrNot  AnnualIncome  \\\n0            1   33  Private Sector/Self Employed           Yes        550000   \n1            2   28  Private Sector/Self Employed           Yes        800000   \n2            3   31  Private Sector/Self Employed           Yes       1250000   \n3            4   31             Government Sector            No        300000   \n4            5   28  Private Sector/Self Employed           Yes       1250000   \n...        ...  ...                           ...           ...           ...   \n1485      1486   31             Government Sector            No        300000   \n1486      1487   31  Private Sector/Self Employed           Yes        950000   \n1487      1488   28  Private Sector/Self Employed           Yes       1250000   \n1488      1489   31             Government Sector           Yes       1300000   \n1489      1490   30  Private Sector/Self Employed            No        650000   \n\n      FamilyMembers  ChronicDiseases FrequentFlyer EverTravelledAbroad  \\\n0                 6                0            No                  No   \n1                 7                0           Yes                  No   \n2                 4                0            No                  No   \n3                 7                0            No                  No   \n4                 3                0            No                  No   \n...             ...              ...           ...                 ...   \n1485              5                0            No                  No   \n1486              3                0           Yes                  No   \n1487              5                0            No                  No   \n1488              5                0            No                  No   \n1489              4                0            No                  No   \n\n      TravelInsurance  \n0                   1  \n1                   0  \n2                   0  \n3                   0  \n4                   0  \n...               ...  \n1485                0  \n1486                0  \n1487                0  \n1488                0  \n1489                0  \n\n[1490 rows x 10 columns]"
     },
     "execution_count": 6,
     "metadata": {},
     "output_type": "execute_result"
    }
   ],
   "source": [
    "df_train"
   ]
  },
  {
   "cell_type": "code",
   "execution_count": 7,
   "metadata": {},
   "outputs": [
    {
     "data": {
      "text/html": "<div>\n<style scoped>\n    .dataframe tbody tr th:only-of-type {\n        vertical-align: middle;\n    }\n\n    .dataframe tbody tr th {\n        vertical-align: top;\n    }\n\n    .dataframe thead th {\n        text-align: right;\n    }\n</style>\n<table border=\"1\" class=\"dataframe\">\n  <thead>\n    <tr style=\"text-align: right;\">\n      <th></th>\n      <th>Customer</th>\n      <th>Age</th>\n      <th>Employment Type</th>\n      <th>GraduateOrNot</th>\n      <th>AnnualIncome</th>\n      <th>FamilyMembers</th>\n      <th>ChronicDiseases</th>\n      <th>FrequentFlyer</th>\n      <th>EverTravelledAbroad</th>\n    </tr>\n  </thead>\n  <tbody>\n    <tr>\n      <th>0</th>\n      <td>1491</td>\n      <td>29</td>\n      <td>Private Sector/Self Employed</td>\n      <td>Yes</td>\n      <td>1100000</td>\n      <td>4</td>\n      <td>0</td>\n      <td>No</td>\n      <td>No</td>\n    </tr>\n    <tr>\n      <th>1</th>\n      <td>1492</td>\n      <td>28</td>\n      <td>Private Sector/Self Employed</td>\n      <td>Yes</td>\n      <td>750000</td>\n      <td>5</td>\n      <td>1</td>\n      <td>Yes</td>\n      <td>No</td>\n    </tr>\n    <tr>\n      <th>2</th>\n      <td>1493</td>\n      <td>31</td>\n      <td>Government Sector</td>\n      <td>Yes</td>\n      <td>1500000</td>\n      <td>4</td>\n      <td>0</td>\n      <td>Yes</td>\n      <td>Yes</td>\n    </tr>\n    <tr>\n      <th>3</th>\n      <td>1494</td>\n      <td>28</td>\n      <td>Private Sector/Self Employed</td>\n      <td>Yes</td>\n      <td>1400000</td>\n      <td>3</td>\n      <td>0</td>\n      <td>No</td>\n      <td>Yes</td>\n    </tr>\n    <tr>\n      <th>4</th>\n      <td>1495</td>\n      <td>33</td>\n      <td>Private Sector/Self Employed</td>\n      <td>Yes</td>\n      <td>1500000</td>\n      <td>4</td>\n      <td>0</td>\n      <td>Yes</td>\n      <td>Yes</td>\n    </tr>\n    <tr>\n      <th>...</th>\n      <td>...</td>\n      <td>...</td>\n      <td>...</td>\n      <td>...</td>\n      <td>...</td>\n      <td>...</td>\n      <td>...</td>\n      <td>...</td>\n      <td>...</td>\n    </tr>\n    <tr>\n      <th>492</th>\n      <td>1983</td>\n      <td>33</td>\n      <td>Government Sector</td>\n      <td>Yes</td>\n      <td>1750000</td>\n      <td>6</td>\n      <td>0</td>\n      <td>No</td>\n      <td>No</td>\n    </tr>\n    <tr>\n      <th>493</th>\n      <td>1984</td>\n      <td>25</td>\n      <td>Private Sector/Self Employed</td>\n      <td>No</td>\n      <td>1150000</td>\n      <td>3</td>\n      <td>1</td>\n      <td>No</td>\n      <td>No</td>\n    </tr>\n    <tr>\n      <th>494</th>\n      <td>1985</td>\n      <td>29</td>\n      <td>Private Sector/Self Employed</td>\n      <td>Yes</td>\n      <td>1050000</td>\n      <td>5</td>\n      <td>0</td>\n      <td>No</td>\n      <td>No</td>\n    </tr>\n    <tr>\n      <th>495</th>\n      <td>1986</td>\n      <td>25</td>\n      <td>Government Sector</td>\n      <td>Yes</td>\n      <td>750000</td>\n      <td>2</td>\n      <td>0</td>\n      <td>No</td>\n      <td>Yes</td>\n    </tr>\n    <tr>\n      <th>496</th>\n      <td>1987</td>\n      <td>27</td>\n      <td>Government Sector</td>\n      <td>Yes</td>\n      <td>1050000</td>\n      <td>3</td>\n      <td>0</td>\n      <td>No</td>\n      <td>No</td>\n    </tr>\n  </tbody>\n</table>\n<p>497 rows × 9 columns</p>\n</div>",
      "text/plain": "     Customer  Age               Employment Type GraduateOrNot  AnnualIncome  \\\n0        1491   29  Private Sector/Self Employed           Yes       1100000   \n1        1492   28  Private Sector/Self Employed           Yes        750000   \n2        1493   31             Government Sector           Yes       1500000   \n3        1494   28  Private Sector/Self Employed           Yes       1400000   \n4        1495   33  Private Sector/Self Employed           Yes       1500000   \n..        ...  ...                           ...           ...           ...   \n492      1983   33             Government Sector           Yes       1750000   \n493      1984   25  Private Sector/Self Employed            No       1150000   \n494      1985   29  Private Sector/Self Employed           Yes       1050000   \n495      1986   25             Government Sector           Yes        750000   \n496      1987   27             Government Sector           Yes       1050000   \n\n     FamilyMembers  ChronicDiseases FrequentFlyer EverTravelledAbroad  \n0                4                0            No                  No  \n1                5                1           Yes                  No  \n2                4                0           Yes                 Yes  \n3                3                0            No                 Yes  \n4                4                0           Yes                 Yes  \n..             ...              ...           ...                 ...  \n492              6                0            No                  No  \n493              3                1            No                  No  \n494              5                0            No                  No  \n495              2                0            No                 Yes  \n496              3                0            No                  No  \n\n[497 rows x 9 columns]"
     },
     "execution_count": 7,
     "metadata": {},
     "output_type": "execute_result"
    }
   ],
   "source": [
    "df_test"
   ]
  },
  {
   "cell_type": "markdown",
   "metadata": {},
   "source": [
    "## Análisis descriptivo"
   ]
  },
  {
   "cell_type": "code",
   "execution_count": 8,
   "metadata": {},
   "outputs": [
    {
     "data": {
      "text/html": "<div>\n<style scoped>\n    .dataframe tbody tr th:only-of-type {\n        vertical-align: middle;\n    }\n\n    .dataframe tbody tr th {\n        vertical-align: top;\n    }\n\n    .dataframe thead th {\n        text-align: right;\n    }\n</style>\n<table border=\"1\" class=\"dataframe\">\n  <thead>\n    <tr style=\"text-align: right;\">\n      <th></th>\n      <th>Customer</th>\n      <th>Age</th>\n      <th>AnnualIncome</th>\n      <th>FamilyMembers</th>\n      <th>ChronicDiseases</th>\n      <th>TravelInsurance</th>\n    </tr>\n  </thead>\n  <tbody>\n    <tr>\n      <th>count</th>\n      <td>1490.0</td>\n      <td>1490.0</td>\n      <td>1490.0</td>\n      <td>1490.0</td>\n      <td>1490.0</td>\n      <td>1490.0</td>\n    </tr>\n    <tr>\n      <th>mean</th>\n      <td>746.0</td>\n      <td>30.0</td>\n      <td>927819.0</td>\n      <td>5.0</td>\n      <td>0.0</td>\n      <td>0.0</td>\n    </tr>\n    <tr>\n      <th>std</th>\n      <td>430.0</td>\n      <td>3.0</td>\n      <td>381172.0</td>\n      <td>2.0</td>\n      <td>0.0</td>\n      <td>0.0</td>\n    </tr>\n    <tr>\n      <th>min</th>\n      <td>1.0</td>\n      <td>25.0</td>\n      <td>300000.0</td>\n      <td>2.0</td>\n      <td>0.0</td>\n      <td>0.0</td>\n    </tr>\n    <tr>\n      <th>25%</th>\n      <td>373.0</td>\n      <td>28.0</td>\n      <td>600000.0</td>\n      <td>4.0</td>\n      <td>0.0</td>\n      <td>0.0</td>\n    </tr>\n    <tr>\n      <th>50%</th>\n      <td>746.0</td>\n      <td>29.0</td>\n      <td>900000.0</td>\n      <td>5.0</td>\n      <td>0.0</td>\n      <td>0.0</td>\n    </tr>\n    <tr>\n      <th>75%</th>\n      <td>1118.0</td>\n      <td>32.0</td>\n      <td>1250000.0</td>\n      <td>6.0</td>\n      <td>1.0</td>\n      <td>1.0</td>\n    </tr>\n    <tr>\n      <th>max</th>\n      <td>1490.0</td>\n      <td>35.0</td>\n      <td>1800000.0</td>\n      <td>9.0</td>\n      <td>1.0</td>\n      <td>1.0</td>\n    </tr>\n  </tbody>\n</table>\n</div>",
      "text/plain": "       Customer     Age  AnnualIncome  FamilyMembers  ChronicDiseases  \\\ncount    1490.0  1490.0        1490.0         1490.0           1490.0   \nmean      746.0    30.0      927819.0            5.0              0.0   \nstd       430.0     3.0      381172.0            2.0              0.0   \nmin         1.0    25.0      300000.0            2.0              0.0   \n25%       373.0    28.0      600000.0            4.0              0.0   \n50%       746.0    29.0      900000.0            5.0              0.0   \n75%      1118.0    32.0     1250000.0            6.0              1.0   \nmax      1490.0    35.0     1800000.0            9.0              1.0   \n\n       TravelInsurance  \ncount           1490.0  \nmean               0.0  \nstd                0.0  \nmin                0.0  \n25%                0.0  \n50%                0.0  \n75%                1.0  \nmax                1.0  "
     },
     "execution_count": 8,
     "metadata": {},
     "output_type": "execute_result"
    }
   ],
   "source": [
    "df_train.describe().round()"
   ]
  },
  {
   "cell_type": "markdown",
   "metadata": {},
   "source": [
    "### Variable objetivo o target: Travel Insurance"
   ]
  },
  {
   "cell_type": "code",
   "execution_count": 9,
   "metadata": {},
   "outputs": [
    {
     "data": {
      "text/plain": "0    958\n1    532\nName: TravelInsurance, dtype: int64"
     },
     "execution_count": 9,
     "metadata": {},
     "output_type": "execute_result"
    }
   ],
   "source": [
    "df_train[\"TravelInsurance\"].value_counts()"
   ]
  },
  {
   "cell_type": "code",
   "execution_count": 10,
   "metadata": {},
   "outputs": [
    {
     "data": {
      "text/plain": "<AxesSubplot:xlabel='TravelInsurance', ylabel='count'>"
     },
     "execution_count": 10,
     "metadata": {},
     "output_type": "execute_result"
    },
    {
     "data": {
      "image/png": "[encoded data removed]",
      "text/plain": "<Figure size 360x360 with 1 Axes>"
     },
     "metadata": {
      "needs_background": "light"
     },
     "output_type": "display_data"
    }
   ],
   "source": [
    "fig = plt.figure(figsize=(5,5))\n",
    "sns.countplot(data=df_train, x=\"TravelInsurance\")"
   ]
  },
  {
   "cell_type": "markdown",
   "metadata": {},
   "source": [
    "### Correlación variables "
   ]
  },
  {
   "cell_type": "code",
   "execution_count": 11,
   "metadata": {},
   "outputs": [
    {
     "data": {
      "text/html": "<div>\n<style scoped>\n    .dataframe tbody tr th:only-of-type {\n        vertical-align: middle;\n    }\n\n    .dataframe tbody tr th {\n        vertical-align: top;\n    }\n\n    .dataframe thead th {\n        text-align: right;\n    }\n</style>\n<table border=\"1\" class=\"dataframe\">\n  <thead>\n    <tr style=\"text-align: right;\">\n      <th></th>\n      <th>TravelInsurance</th>\n      <th>abs_corr</th>\n    </tr>\n  </thead>\n  <tbody>\n    <tr>\n      <th>TravelInsurance</th>\n      <td>1.00</td>\n      <td>1.00</td>\n    </tr>\n    <tr>\n      <th>AnnualIncome</th>\n      <td>0.40</td>\n      <td>0.40</td>\n    </tr>\n    <tr>\n      <th>FamilyMembers</th>\n      <td>0.08</td>\n      <td>0.08</td>\n    </tr>\n    <tr>\n      <th>Age</th>\n      <td>0.07</td>\n      <td>0.07</td>\n    </tr>\n    <tr>\n      <th>Customer</th>\n      <td>-0.03</td>\n      <td>0.03</td>\n    </tr>\n    <tr>\n      <th>ChronicDiseases</th>\n      <td>0.02</td>\n      <td>0.02</td>\n    </tr>\n  </tbody>\n</table>\n</div>",
      "text/plain": "                 TravelInsurance  abs_corr\nTravelInsurance             1.00      1.00\nAnnualIncome                0.40      0.40\nFamilyMembers               0.08      0.08\nAge                         0.07      0.07\nCustomer                   -0.03      0.03\nChronicDiseases             0.02      0.02"
     },
     "execution_count": 11,
     "metadata": {},
     "output_type": "execute_result"
    }
   ],
   "source": [
    "corr = df_train.corr().round(2)\n",
    "corr = corr[['TravelInsurance']]\n",
    "corr.loc[:, 'abs_corr'] = np.abs(corr['TravelInsurance'])\n",
    "corr.sort_values(by='abs_corr', ascending=False)"
   ]
  },
  {
   "cell_type": "code",
   "execution_count": 12,
   "metadata": {},
   "outputs": [
    {
     "data": {
      "image/png": "[encoded data removed]",
      "text/plain": "<Figure size 720x720 with 2 Axes>"
     },
     "metadata": {
      "needs_background": "light"
     },
     "output_type": "display_data"
    }
   ],
   "source": [
    "plt.figure(figsize=(10,10))\n",
    "corr = df_train.corr()\n",
    "sns.heatmap(corr, xticklabels = corr.columns, yticklabels = corr.columns, annot=True, cmap= 'coolwarm')\n",
    "plt.show()"
   ]
  },
  {
   "cell_type": "markdown",
   "metadata": {},
   "source": [
    "### Variable explicativa: Age"
   ]
  },
  {
   "cell_type": "markdown",
   "metadata": {},
   "source": [
    "En primer lugar, observamos la distribución de la variable Age en el df_train. "
   ]
  },
  {
   "cell_type": "code",
   "execution_count": 13,
   "metadata": {},
   "outputs": [
    {
     "data": {
      "text/plain": "<AxesSubplot:xlabel='Age'>"
     },
     "execution_count": 13,
     "metadata": {},
     "output_type": "execute_result"
    },
    {
     "data": {
      "image/png": "[encoded data removed]",
      "text/plain": "<Figure size 576x576 with 1 Axes>"
     },
     "metadata": {
      "needs_background": "light"
     },
     "output_type": "display_data"
    }
   ],
   "source": [
    "fig = plt.figure(figsize=(8,8))\n",
    "sns.boxenplot(data=df_train, x=\"Age\")"
   ]
  },
  {
   "cell_type": "code",
   "execution_count": 14,
   "metadata": {},
   "outputs": [
    {
     "data": {
      "text/plain": "<AxesSubplot:xlabel='TravelInsurance', ylabel='Age'>"
     },
     "execution_count": 14,
     "metadata": {},
     "output_type": "execute_result"
    },
    {
     "data": {
      "image/png": "[encoded data removed]",
      "text/plain": "<Figure size 576x576 with 1 Axes>"
     },
     "metadata": {
      "needs_background": "light"
     },
     "output_type": "display_data"
    }
   ],
   "source": [
    "fig = plt.figure(figsize=(8,8))\n",
    "sns.boxenplot(data=df_train, x=\"TravelInsurance\", y=\"Age\")"
   ]
  },
  {
   "cell_type": "code",
   "execution_count": 16,
   "metadata": {},
   "outputs": [
    {
     "data": {
      "text/html": "<div>\n<style scoped>\n    .dataframe tbody tr th:only-of-type {\n        vertical-align: middle;\n    }\n\n    .dataframe tbody tr th {\n        vertical-align: top;\n    }\n\n    .dataframe thead tr th {\n        text-align: left;\n    }\n\n    .dataframe thead tr:last-of-type th {\n        text-align: right;\n    }\n</style>\n<table border=\"1\" class=\"dataframe\">\n  <thead>\n    <tr>\n      <th></th>\n      <th colspan=\"8\" halign=\"left\">Age</th>\n    </tr>\n    <tr>\n      <th></th>\n      <th>count</th>\n      <th>mean</th>\n      <th>std</th>\n      <th>min</th>\n      <th>25%</th>\n      <th>50%</th>\n      <th>75%</th>\n      <th>max</th>\n    </tr>\n    <tr>\n      <th>TravelInsurance</th>\n      <th></th>\n      <th></th>\n      <th></th>\n      <th></th>\n      <th></th>\n      <th></th>\n      <th></th>\n      <th></th>\n    </tr>\n  </thead>\n  <tbody>\n    <tr>\n      <th>0</th>\n      <td>958.0</td>\n      <td>29.520877</td>\n      <td>2.623956</td>\n      <td>25.0</td>\n      <td>28.0</td>\n      <td>29.0</td>\n      <td>31.0</td>\n      <td>35.0</td>\n    </tr>\n    <tr>\n      <th>1</th>\n      <td>532.0</td>\n      <td>29.930451</td>\n      <td>3.279919</td>\n      <td>25.0</td>\n      <td>27.0</td>\n      <td>30.0</td>\n      <td>33.0</td>\n      <td>35.0</td>\n    </tr>\n  </tbody>\n</table>\n</div>",
      "text/plain": "                   Age                                                   \n                 count       mean       std   min   25%   50%   75%   max\nTravelInsurance                                                          \n0                958.0  29.520877  2.623956  25.0  28.0  29.0  31.0  35.0\n1                532.0  29.930451  3.279919  25.0  27.0  30.0  33.0  35.0"
     },
     "execution_count": 16,
     "metadata": {},
     "output_type": "execute_result"
    }
   ],
   "source": [
    "df_train[[\"TravelInsurance\", \"Age\"]].groupby(\"TravelInsurance\").describe()"
   ]
  },
  {
   "cell_type": "markdown",
   "metadata": {},
   "source": [
    "Si bien la distribución de Age se encuentra contenida en el mismo rango de valores para ambas clases de la variable target (idénticos valores mínimos y máximos), podemos observar que la distribución del rango intercuartil sí se ve afectada. \n",
    "Podemos decir que Age es una variable que puede explicar en cierta medida a la variable objetivo. "
   ]
  },
  {
   "cell_type": "markdown",
   "metadata": {},
   "source": [
    "### Variable explicativa: AnnualIncome"
   ]
  },
  {
   "cell_type": "markdown",
   "metadata": {},
   "source": [
    "En primer lugar, observamos la distribución de la variable Annual Income en el df_train. "
   ]
  },
  {
   "cell_type": "code",
   "execution_count": 107,
   "metadata": {},
   "outputs": [
    {
     "data": {
      "image/png": "[encoded data removed]",
      "text/plain": "<Figure size 576x576 with 1 Axes>"
     },
     "metadata": {
      "needs_background": "light"
     },
     "output_type": "display_data"
    }
   ],
   "source": [
    "fig = plt.figure(figsize=(8,8))\n",
    "sns.boxenplot(data=df_train, x=\"AnnualIncome\")\n",
    "plt.ticklabel_format(style='plain', axis='x')"
   ]
  },
  {
   "cell_type": "code",
   "execution_count": 108,
   "metadata": {},
   "outputs": [
    {
     "data": {
      "image/png": "[encoded data removed]",
      "text/plain": "<Figure size 576x576 with 1 Axes>"
     },
     "metadata": {
      "needs_background": "light"
     },
     "output_type": "display_data"
    }
   ],
   "source": [
    "fig = plt.figure(figsize=(8,8))\n",
    "sns.boxenplot(data=df_train, x=\"TravelInsurance\", y=\"AnnualIncome\")\n",
    "plt.ticklabel_format(style='plain', axis='y')"
   ]
  },
  {
   "cell_type": "code",
   "execution_count": 109,
   "metadata": {},
   "outputs": [
    {
     "data": {
      "text/html": "<div>\n<style scoped>\n    .dataframe tbody tr th:only-of-type {\n        vertical-align: middle;\n    }\n\n    .dataframe tbody tr th {\n        vertical-align: top;\n    }\n\n    .dataframe thead tr th {\n        text-align: left;\n    }\n\n    .dataframe thead tr:last-of-type th {\n        text-align: right;\n    }\n</style>\n<table border=\"1\" class=\"dataframe\">\n  <thead>\n    <tr>\n      <th></th>\n      <th colspan=\"8\" halign=\"left\">AnnualIncome</th>\n    </tr>\n    <tr>\n      <th></th>\n      <th>count</th>\n      <th>mean</th>\n      <th>std</th>\n      <th>min</th>\n      <th>25%</th>\n      <th>50%</th>\n      <th>75%</th>\n      <th>max</th>\n    </tr>\n    <tr>\n      <th>TravelInsurance</th>\n      <th></th>\n      <th></th>\n      <th></th>\n      <th></th>\n      <th></th>\n      <th></th>\n      <th></th>\n      <th></th>\n    </tr>\n  </thead>\n  <tbody>\n    <tr>\n      <th>0</th>\n      <td>958.0</td>\n      <td>8.155010e+05</td>\n      <td>334762.832654</td>\n      <td>300000.0</td>\n      <td>500000.0</td>\n      <td>800000.0</td>\n      <td>1100000.0</td>\n      <td>1750000.0</td>\n    </tr>\n    <tr>\n      <th>1</th>\n      <td>532.0</td>\n      <td>1.130075e+06</td>\n      <td>376433.348548</td>\n      <td>300000.0</td>\n      <td>800000.0</td>\n      <td>1250000.0</td>\n      <td>1400000.0</td>\n      <td>1800000.0</td>\n    </tr>\n  </tbody>\n</table>\n</div>",
      "text/plain": "                AnnualIncome                                                   \\\n                       count          mean            std       min       25%   \nTravelInsurance                                                                 \n0                      958.0  8.155010e+05  334762.832654  300000.0  500000.0   \n1                      532.0  1.130075e+06  376433.348548  300000.0  800000.0   \n\n                                                  \n                       50%        75%        max  \nTravelInsurance                                   \n0                 800000.0  1100000.0  1750000.0  \n1                1250000.0  1400000.0  1800000.0  "
     },
     "execution_count": 109,
     "metadata": {},
     "output_type": "execute_result"
    }
   ],
   "source": [
    "(\n",
    "    df_train[[\"TravelInsurance\", \"AnnualIncome\"]]\n",
    "        .groupby([\"TravelInsurance\"])\n",
    "        .describe()\n",
    ")\n"
   ]
  },
  {
   "cell_type": "markdown",
   "metadata": {},
   "source": [
    "Podemos observar que la distribución de la variable Annual Income se ve afectada en gran medida, al condicionarla por las distintas clases de la variable TARGET. Si bien los valores mínimos y máximos son similares, la media y la mediana difieren considerablemente, como así también el rango intercuantil. \n",
    "Es una varible que se considera importante para explicar el comportamiento de Y. "
   ]
  },
  {
   "cell_type": "markdown",
   "metadata": {},
   "source": [
    "### Variable explicativa: Employment Type"
   ]
  },
  {
   "cell_type": "code",
   "execution_count": 17,
   "metadata": {},
   "outputs": [
    {
     "data": {
      "text/plain": "Private Sector/Self Employed    1057\nGovernment Sector                433\nName: Employment Type, dtype: int64"
     },
     "execution_count": 17,
     "metadata": {},
     "output_type": "execute_result"
    }
   ],
   "source": [
    "df_train[\"Employment Type\"].value_counts()"
   ]
  },
  {
   "cell_type": "markdown",
   "metadata": {},
   "source": [
    "### Variable explicativa: Graduate Or Not"
   ]
  },
  {
   "cell_type": "code",
   "execution_count": 18,
   "metadata": {},
   "outputs": [
    {
     "data": {
      "text/plain": "Yes    1268\nNo      222\nName: GraduateOrNot, dtype: int64"
     },
     "execution_count": 18,
     "metadata": {},
     "output_type": "execute_result"
    }
   ],
   "source": [
    "df_train[\"GraduateOrNot\"].value_counts()"
   ]
  },
  {
   "cell_type": "code",
   "execution_count": 49,
   "metadata": {},
   "outputs": [
    {
     "data": {
      "text/html": "<div>\n<style scoped>\n    .dataframe tbody tr th:only-of-type {\n        vertical-align: middle;\n    }\n\n    .dataframe tbody tr th {\n        vertical-align: top;\n    }\n\n    .dataframe thead th {\n        text-align: right;\n    }\n</style>\n<table border=\"1\" class=\"dataframe\">\n  <thead>\n    <tr style=\"text-align: right;\">\n      <th></th>\n      <th></th>\n      <th></th>\n      <th>nof_customers</th>\n      <th>percentage</th>\n    </tr>\n    <tr>\n      <th>TravelInsurance</th>\n      <th>Employment Type</th>\n      <th>GraduateOrNot</th>\n      <th></th>\n      <th></th>\n    </tr>\n  </thead>\n  <tbody>\n    <tr>\n      <th rowspan=\"4\" valign=\"top\">0</th>\n      <th rowspan=\"2\" valign=\"top\">Government Sector</th>\n      <th>No</th>\n      <td>34</td>\n      <td>0.022819</td>\n    </tr>\n    <tr>\n      <th>Yes</th>\n      <td>299</td>\n      <td>0.200671</td>\n    </tr>\n    <tr>\n      <th rowspan=\"2\" valign=\"top\">Private Sector/Self Employed</th>\n      <th>No</th>\n      <td>107</td>\n      <td>0.071812</td>\n    </tr>\n    <tr>\n      <th>Yes</th>\n      <td>518</td>\n      <td>0.347651</td>\n    </tr>\n    <tr>\n      <th rowspan=\"3\" valign=\"top\">1</th>\n      <th>Government Sector</th>\n      <th>Yes</th>\n      <td>100</td>\n      <td>0.067114</td>\n    </tr>\n    <tr>\n      <th rowspan=\"2\" valign=\"top\">Private Sector/Self Employed</th>\n      <th>No</th>\n      <td>81</td>\n      <td>0.054362</td>\n    </tr>\n    <tr>\n      <th>Yes</th>\n      <td>351</td>\n      <td>0.235570</td>\n    </tr>\n  </tbody>\n</table>\n</div>",
      "text/plain": "                                                            nof_customers  \\\nTravelInsurance Employment Type              GraduateOrNot                  \n0               Government Sector            No                        34   \n                                             Yes                      299   \n                Private Sector/Self Employed No                       107   \n                                             Yes                      518   \n1               Government Sector            Yes                      100   \n                Private Sector/Self Employed No                        81   \n                                             Yes                      351   \n\n                                                            percentage  \nTravelInsurance Employment Type              GraduateOrNot              \n0               Government Sector            No               0.022819  \n                                             Yes              0.200671  \n                Private Sector/Self Employed No               0.071812  \n                                             Yes              0.347651  \n1               Government Sector            Yes              0.067114  \n                Private Sector/Self Employed No               0.054362  \n                                             Yes              0.235570  "
     },
     "execution_count": 49,
     "metadata": {},
     "output_type": "execute_result"
    }
   ],
   "source": [
    "(\n",
    "    df_train[[\"TravelInsurance\", \"Employment Type\", \"GraduateOrNot\", \"Customer\"]]\n",
    "        .groupby([\"TravelInsurance\", \"Employment Type\", \"GraduateOrNot\"])\n",
    "        .agg(\n",
    "            nof_customers=(\"Customer\", \"count\"),\n",
    "            percentage=(\"Customer\", lambda group: len(group) / len(df_train))\n",
    "        )\n",
    ")"
   ]
  },
  {
   "cell_type": "code",
   "execution_count": 45,
   "metadata": {},
   "outputs": [
    {
     "data": {
      "text/html": "<div>\n<style scoped>\n    .dataframe tbody tr th:only-of-type {\n        vertical-align: middle;\n    }\n\n    .dataframe tbody tr th {\n        vertical-align: top;\n    }\n\n    .dataframe thead th {\n        text-align: right;\n    }\n</style>\n<table border=\"1\" class=\"dataframe\">\n  <thead>\n    <tr style=\"text-align: right;\">\n      <th>Employment Type</th>\n      <th>Government Sector</th>\n      <th>Private Sector/Self Employed</th>\n    </tr>\n    <tr>\n      <th>TravelInsurance</th>\n      <th></th>\n      <th></th>\n    </tr>\n  </thead>\n  <tbody>\n    <tr>\n      <th>0</th>\n      <td>333</td>\n      <td>625</td>\n    </tr>\n    <tr>\n      <th>1</th>\n      <td>100</td>\n      <td>432</td>\n    </tr>\n  </tbody>\n</table>\n</div>",
      "text/plain": "Employment Type  Government Sector  Private Sector/Self Employed\nTravelInsurance                                                 \n0                              333                           625\n1                              100                           432"
     },
     "execution_count": 45,
     "metadata": {},
     "output_type": "execute_result"
    }
   ],
   "source": [
    "pd.crosstab(df_train[\"TravelInsurance\"], df_train[\"Employment Type\"])"
   ]
  },
  {
   "cell_type": "code",
   "execution_count": 37,
   "metadata": {},
   "outputs": [
    {
     "data": {
      "text/html": "<div>\n<style scoped>\n    .dataframe tbody tr th:only-of-type {\n        vertical-align: middle;\n    }\n\n    .dataframe tbody tr th {\n        vertical-align: top;\n    }\n\n    .dataframe thead th {\n        text-align: right;\n    }\n</style>\n<table border=\"1\" class=\"dataframe\">\n  <thead>\n    <tr style=\"text-align: right;\">\n      <th></th>\n      <th>Customer</th>\n      <th>Age</th>\n      <th>Employment Type</th>\n      <th>GraduateOrNot</th>\n      <th>AnnualIncome</th>\n      <th>FamilyMembers</th>\n      <th>ChronicDiseases</th>\n      <th>FrequentFlyer</th>\n      <th>EverTravelledAbroad</th>\n      <th>TravelInsurance</th>\n    </tr>\n  </thead>\n  <tbody>\n    <tr>\n      <th>0</th>\n      <td>1</td>\n      <td>33</td>\n      <td>Private Sector/Self Employed</td>\n      <td>Yes</td>\n      <td>550000</td>\n      <td>6</td>\n      <td>0</td>\n      <td>No</td>\n      <td>No</td>\n      <td>1</td>\n    </tr>\n    <tr>\n      <th>1</th>\n      <td>2</td>\n      <td>28</td>\n      <td>Private Sector/Self Employed</td>\n      <td>Yes</td>\n      <td>800000</td>\n      <td>7</td>\n      <td>0</td>\n      <td>Yes</td>\n      <td>No</td>\n      <td>0</td>\n    </tr>\n    <tr>\n      <th>2</th>\n      <td>3</td>\n      <td>31</td>\n      <td>Private Sector/Self Employed</td>\n      <td>Yes</td>\n      <td>1250000</td>\n      <td>4</td>\n      <td>0</td>\n      <td>No</td>\n      <td>No</td>\n      <td>0</td>\n    </tr>\n    <tr>\n      <th>3</th>\n      <td>4</td>\n      <td>31</td>\n      <td>Government Sector</td>\n      <td>No</td>\n      <td>300000</td>\n      <td>7</td>\n      <td>0</td>\n      <td>No</td>\n      <td>No</td>\n      <td>0</td>\n    </tr>\n    <tr>\n      <th>4</th>\n      <td>5</td>\n      <td>28</td>\n      <td>Private Sector/Self Employed</td>\n      <td>Yes</td>\n      <td>1250000</td>\n      <td>3</td>\n      <td>0</td>\n      <td>No</td>\n      <td>No</td>\n      <td>0</td>\n    </tr>\n    <tr>\n      <th>...</th>\n      <td>...</td>\n      <td>...</td>\n      <td>...</td>\n      <td>...</td>\n      <td>...</td>\n      <td>...</td>\n      <td>...</td>\n      <td>...</td>\n      <td>...</td>\n      <td>...</td>\n    </tr>\n    <tr>\n      <th>1485</th>\n      <td>1486</td>\n      <td>31</td>\n      <td>Government Sector</td>\n      <td>No</td>\n      <td>300000</td>\n      <td>5</td>\n      <td>0</td>\n      <td>No</td>\n      <td>No</td>\n      <td>0</td>\n    </tr>\n    <tr>\n      <th>1486</th>\n      <td>1487</td>\n      <td>31</td>\n      <td>Private Sector/Self Employed</td>\n      <td>Yes</td>\n      <td>950000</td>\n      <td>3</td>\n      <td>0</td>\n      <td>Yes</td>\n      <td>No</td>\n      <td>0</td>\n    </tr>\n    <tr>\n      <th>1487</th>\n      <td>1488</td>\n      <td>28</td>\n      <td>Private Sector/Self Employed</td>\n      <td>Yes</td>\n      <td>1250000</td>\n      <td>5</td>\n      <td>0</td>\n      <td>No</td>\n      <td>No</td>\n      <td>0</td>\n    </tr>\n    <tr>\n      <th>1488</th>\n      <td>1489</td>\n      <td>31</td>\n      <td>Government Sector</td>\n      <td>Yes</td>\n      <td>1300000</td>\n      <td>5</td>\n      <td>0</td>\n      <td>No</td>\n      <td>No</td>\n      <td>0</td>\n    </tr>\n    <tr>\n      <th>1489</th>\n      <td>1490</td>\n      <td>30</td>\n      <td>Private Sector/Self Employed</td>\n      <td>No</td>\n      <td>650000</td>\n      <td>4</td>\n      <td>0</td>\n      <td>No</td>\n      <td>No</td>\n      <td>0</td>\n    </tr>\n  </tbody>\n</table>\n<p>1490 rows × 10 columns</p>\n</div>",
      "text/plain": "      Customer  Age               Employment Type GraduateOrNot  AnnualIncome  \\\n0            1   33  Private Sector/Self Employed           Yes        550000   \n1            2   28  Private Sector/Self Employed           Yes        800000   \n2            3   31  Private Sector/Self Employed           Yes       1250000   \n3            4   31             Government Sector            No        300000   \n4            5   28  Private Sector/Self Employed           Yes       1250000   \n...        ...  ...                           ...           ...           ...   \n1485      1486   31             Government Sector            No        300000   \n1486      1487   31  Private Sector/Self Employed           Yes        950000   \n1487      1488   28  Private Sector/Self Employed           Yes       1250000   \n1488      1489   31             Government Sector           Yes       1300000   \n1489      1490   30  Private Sector/Self Employed            No        650000   \n\n      FamilyMembers  ChronicDiseases FrequentFlyer EverTravelledAbroad  \\\n0                 6                0            No                  No   \n1                 7                0           Yes                  No   \n2                 4                0            No                  No   \n3                 7                0            No                  No   \n4                 3                0            No                  No   \n...             ...              ...           ...                 ...   \n1485              5                0            No                  No   \n1486              3                0           Yes                  No   \n1487              5                0            No                  No   \n1488              5                0            No                  No   \n1489              4                0            No                  No   \n\n      TravelInsurance  \n0                   1  \n1                   0  \n2                   0  \n3                   0  \n4                   0  \n...               ...  \n1485                0  \n1486                0  \n1487                0  \n1488                0  \n1489                0  \n\n[1490 rows x 10 columns]"
     },
     "execution_count": 37,
     "metadata": {},
     "output_type": "execute_result"
    }
   ],
   "source": [
    "df_train"
   ]
  },
  {
   "cell_type": "code",
   "execution_count": 39,
   "metadata": {},
   "outputs": [
    {
     "data": {
      "text/plain": "<seaborn.axisgrid.PairGrid at 0x7f3964dad6d0>"
     },
     "execution_count": 39,
     "metadata": {},
     "output_type": "execute_result"
    },
    {
     "data": {
      "image/png": "[encoded data removed]",
      "text/plain": "<Figure size 360x360 with 6 Axes>"
     },
     "metadata": {
      "needs_background": "light"
     },
     "output_type": "display_data"
    }
   ],
   "source": []
  },
  {
   "cell_type": "markdown",
   "metadata": {},
   "source": [
    "### Variable explicativa: Frequent Flyer"
   ]
  },
  {
   "cell_type": "code",
   "execution_count": 112,
   "metadata": {},
   "outputs": [
    {
     "data": {
      "text/plain": "No     1173\nYes     317\nName: FrequentFlyer, dtype: int64"
     },
     "execution_count": 112,
     "metadata": {},
     "output_type": "execute_result"
    }
   ],
   "source": [
    "df_train[\"FrequentFlyer\"].value_counts()"
   ]
  },
  {
   "cell_type": "markdown",
   "metadata": {},
   "source": [
    "### Variable explicativa: Ever Travelled Abroad"
   ]
  },
  {
   "cell_type": "code",
   "execution_count": 113,
   "metadata": {},
   "outputs": [
    {
     "data": {
      "text/plain": "No     1202\nYes     288\nName: EverTravelledAbroad, dtype: int64"
     },
     "execution_count": 113,
     "metadata": {},
     "output_type": "execute_result"
    }
   ],
   "source": [
    "df_train[\"EverTravelledAbroad\"].value_counts()"
   ]
  },
  {
   "cell_type": "markdown",
   "metadata": {},
   "source": [
    "### Variable explicativa: Employment Type"
   ]
  },
  {
   "cell_type": "code",
   "execution_count": 137,
   "metadata": {},
   "outputs": [
    {
     "data": {
      "text/plain": "<AxesSubplot:xlabel='Employment Type', ylabel='count'>"
     },
     "execution_count": 137,
     "metadata": {},
     "output_type": "execute_result"
    },
    {
     "data": {
      "image/png": "[encoded data removed]",
      "text/plain": "<Figure size 432x288 with 1 Axes>"
     },
     "metadata": {
      "needs_background": "light"
     },
     "output_type": "display_data"
    }
   ],
   "source": [
    "sns.countplot(data=df_train, x=\"Employment Type\")"
   ]
  },
  {
   "cell_type": "markdown",
   "metadata": {},
   "source": [
    "Para el entrenamiento de los modelos no utilizaremos las variable Customer y Travel Insurance (Target)"
   ]
  },
  {
   "cell_type": "code",
   "execution_count": 114,
   "metadata": {
    "tags": []
   },
   "outputs": [],
   "source": [
    "X_train_total = df_train.drop([\"Customer\",\"TravelInsurance\"], axis=1)\n",
    "Y_train_total = df_train[\"TravelInsurance\"]"
   ]
  },
  {
   "cell_type": "markdown",
   "metadata": {},
   "source": [
    "## Encoding variables"
   ]
  },
  {
   "cell_type": "code",
   "execution_count": 115,
   "metadata": {
    "tags": []
   },
   "outputs": [],
   "source": [
    "numerical_cols = X_train_total.select_dtypes(include=['float64', 'int64']).columns"
   ]
  },
  {
   "cell_type": "code",
   "execution_count": 116,
   "metadata": {},
   "outputs": [
    {
     "data": {
      "text/plain": "Index(['Age', 'AnnualIncome', 'FamilyMembers', 'ChronicDiseases'], dtype='object')"
     },
     "execution_count": 116,
     "metadata": {},
     "output_type": "execute_result"
    }
   ],
   "source": [
    "numerical_cols"
   ]
  },
  {
   "cell_type": "code",
   "execution_count": 117,
   "metadata": {},
   "outputs": [],
   "source": [
    "categorical_cols = X_train_total.select_dtypes(include=['object']).columns"
   ]
  },
  {
   "cell_type": "code",
   "execution_count": 118,
   "metadata": {},
   "outputs": [
    {
     "data": {
      "text/plain": "Index(['Employment Type', 'GraduateOrNot', 'FrequentFlyer',\n       'EverTravelledAbroad'],\n      dtype='object')"
     },
     "execution_count": 118,
     "metadata": {},
     "output_type": "execute_result"
    }
   ],
   "source": [
    "categorical_cols"
   ]
  },
  {
   "cell_type": "code",
   "execution_count": 119,
   "metadata": {
    "tags": []
   },
   "outputs": [
    {
     "data": {
      "text/plain": "[array(['Government Sector', 'Private Sector/Self Employed'], dtype=object),\n array(['No', 'Yes'], dtype=object),\n array(['No', 'Yes'], dtype=object),\n array(['No', 'Yes'], dtype=object)]"
     },
     "execution_count": 119,
     "metadata": {},
     "output_type": "execute_result"
    }
   ],
   "source": [
    "from sklearn.preprocessing import OneHotEncoder\n",
    "\n",
    "encoder = OneHotEncoder(sparse=False)\n",
    "encoder.fit(X_train_total[categorical_cols])\n",
    "# We can inspect the categories found by the encoder\n",
    "encoder.categories_"
   ]
  },
  {
   "cell_type": "code",
   "execution_count": 120,
   "metadata": {},
   "outputs": [
    {
     "data": {
      "text/plain": "array([[0., 1., 0., 1., 1., 0., 1., 0.],\n       [0., 1., 0., 1., 0., 1., 1., 0.],\n       [0., 1., 0., 1., 1., 0., 1., 0.],\n       [1., 0., 1., 0., 1., 0., 1., 0.],\n       [0., 1., 0., 1., 1., 0., 1., 0.],\n       [0., 1., 1., 0., 0., 1., 0., 1.],\n       [1., 0., 1., 0., 1., 0., 1., 0.],\n       [1., 0., 0., 1., 1., 0., 1., 0.],\n       [1., 0., 0., 1., 1., 0., 1., 0.],\n       [0., 1., 1., 0., 0., 1., 1., 0.]])"
     },
     "execution_count": 120,
     "metadata": {},
     "output_type": "execute_result"
    }
   ],
   "source": [
    "encoded_types = encoder.transform(X_train_total[categorical_cols])\n",
    "encoded_types[:10]"
   ]
  },
  {
   "cell_type": "code",
   "execution_count": 121,
   "metadata": {},
   "outputs": [
    {
     "data": {
      "text/plain": "array([[     33,  550000,       6,       0],\n       [     28,  800000,       7,       0],\n       [     31, 1250000,       4,       0],\n       [     31,  300000,       7,       0],\n       [     28, 1250000,       3,       0],\n       [     25, 1350000,       3,       1],\n       [     33,  400000,       4,       0],\n       [     26,  500000,       5,       0],\n       [     31,  400000,       4,       0],\n       [     35,  800000,       6,       0]])"
     },
     "execution_count": 121,
     "metadata": {},
     "output_type": "execute_result"
    }
   ],
   "source": [
    "X_train_total = X_train_total[numerical_cols].values\n",
    "X_train_total[:10]"
   ]
  },
  {
   "cell_type": "code",
   "execution_count": 122,
   "metadata": {},
   "outputs": [
    {
     "data": {
      "text/plain": "array([[0.00e+00, 1.00e+00, 0.00e+00, 1.00e+00, 1.00e+00, 0.00e+00,\n        1.00e+00, 0.00e+00, 3.30e+01, 5.50e+05, 6.00e+00, 0.00e+00],\n       [0.00e+00, 1.00e+00, 0.00e+00, 1.00e+00, 0.00e+00, 1.00e+00,\n        1.00e+00, 0.00e+00, 2.80e+01, 8.00e+05, 7.00e+00, 0.00e+00],\n       [0.00e+00, 1.00e+00, 0.00e+00, 1.00e+00, 1.00e+00, 0.00e+00,\n        1.00e+00, 0.00e+00, 3.10e+01, 1.25e+06, 4.00e+00, 0.00e+00],\n       [1.00e+00, 0.00e+00, 1.00e+00, 0.00e+00, 1.00e+00, 0.00e+00,\n        1.00e+00, 0.00e+00, 3.10e+01, 3.00e+05, 7.00e+00, 0.00e+00],\n       [0.00e+00, 1.00e+00, 0.00e+00, 1.00e+00, 1.00e+00, 0.00e+00,\n        1.00e+00, 0.00e+00, 2.80e+01, 1.25e+06, 3.00e+00, 0.00e+00]])"
     },
     "execution_count": 122,
     "metadata": {},
     "output_type": "execute_result"
    }
   ],
   "source": [
    "X_train_enc = np.hstack((encoded_types, X_train_total))\n",
    "X_train_enc [:5]"
   ]
  },
  {
   "cell_type": "code",
   "execution_count": 123,
   "metadata": {},
   "outputs": [
    {
     "data": {
      "text/plain": "(1490, 12)"
     },
     "execution_count": 123,
     "metadata": {},
     "output_type": "execute_result"
    }
   ],
   "source": [
    "X_train_enc.shape"
   ]
  },
  {
   "cell_type": "markdown",
   "metadata": {},
   "source": [
    "## Creación del train y validation"
   ]
  },
  {
   "cell_type": "code",
   "execution_count": 124,
   "metadata": {},
   "outputs": [],
   "source": [
    "X_train, X_valid, Y_train, Y_valid = train_test_split(X_train_total,\n",
    "                                                      Y_train_total,\n",
    "                                                      test_size=0.2,\n",
    "                                                      random_state=0)\n"
   ]
  },
  {
   "cell_type": "markdown",
   "metadata": {},
   "source": [
    "## Modelos propuestos"
   ]
  },
  {
   "cell_type": "markdown",
   "metadata": {},
   "source": [
    "## Primer modelo de prueba: Regresión Logística"
   ]
  },
  {
   "cell_type": "code",
   "execution_count": 125,
   "metadata": {},
   "outputs": [
    {
     "data": {
      "text/plain": "Pipeline(steps=[('scaler', StandardScaler()),\n                ('lreg', LogisticRegression(random_state=0))])"
     },
     "execution_count": 125,
     "metadata": {},
     "output_type": "execute_result"
    }
   ],
   "source": [
    "#X_train_lreg = X_train_enc[np.concatenate((num_cols,cat_cols))]\n",
    "#X_val_lreg = X_val_c[np.concatenate((num_cols,cat_cols))]\n",
    "\n",
    "pipe = Pipeline([('scaler', StandardScaler()), ('lreg', LogisticRegression(random_state=0))])\n",
    "\n",
    "pipe.fit(X_train, Y_train)"
   ]
  },
  {
   "cell_type": "code",
   "execution_count": 126,
   "metadata": {},
   "outputs": [
    {
     "data": {
      "text/plain": "array([0, 1])"
     },
     "execution_count": 126,
     "metadata": {},
     "output_type": "execute_result"
    }
   ],
   "source": [
    "pipe['lreg'].classes_"
   ]
  },
  {
   "cell_type": "code",
   "execution_count": 127,
   "metadata": {},
   "outputs": [
    {
     "data": {
      "text/plain": "{'C': 1.0,\n 'class_weight': None,\n 'dual': False,\n 'fit_intercept': True,\n 'intercept_scaling': 1,\n 'l1_ratio': None,\n 'max_iter': 100,\n 'multi_class': 'auto',\n 'n_jobs': None,\n 'penalty': 'l2',\n 'random_state': 0,\n 'solver': 'lbfgs',\n 'tol': 0.0001,\n 'verbose': 0,\n 'warm_start': False}"
     },
     "execution_count": 127,
     "metadata": {},
     "output_type": "execute_result"
    }
   ],
   "source": [
    "pipe['lreg'].get_params()"
   ]
  },
  {
   "cell_type": "code",
   "execution_count": 128,
   "metadata": {},
   "outputs": [],
   "source": [
    "Y_train_predic_lreg = pipe.predict(X_train)\n",
    "Y_val_pred_lreg = pipe.predict(X_valid)"
   ]
  },
  {
   "cell_type": "code",
   "execution_count": 129,
   "metadata": {},
   "outputs": [
    {
     "name": "stdout",
     "output_type": "stream",
     "text": [
      "====================================================================\n",
      "Logistic Regression - Reporte de clasificación del conjunto de train\n",
      "====================================================================\n",
      "              precision    recall  f1-score   support\n",
      "\n",
      "           0       0.78      0.88      0.82       766\n",
      "           1       0.71      0.54      0.62       426\n",
      "\n",
      "    accuracy                           0.76      1192\n",
      "   macro avg       0.74      0.71      0.72      1192\n",
      "weighted avg       0.75      0.76      0.75      1192\n",
      "\n"
     ]
    }
   ],
   "source": [
    "text = \"Logistic Regression - Reporte de clasificación del conjunto de train\" \n",
    "print(len(text)*\"=\")\n",
    "print(text)\n",
    "print(len(text)*\"=\")\n",
    "print(classification_report(Y_train, Y_train_predic_lreg))"
   ]
  },
  {
   "cell_type": "code",
   "execution_count": 130,
   "metadata": {},
   "outputs": [
    {
     "name": "stdout",
     "output_type": "stream",
     "text": [
      "=========================================================================\n",
      "Logistic Regression - Reporte de clasificación del conjunto de validation\n",
      "=========================================================================\n",
      "              precision    recall  f1-score   support\n",
      "\n",
      "           0       0.76      0.85      0.80       192\n",
      "           1       0.65      0.50      0.57       106\n",
      "\n",
      "    accuracy                           0.73       298\n",
      "   macro avg       0.71      0.68      0.68       298\n",
      "weighted avg       0.72      0.73      0.72       298\n",
      "\n"
     ]
    }
   ],
   "source": [
    "text = \"Logistic Regression - Reporte de clasificación del conjunto de validation\" \n",
    "print(len(text)*\"=\")\n",
    "print(text)\n",
    "print(len(text)*\"=\")\n",
    "print(classification_report(Y_valid, Y_val_pred_lreg))"
   ]
  },
  {
   "cell_type": "markdown",
   "metadata": {},
   "source": [
    "## Segundo modelo de prueba: Árbol de decisión"
   ]
  },
  {
   "cell_type": "code",
   "execution_count": 131,
   "metadata": {},
   "outputs": [
    {
     "data": {
      "text/plain": "DecisionTreeClassifier(random_state=0)"
     },
     "execution_count": 131,
     "metadata": {},
     "output_type": "execute_result"
    }
   ],
   "source": [
    "clf_tree = DecisionTreeClassifier(random_state=0)\n",
    "clf_tree.fit(X_train, Y_train)"
   ]
  },
  {
   "cell_type": "code",
   "execution_count": 132,
   "metadata": {},
   "outputs": [],
   "source": [
    "Y_train_pred = clf_tree.predict(X_train)\n",
    "Y_valid_pred = clf_tree.predict(X_valid)"
   ]
  },
  {
   "cell_type": "code",
   "execution_count": 133,
   "metadata": {},
   "outputs": [
    {
     "name": "stdout",
     "output_type": "stream",
     "text": [
      "Train accuracy: 0.92\n",
      "Test accuracy: 0.8\n"
     ]
    }
   ],
   "source": [
    "train_acc = accuracy_score(Y_train, Y_train_pred)\n",
    "valid_acc = accuracy_score(Y_valid, Y_valid_pred)\n",
    "print(f'Train accuracy: {train_acc:0.2}')\n",
    "print(f'Test accuracy: {valid_acc:0.2}')"
   ]
  }
 ],
 "metadata": {
  "kernelspec": {
   "display_name": "Python 3.9.7 64-bit ('diplodatos-supervised': conda)",
   "name": "python397jvsc74a57bd01fbf230ed8a49891bdc325a868414da3a93ccc603acb0edf0a274c21ede9f486"
  },
  "language_info": {
   "codemirror_mode": {
    "name": "ipython",
    "version": 3
   },
   "file_extension": ".py",
   "mimetype": "text/x-python",
   "name": "python",
   "nbconvert_exporter": "python",
   "pygments_lexer": "ipython3",
   "version": "3.9.7"
  }
 },
 "nbformat": 4,
 "nbformat_minor": 5
}