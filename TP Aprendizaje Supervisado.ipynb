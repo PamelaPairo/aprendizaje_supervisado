{
 "cells": [
  {
   "cell_type": "markdown",
   "id": "0d4fd6e0",
   "metadata": {},
   "source": [
    "# APRENDIZAJE SUPERVISADO"
   ]
  },
  {
   "cell_type": "markdown",
   "id": "61af02c7",
   "metadata": {},
   "source": [
    "## Importación de librerias"
   ]
  },
  {
   "cell_type": "code",
   "execution_count": null,
   "id": "60ffc3f7",
   "metadata": {},
   "outputs": [],
   "source": [
    "import pandas as pd\n",
    "import numpy as np\n",
    "import matplotlib.pyplot as plt\n",
    "import seaborn as sns\n",
    "from sklearn.linear_model import LogisticRegression\n",
    "from sklearn.pipeline import Pipeline\n",
    "from sklearn.preprocessing import StandardScaler\n",
    "from sklearn.metrics import classification_report, confusion_matrix, plot_confusion_matrix\n",
    "from sklearn.tree import DecisionTreeClassifier\n",
    "from sklearn.model_selection import train_test_split\n",
    "from sklearn.metrics import accuracy_score"
   ]
  },
  {
   "cell_type": "markdown",
   "id": "8d00b1ff",
   "metadata": {},
   "source": [
    "## Lectura del dataset"
   ]
  },
  {
   "cell_type": "code",
   "execution_count": null,
   "id": "7ff3bb0c",
   "metadata": {},
   "outputs": [],
   "source": [
    "URL_TRAIN_DATA = \"https://www.famaf.unc.edu.ar/~nocampo043/travel_insurance_prediction_train.csv\"\n",
    "URL_TEST_DATA = \"https://www.famaf.unc.edu.ar/~nocampo043/travel_insurance_prediction_test.csv\"\n",
    "\n",
    "\n",
    "df_train = pd.read_csv(URL_TRAIN_DATA)\n",
    "df_test = pd.read_csv(URL_TEST_DATA)"
   ]
  },
  {
   "cell_type": "code",
   "execution_count": null,
   "id": "c74104db",
   "metadata": {},
   "outputs": [],
   "source": [
    "df_train.info()"
   ]
  },
  {
   "cell_type": "code",
   "execution_count": null,
   "id": "6d71cd4b",
   "metadata": {},
   "outputs": [],
   "source": [
    "df_test.info()"
   ]
  },
  {
   "cell_type": "code",
   "execution_count": null,
   "id": "7e6ece13",
   "metadata": {},
   "outputs": [],
   "source": [
    "df_train"
   ]
  },
  {
   "cell_type": "code",
   "execution_count": null,
   "id": "eec33416",
   "metadata": {},
   "outputs": [],
   "source": [
    "df_test"
   ]
  },
  {
   "cell_type": "markdown",
   "id": "a1ffdb9e",
   "metadata": {},
   "source": [
    "## Análisis descriptivo"
   ]
  },
  {
   "cell_type": "code",
   "execution_count": null,
   "id": "d8bb1306",
   "metadata": {},
   "outputs": [],
   "source": [
    "df_train.describe().round()"
   ]
  },
  {
   "cell_type": "markdown",
   "id": "20eba4a4",
   "metadata": {},
   "source": [
    "### Variable objetivo o target: Travel Insurance"
   ]
  },
  {
   "cell_type": "code",
   "execution_count": null,
   "id": "0d9a4e5d",
   "metadata": {},
   "outputs": [],
   "source": [
    "df_train[\"TravelInsurance\"].value_counts()"
   ]
  },
  {
   "cell_type": "code",
   "execution_count": null,
   "id": "61def39e",
   "metadata": {},
   "outputs": [],
   "source": [
    "fig = plt.figure(figsize=(5,5))\n",
    "sns.countplot(data=df_train, x=\"TravelInsurance\")"
   ]
  },
  {
   "cell_type": "markdown",
   "id": "2c0d57d8",
   "metadata": {},
   "source": [
    "### Correlación variables"
   ]
  },
  {
   "cell_type": "code",
   "execution_count": null,
   "id": "fc07b060",
   "metadata": {
    "lines_to_next_cell": 0
   },
   "outputs": [],
   "source": [
    "corr = df_train[[\"AnnualIncome\", \"Age\"]].corr().round(2)\n",
    "corr = corr[['TravelInsurance']]\n",
    "corr.loc[:, 'abs_corr'] = np.abs(corr['TravelInsurance'])\n",
    "corr.sort_values(by='abs_corr', ascending=False)"
   ]
  },
  {
   "cell_type": "code",
   "execution_count": null,
   "id": "371a3f95",
   "metadata": {
    "lines_to_next_cell": 0
   },
   "outputs": [],
   "source": [
    "plt.figure(figsize=(10,10))\n",
    "corr = df_train.corr()\n",
    "sns.heatmap(corr, xticklabels = corr.columns, yticklabels = corr.columns, annot=True, cmap= 'coolwarm')\n",
    "plt.show()"
   ]
  },
  {
   "cell_type": "markdown",
   "id": "cfda616b",
   "metadata": {},
   "source": [
    "### Variable explicativa: Age"
   ]
  },
  {
   "cell_type": "markdown",
   "id": "8ebe466a",
   "metadata": {
    "lines_to_next_cell": 0
   },
   "source": [
    "En primer lugar, observamos la distribución de la variable Age en el df_train."
   ]
  },
  {
   "cell_type": "code",
   "execution_count": null,
   "id": "4157cc43",
   "metadata": {
    "lines_to_next_cell": 0
   },
   "outputs": [],
   "source": [
    "sns.countplot(data=df_train, x=\"Age\", hue=\"TravelInsurance\")"
   ]
  },
  {
   "cell_type": "code",
   "execution_count": null,
   "id": "253af5a9",
   "metadata": {
    "lines_to_next_cell": 0
   },
   "outputs": [],
   "source": [
    "df_train[[\"TravelInsurance\", \"Age\"]].groupby(\"TravelInsurance\").describe()"
   ]
  },
  {
   "cell_type": "markdown",
   "id": "25b5d4c8",
   "metadata": {
    "lines_to_next_cell": 0
   },
   "source": [
    "Podemos observar que se encuentran fluctuaciones con respecto a la edad."
   ]
  },
  {
   "cell_type": "markdown",
   "id": "f05c6619",
   "metadata": {},
   "source": [
    "### Variable explicativa: AnnualIncome"
   ]
  },
  {
   "cell_type": "markdown",
   "id": "aa97e9b9",
   "metadata": {},
   "source": [
    "En primer lugar, observamos la distribución de la variable Annual Income en el df_train."
   ]
  },
  {
   "cell_type": "code",
   "execution_count": null,
   "id": "3a83b865",
   "metadata": {},
   "outputs": [],
   "source": [
    "fig = plt.figure(figsize=(8,8))\n",
    "sns.boxenplot(data=df_train, x=\"AnnualIncome\")\n",
    "plt.ticklabel_format(style='plain', axis='x')"
   ]
  },
  {
   "cell_type": "code",
   "execution_count": null,
   "id": "81fadf49",
   "metadata": {},
   "outputs": [],
   "source": [
    "fig = plt.figure(figsize=(8,8))\n",
    "sns.boxenplot(data=df_train, x=\"TravelInsurance\", y=\"AnnualIncome\")\n",
    "plt.ticklabel_format(style='plain', axis='y')"
   ]
  },
  {
   "cell_type": "code",
   "execution_count": null,
   "id": "01a5a080",
   "metadata": {
    "lines_to_next_cell": 0
   },
   "outputs": [],
   "source": [
    "(\n",
    "    df_train[[\"TravelInsurance\", \"AnnualIncome\"]]\n",
    "        .groupby([\"TravelInsurance\"])\n",
    "        .describe()\n",
    ")"
   ]
  },
  {
   "cell_type": "markdown",
   "id": "da4d9b21",
   "metadata": {},
   "source": [
    "Podemos observar que la distribución de la variable Annual Income se ve afectada en gran medida, al condicionarla por las distintas clases de la variable TARGET. Si bien los valores mínimos y máximos son similares, la media y la mediana difieren considerablemente, como así también el rango intercuantil.\n",
    "Es una varible que se considera importante para explicar el comportamiento de Y."
   ]
  },
  {
   "cell_type": "markdown",
   "id": "936a260b",
   "metadata": {
    "lines_to_next_cell": 0
   },
   "source": [
    "### Variable explicativa: Employment Type"
   ]
  },
  {
   "cell_type": "code",
   "execution_count": null,
   "id": "7ac98195",
   "metadata": {
    "lines_to_next_cell": 0
   },
   "outputs": [],
   "source": [
    "df_train[\"Employment Type\"].value_counts()\n",
    "pd.crosstab(df_train[\"TravelInsurance\"], df_train[\"GraduateOrNot\"])"
   ]
  },
  {
   "cell_type": "code",
   "execution_count": null,
   "id": "9bef6f5c",
   "metadata": {},
   "outputs": [],
   "source": [
    "fig = plt.figure(figsize=(5, 5))\n",
    "sns.countplot(data=df_train,\n",
    "              x=\"TravelInsurance\",\n",
    "              hue=df_train[\"Employment Type\"])\n",
    "pd.crosstab(df_train[\"TravelInsurance\"], df_train[\"Employment Type\"])"
   ]
  },
  {
   "cell_type": "markdown",
   "id": "9357d094",
   "metadata": {},
   "source": [
    "### Variable explicativa: Graduate Or Not"
   ]
  },
  {
   "cell_type": "code",
   "execution_count": null,
   "id": "6d216d4a",
   "metadata": {
    "lines_to_next_cell": 0
   },
   "outputs": [],
   "source": [
    "df_train[\"GraduateOrNot\"].value_counts()"
   ]
  },
  {
   "cell_type": "code",
   "execution_count": null,
   "id": "9dacb958",
   "metadata": {
    "lines_to_next_cell": 0
   },
   "outputs": [],
   "source": [
    "fig = plt.figure(figsize=(5, 5))\n",
    "sns.countplot(data=df_train,\n",
    "              x=\"TravelInsurance\",\n",
    "              hue=df_train[\"GraduateOrNot\"])"
   ]
  },
  {
   "cell_type": "code",
   "execution_count": null,
   "id": "e5314e6e",
   "metadata": {
    "lines_to_next_cell": 0
   },
   "outputs": [],
   "source": [
    "df_train"
   ]
  },
  {
   "cell_type": "markdown",
   "id": "a7e2ebb4",
   "metadata": {},
   "source": [
    "### Variable explicativa: Frequent Flyer"
   ]
  },
  {
   "cell_type": "code",
   "execution_count": null,
   "id": "bbd5a194",
   "metadata": {},
   "outputs": [],
   "source": [
    "df_train[\"FrequentFlyer\"].value_counts()"
   ]
  },
  {
   "cell_type": "markdown",
   "id": "3bfbfa56",
   "metadata": {},
   "source": [
    "### Variable explicativa: Ever Travelled Abroad"
   ]
  },
  {
   "cell_type": "code",
   "execution_count": null,
   "id": "cc50ffcb",
   "metadata": {},
   "outputs": [],
   "source": [
    "df_train[\"EverTravelledAbroad\"].value_counts()"
   ]
  },
  {
   "cell_type": "markdown",
   "id": "c3aa9f00",
   "metadata": {},
   "source": [
    "### Variable explicativa: Employment Type"
   ]
  },
  {
   "cell_type": "code",
   "execution_count": null,
   "id": "043fe24a",
   "metadata": {},
   "outputs": [],
   "source": [
    "sns.countplot(data=df_train, x=\"Employment Type\")"
   ]
  },
  {
   "cell_type": "markdown",
   "id": "dc20b746",
   "metadata": {},
   "source": [
    "Para el entrenamiento de los modelos no utilizaremos las variable Customer y Travel Insurance (Target)"
   ]
  },
  {
   "cell_type": "code",
   "execution_count": null,
   "id": "5e6dcdbe",
   "metadata": {
    "tags": []
   },
   "outputs": [],
   "source": [
    "X_train_total = df_train.drop([\"Customer\",\"TravelInsurance\"], axis=1)\n",
    "Y_train_total = df_train[\"TravelInsurance\"]"
   ]
  },
  {
   "cell_type": "markdown",
   "id": "6f46739c",
   "metadata": {
    "lines_to_next_cell": 0
   },
   "source": [
    "### Variable explicativa: Family Members"
   ]
  },
  {
   "cell_type": "code",
   "execution_count": null,
   "id": "0b3f6ab3",
   "metadata": {
    "lines_to_next_cell": 0
   },
   "outputs": [],
   "source": [
    "df_train.columns"
   ]
  },
  {
   "cell_type": "code",
   "execution_count": null,
   "id": "bb2c78b6",
   "metadata": {
    "lines_to_next_cell": 0
   },
   "outputs": [],
   "source": [
    "plt.figure(figsize=(10,8))\n",
    "sns.histplot(data=df_train, x=\"FamilyMembers\", hue= 'TravelInsurance', multiple=\"stack\")"
   ]
  },
  {
   "cell_type": "markdown",
   "id": "643fff04",
   "metadata": {
    "lines_to_next_cell": 0
   },
   "source": [
    "### Variable explicativa: Chronic Diseases"
   ]
  },
  {
   "cell_type": "code",
   "execution_count": null,
   "id": "b695cb52",
   "metadata": {
    "lines_to_next_cell": 0
   },
   "outputs": [],
   "source": [
    "plt.figure(figsize=(10,8))\n",
    "ax= sns.countplot(data= df_train, x=\"ChronicDiseases\", hue= \"TravelInsurance\")\n",
    "legend_labels, _= ax.get_legend_handles_labels()\n",
    "ax.legend(legend_labels, ['Not buyed', 'Buyed'], #ver de cambiar!\n",
    "          title_fontsize = 18,\n",
    "          fontsize = 15,\n",
    "          bbox_to_anchor=(1,1),\n",
    "          title='Travel Insurance')"
   ]
  },
  {
   "cell_type": "markdown",
   "id": "5023363f",
   "metadata": {
    "lines_to_next_cell": 0
   },
   "source": [
    "### Variable explicativa: FrequentFlyer"
   ]
  },
  {
   "cell_type": "code",
   "execution_count": null,
   "id": "18a2877b",
   "metadata": {
    "lines_to_next_cell": 0
   },
   "outputs": [],
   "source": [
    "fig = plt.figure(figsize=(5,5))\n",
    "sns.countplot(data=df_train, x=\"TravelInsurance\", hue=df_train.FrequentFlyer)\n",
    "\n",
    "pd.crosstab(df_train[\"TravelInsurance\"], df_train[\"FrequentFlyer\"])"
   ]
  },
  {
   "cell_type": "markdown",
   "id": "559eb738",
   "metadata": {
    "lines_to_next_cell": 0
   },
   "source": [
    "Se puede observar en este gráfico que si no sos viajero frecuente la cantidad\n",
    "de clientes que contratan un seguro es baja, caso contrario la cantidad de\n",
    "contratar un seguro es pareja."
   ]
  },
  {
   "cell_type": "markdown",
   "id": "3dabbafb",
   "metadata": {
    "lines_to_next_cell": 0
   },
   "source": [
    "### Variable explicativa: EverTravelledAbroad"
   ]
  },
  {
   "cell_type": "code",
   "execution_count": null,
   "id": "32acbc73",
   "metadata": {
    "lines_to_next_cell": 0
   },
   "outputs": [],
   "source": [
    "fig = plt.figure(figsize=(5, 5))\n",
    "sns.countplot(data=df_train, x=\"TravelInsurance\", hue=df_train.EverTravelledAbroad)\n",
    "\n",
    "pd.crosstab(df_train[\"TravelInsurance\"], df_train[\"EverTravelledAbroad\"])"
   ]
  },
  {
   "cell_type": "markdown",
   "id": "c8ccc865",
   "metadata": {},
   "source": [
    "## Encoding variables"
   ]
  },
  {
   "cell_type": "code",
   "execution_count": null,
   "id": "848de707",
   "metadata": {
    "tags": []
   },
   "outputs": [],
   "source": [
    "numerical_cols = X_train_total.select_dtypes(include=['float64', 'int64']).columns"
   ]
  },
  {
   "cell_type": "code",
   "execution_count": null,
   "id": "878dbd7e",
   "metadata": {},
   "outputs": [],
   "source": [
    "numerical_cols"
   ]
  },
  {
   "cell_type": "code",
   "execution_count": null,
   "id": "437db986",
   "metadata": {},
   "outputs": [],
   "source": [
    "categorical_cols = X_train_total.select_dtypes(include=['object']).columns"
   ]
  },
  {
   "cell_type": "code",
   "execution_count": null,
   "id": "9fcb06f7",
   "metadata": {},
   "outputs": [],
   "source": [
    "categorical_cols"
   ]
  },
  {
   "cell_type": "code",
   "execution_count": null,
   "id": "d6bf0b86",
   "metadata": {
    "tags": []
   },
   "outputs": [],
   "source": [
    "from sklearn.preprocessing import OneHotEncoder\n",
    "\n",
    "encoder = OneHotEncoder(sparse=False)\n",
    "encoder.fit(X_train_total[categorical_cols])\n",
    "# We can inspect the categories found by the encoder\n",
    "encoder.categories_"
   ]
  },
  {
   "cell_type": "code",
   "execution_count": null,
   "id": "eb627fc2",
   "metadata": {},
   "outputs": [],
   "source": [
    "encoded_types = encoder.transform(X_train_total[categorical_cols])\n",
    "encoded_types[:10]"
   ]
  },
  {
   "cell_type": "code",
   "execution_count": null,
   "id": "28dcd244",
   "metadata": {},
   "outputs": [],
   "source": [
    "X_train_total = X_train_total[numerical_cols].values\n",
    "X_train_total[:10]"
   ]
  },
  {
   "cell_type": "code",
   "execution_count": null,
   "id": "6fa90bec",
   "metadata": {},
   "outputs": [],
   "source": [
    "X_train_enc = np.hstack((encoded_types, X_train_total))\n",
    "X_train_enc [:5]"
   ]
  },
  {
   "cell_type": "code",
   "execution_count": null,
   "id": "40cdbb74",
   "metadata": {},
   "outputs": [],
   "source": [
    "X_train_enc.shape"
   ]
  },
  {
   "cell_type": "markdown",
   "id": "2d210d2b",
   "metadata": {},
   "source": [
    "## Creación del train y validation"
   ]
  },
  {
   "cell_type": "code",
   "execution_count": null,
   "id": "44f83e6c",
   "metadata": {
    "lines_to_next_cell": 0
   },
   "outputs": [],
   "source": [
    "X_train, X_valid, Y_train, Y_valid = train_test_split(X_train_total,\n",
    "                                                      Y_train_total,\n",
    "                                                      test_size=0.2,\n",
    "                                                      random_state=0)"
   ]
  },
  {
   "cell_type": "markdown",
   "id": "ae5bbf4f",
   "metadata": {},
   "source": [
    "## Modelos propuestos"
   ]
  },
  {
   "cell_type": "markdown",
   "id": "d90d0d71",
   "metadata": {},
   "source": [
    "## Primer modelo de prueba: Regresión Logística"
   ]
  },
  {
   "cell_type": "code",
   "execution_count": null,
   "id": "4eb068f9",
   "metadata": {},
   "outputs": [],
   "source": [
    "#X_train_lreg = X_train_enc[np.concatenate((num_cols,cat_cols))]\n",
    "#X_val_lreg = X_val_c[np.concatenate((num_cols,cat_cols))]\n",
    "\n",
    "pipe = Pipeline([('scaler', StandardScaler()), ('lreg', LogisticRegression(random_state=0))])\n",
    "\n",
    "pipe.fit(X_train, Y_train)"
   ]
  },
  {
   "cell_type": "code",
   "execution_count": null,
   "id": "2fdc3ed3",
   "metadata": {},
   "outputs": [],
   "source": [
    "pipe['lreg'].classes_"
   ]
  },
  {
   "cell_type": "code",
   "execution_count": null,
   "id": "b89b9f5c",
   "metadata": {},
   "outputs": [],
   "source": [
    "pipe['lreg'].get_params()"
   ]
  },
  {
   "cell_type": "code",
   "execution_count": null,
   "id": "6bbe8e15",
   "metadata": {},
   "outputs": [],
   "source": [
    "Y_train_predic_lreg = pipe.predict(X_train)\n",
    "Y_val_pred_lreg = pipe.predict(X_valid)"
   ]
  },
  {
   "cell_type": "code",
   "execution_count": null,
   "id": "4afbb938",
   "metadata": {},
   "outputs": [],
   "source": [
    "text = \"Logistic Regression - Reporte de clasificación del conjunto de train\"\n",
    "print(len(text)*\"=\")\n",
    "print(text)\n",
    "print(len(text)*\"=\")\n",
    "print(classification_report(Y_train, Y_train_predic_lreg))"
   ]
  },
  {
   "cell_type": "code",
   "execution_count": null,
   "id": "60b16c28",
   "metadata": {},
   "outputs": [],
   "source": [
    "text = \"Logistic Regression - Reporte de clasificación del conjunto de validation\"\n",
    "print(len(text)*\"=\")\n",
    "print(text)\n",
    "print(len(text)*\"=\")\n",
    "print(classification_report(Y_valid, Y_val_pred_lreg))"
   ]
  },
  {
   "cell_type": "markdown",
   "id": "e4f08543",
   "metadata": {},
   "source": [
    "## Segundo modelo de prueba: Árbol de decisión"
   ]
  },
  {
   "cell_type": "code",
   "execution_count": null,
   "id": "86a2d34a",
   "metadata": {},
   "outputs": [],
   "source": [
    "clf_tree = DecisionTreeClassifier(random_state=0)\n",
    "clf_tree.fit(X_train, Y_train)"
   ]
  },
  {
   "cell_type": "code",
   "execution_count": null,
   "id": "4b312e96",
   "metadata": {},
   "outputs": [],
   "source": [
    "Y_train_pred = clf_tree.predict(X_train)\n",
    "Y_valid_pred = clf_tree.predict(X_valid)"
   ]
  },
  {
   "cell_type": "code",
   "execution_count": null,
   "id": "43dbad3b",
   "metadata": {},
   "outputs": [],
   "source": [
    "train_acc = accuracy_score(Y_train, Y_train_pred)\n",
    "valid_acc = accuracy_score(Y_valid, Y_valid_pred)\n",
    "print(f'Train accuracy: {train_acc:0.2}')\n",
    "print(f'Test accuracy: {valid_acc:0.2}')"
   ]
  }
 ],
 "metadata": {
  "jupytext": {
   "encoding": "# -*- coding: utf-8 -*-",
   "main_language": "python"
  },
  "kernelspec": {
   "display_name": "Python 3.9.7 64-bit ('diplodatos-supervised': conda)",
   "name": "python397jvsc74a57bd01fbf230ed8a49891bdc325a868414da3a93ccc603acb0edf0a274c21ede9f486"
  }
 },
 "nbformat": 4,
 "nbformat_minor": 5
}
