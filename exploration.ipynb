{
 "cells": [
  {
   "cell_type": "markdown",
   "id": "c1e80188",
   "metadata": {},
   "source": [
    "# APRENDIZAJE SUPERVISADO"
   ]
  },
  {
   "cell_type": "markdown",
   "id": "250ac1ec",
   "metadata": {},
   "source": [
    "## Importación de librerias"
   ]
  },
  {
   "cell_type": "code",
   "execution_count": null,
   "id": "853eed14",
   "metadata": {
    "lines_to_next_cell": 0
   },
   "outputs": [],
   "source": [
    "import pandas as pd\n",
    "import numpy as np\n",
    "import matplotlib.pyplot as plt\n",
    "import seaborn as sns"
   ]
  },
  {
   "cell_type": "markdown",
   "id": "d67ad340",
   "metadata": {},
   "source": [
    "## Lectura del dataset"
   ]
  },
  {
   "cell_type": "code",
   "execution_count": null,
   "id": "a162efe5",
   "metadata": {
    "lines_to_next_cell": 0
   },
   "outputs": [],
   "source": [
    "URL_TRAIN_DATA = \"https://www.famaf.unc.edu.ar/~nocampo043/travel_insurance_prediction_train.csv\"\n",
    "URL_TEST_DATA = \"https://www.famaf.unc.edu.ar/~nocampo043/travel_insurance_prediction_test.csv\"\n",
    "\n",
    "df_train = pd.read_csv(URL_TRAIN_DATA)\n",
    "df_test = pd.read_csv(URL_TEST_DATA)"
   ]
  },
  {
   "cell_type": "code",
   "execution_count": null,
   "id": "e64c2daa",
   "metadata": {
    "lines_to_next_cell": 0
   },
   "outputs": [],
   "source": [
    "df_train.info()"
   ]
  },
  {
   "cell_type": "code",
   "execution_count": null,
   "id": "b7d47283",
   "metadata": {
    "lines_to_next_cell": 0
   },
   "outputs": [],
   "source": [
    "df_test.info()"
   ]
  },
  {
   "cell_type": "code",
   "execution_count": null,
   "id": "b3c6eace",
   "metadata": {
    "lines_to_next_cell": 0
   },
   "outputs": [],
   "source": [
    "df_train"
   ]
  },
  {
   "cell_type": "code",
   "execution_count": null,
   "id": "78bf7aee",
   "metadata": {
    "lines_to_next_cell": 0
   },
   "outputs": [],
   "source": [
    "df_test"
   ]
  },
  {
   "cell_type": "markdown",
   "id": "ae95c134",
   "metadata": {
    "lines_to_next_cell": 0
   },
   "source": [
    "## Análisis descriptivo"
   ]
  },
  {
   "cell_type": "code",
   "execution_count": null,
   "id": "16414a5b",
   "metadata": {
    "lines_to_next_cell": 0
   },
   "outputs": [],
   "source": [
    "df_train.describe().round()"
   ]
  },
  {
   "cell_type": "markdown",
   "id": "a2a8096e",
   "metadata": {
    "lines_to_next_cell": 0
   },
   "source": [
    "### Variable objetivo o target: Travel Insurance"
   ]
  },
  {
   "cell_type": "code",
   "execution_count": null,
   "id": "b94d93ea",
   "metadata": {
    "lines_to_next_cell": 0
   },
   "outputs": [],
   "source": [
    "df_train[\"TravelInsurance\"].value_counts()"
   ]
  },
  {
   "cell_type": "code",
   "execution_count": null,
   "id": "8630ce5b",
   "metadata": {
    "lines_to_next_cell": 0
   },
   "outputs": [],
   "source": [
    "fig = plt.figure(figsize=(5, 5))\n",
    "sns.countplot(data=df_train, x=\"TravelInsurance\")"
   ]
  },
  {
   "cell_type": "markdown",
   "id": "185a5388",
   "metadata": {},
   "source": [
    "### Correlación variables"
   ]
  },
  {
   "cell_type": "code",
   "execution_count": null,
   "id": "b152afce",
   "metadata": {
    "lines_to_next_cell": 0
   },
   "outputs": [],
   "source": [
    "corr = df_train[[\"TravelInsurance\", \"AnnualIncome\", \"Age\"]].corr().round(2)\n",
    "corr = corr[['TravelInsurance']]\n",
    "corr.loc[:, 'abs_corr'] = np.abs(corr['TravelInsurance'])\n",
    "corr.sort_values(by='abs_corr', ascending=False)"
   ]
  },
  {
   "cell_type": "code",
   "execution_count": null,
   "id": "87c36c23",
   "metadata": {
    "lines_to_next_cell": 0
   },
   "outputs": [],
   "source": [
    "plt.figure(figsize=(10, 10))\n",
    "corr = df_train.corr()\n",
    "sns.heatmap(corr,\n",
    "            xticklabels=corr.columns,\n",
    "            yticklabels=corr.columns,\n",
    "            annot=True,\n",
    "            cmap='coolwarm')\n",
    "plt.show()"
   ]
  },
  {
   "cell_type": "markdown",
   "id": "7dbaf85d",
   "metadata": {},
   "source": [
    "### Variable explicativa: Age"
   ]
  },
  {
   "cell_type": "markdown",
   "id": "78bde284",
   "metadata": {
    "lines_to_next_cell": 0
   },
   "source": [
    "En primer lugar, observamos la distribución de la variable Age en el df_train."
   ]
  },
  {
   "cell_type": "code",
   "execution_count": null,
   "id": "0a005abb",
   "metadata": {
    "lines_to_next_cell": 0
   },
   "outputs": [],
   "source": [
    "sns.countplot(data=df_train, x=\"Age\", hue=\"TravelInsurance\")"
   ]
  },
  {
   "cell_type": "code",
   "execution_count": null,
   "id": "eeb9f435",
   "metadata": {
    "lines_to_next_cell": 0
   },
   "outputs": [],
   "source": [
    "df_train[[\"TravelInsurance\", \"Age\"]].groupby(\"TravelInsurance\").describe()"
   ]
  },
  {
   "cell_type": "markdown",
   "id": "18d92473",
   "metadata": {
    "lines_to_next_cell": 0
   },
   "source": [
    "Podemos observar que se encuentran fluctuaciones con respecto a la edad."
   ]
  },
  {
   "cell_type": "markdown",
   "id": "ccad67ed",
   "metadata": {},
   "source": [
    "### Variable explicativa: AnnualIncome"
   ]
  },
  {
   "cell_type": "markdown",
   "id": "47f1b8fd",
   "metadata": {},
   "source": [
    "En primer lugar, observamos la distribución de la variable Annual Income en el df_train."
   ]
  },
  {
   "cell_type": "code",
   "execution_count": null,
   "id": "3a6a3113",
   "metadata": {},
   "outputs": [],
   "source": [
    "fig = plt.figure(figsize=(8, 8))\n",
    "sns.boxenplot(data=df_train, x=\"AnnualIncome\")\n",
    "plt.ticklabel_format(style='plain', axis='x')"
   ]
  },
  {
   "cell_type": "code",
   "execution_count": null,
   "id": "da144ee2",
   "metadata": {},
   "outputs": [],
   "source": [
    "fig = plt.figure(figsize=(8, 8))\n",
    "sns.boxenplot(data=df_train, x=\"TravelInsurance\", y=\"AnnualIncome\")\n",
    "plt.ticklabel_format(style='plain', axis='y')"
   ]
  },
  {
   "cell_type": "code",
   "execution_count": null,
   "id": "f0613a75",
   "metadata": {
    "lines_to_next_cell": 0
   },
   "outputs": [],
   "source": [
    "(df_train[[\"TravelInsurance\",\n",
    "           \"AnnualIncome\"]].groupby([\"TravelInsurance\"]).describe())"
   ]
  },
  {
   "cell_type": "markdown",
   "id": "ddba9c89",
   "metadata": {},
   "source": [
    "Podemos observar que la distribución de la variable Annual Income se ve afectada en gran medida, al condicionarla por las distintas clases de la variable TARGET. Si bien los valores mínimos y máximos son similares, la media y la mediana difieren considerablemente, como así también el rango intercuantil.\n",
    "Es una varible que se considera importante para explicar el comportamiento de Y."
   ]
  },
  {
   "cell_type": "markdown",
   "id": "5393b965",
   "metadata": {
    "lines_to_next_cell": 0
   },
   "source": [
    "### Variable explicativa: Employment Type"
   ]
  },
  {
   "cell_type": "code",
   "execution_count": null,
   "id": "7c724ebe",
   "metadata": {
    "lines_to_next_cell": 0
   },
   "outputs": [],
   "source": [
    "df_train[\"Employment Type\"].value_counts()\n",
    "pd.crosstab(df_train[\"TravelInsurance\"], df_train[\"GraduateOrNot\"])"
   ]
  },
  {
   "cell_type": "code",
   "execution_count": null,
   "id": "c0732067",
   "metadata": {},
   "outputs": [],
   "source": [
    "fig = plt.figure(figsize=(5, 5))\n",
    "sns.countplot(data=df_train,\n",
    "              x=\"TravelInsurance\",\n",
    "              hue=df_train[\"Employment Type\"])\n",
    "pd.crosstab(df_train[\"TravelInsurance\"], df_train[\"Employment Type\"])"
   ]
  },
  {
   "cell_type": "markdown",
   "id": "f1156350",
   "metadata": {},
   "source": [
    "### Variable explicativa: Graduate Or Not"
   ]
  },
  {
   "cell_type": "code",
   "execution_count": null,
   "id": "7097f44e",
   "metadata": {
    "lines_to_next_cell": 0
   },
   "outputs": [],
   "source": [
    "df_train[\"GraduateOrNot\"].value_counts()"
   ]
  },
  {
   "cell_type": "code",
   "execution_count": null,
   "id": "c8830be4",
   "metadata": {
    "lines_to_next_cell": 0
   },
   "outputs": [],
   "source": [
    "fig = plt.figure(figsize=(5, 5))\n",
    "sns.countplot(data=df_train,\n",
    "              x=\"TravelInsurance\",\n",
    "              hue=df_train[\"GraduateOrNot\"])"
   ]
  },
  {
   "cell_type": "code",
   "execution_count": null,
   "id": "1f85125b",
   "metadata": {
    "lines_to_next_cell": 0
   },
   "outputs": [],
   "source": [
    "df_train"
   ]
  },
  {
   "cell_type": "markdown",
   "id": "8373d7bb",
   "metadata": {},
   "source": [
    "### Variable explicativa: Frequent Flyer"
   ]
  },
  {
   "cell_type": "code",
   "execution_count": null,
   "id": "1aab24de",
   "metadata": {},
   "outputs": [],
   "source": [
    "df_train[\"FrequentFlyer\"].value_counts()"
   ]
  },
  {
   "cell_type": "markdown",
   "id": "30363ada",
   "metadata": {},
   "source": [
    "### Variable explicativa: Ever Travelled Abroad"
   ]
  },
  {
   "cell_type": "code",
   "execution_count": null,
   "id": "9ea56926",
   "metadata": {},
   "outputs": [],
   "source": [
    "df_train[\"EverTravelledAbroad\"].value_counts()"
   ]
  },
  {
   "cell_type": "markdown",
   "id": "23143375",
   "metadata": {},
   "source": [
    "### Variable explicativa: Employment Type"
   ]
  },
  {
   "cell_type": "code",
   "execution_count": null,
   "id": "814af448",
   "metadata": {},
   "outputs": [],
   "source": [
    "sns.countplot(data=df_train, x=\"Employment Type\")"
   ]
  },
  {
   "cell_type": "markdown",
   "id": "b85d4d19",
   "metadata": {
    "lines_to_next_cell": 0
   },
   "source": [
    "### Variable explicativa: Family Members"
   ]
  },
  {
   "cell_type": "code",
   "execution_count": null,
   "id": "b99c0d5e",
   "metadata": {
    "lines_to_next_cell": 0
   },
   "outputs": [],
   "source": [
    "df_train.columns"
   ]
  },
  {
   "cell_type": "code",
   "execution_count": null,
   "id": "21126091",
   "metadata": {
    "lines_to_next_cell": 0
   },
   "outputs": [],
   "source": [
    "plt.figure(figsize=(10, 8))\n",
    "sns.histplot(data=df_train,\n",
    "             x=\"FamilyMembers\",\n",
    "             hue='TravelInsurance',\n",
    "             multiple=\"stack\")"
   ]
  },
  {
   "cell_type": "markdown",
   "id": "5b7feaa5",
   "metadata": {
    "lines_to_next_cell": 0
   },
   "source": [
    "### Variable explicativa: Chronic Diseases"
   ]
  },
  {
   "cell_type": "code",
   "execution_count": null,
   "id": "67555bf7",
   "metadata": {
    "lines_to_next_cell": 0
   },
   "outputs": [],
   "source": [
    "plt.figure(figsize=(10, 8))\n",
    "ax = sns.countplot(data=df_train, x=\"ChronicDiseases\", hue=\"TravelInsurance\")\n",
    "legend_labels, _ = ax.get_legend_handles_labels()\n",
    "ax.legend(\n",
    "    legend_labels,\n",
    "    ['Not buyed', 'Buyed'],  #ver de cambiar!\n",
    "    title_fontsize=18,\n",
    "    fontsize=15,\n",
    "    bbox_to_anchor=(1, 1),\n",
    "    title='Travel Insurance')"
   ]
  },
  {
   "cell_type": "markdown",
   "id": "87c54d05",
   "metadata": {
    "lines_to_next_cell": 0
   },
   "source": [
    "### Variable explicativa: FrequentFlyer"
   ]
  },
  {
   "cell_type": "code",
   "execution_count": null,
   "id": "e6173ec5",
   "metadata": {
    "lines_to_next_cell": 0
   },
   "outputs": [],
   "source": [
    "fig = plt.figure(figsize=(5, 5))\n",
    "sns.countplot(data=df_train, x=\"TravelInsurance\", hue=df_train.FrequentFlyer)\n",
    "\n",
    "pd.crosstab(df_train[\"TravelInsurance\"], df_train[\"FrequentFlyer\"])"
   ]
  },
  {
   "cell_type": "markdown",
   "id": "42c4aac3",
   "metadata": {
    "lines_to_next_cell": 0
   },
   "source": [
    "Se puede observar en este gráfico que si no sos viajero frecuente la cantidad\n",
    "de clientes que contratan un seguro es baja, caso contrario la cantidad de\n",
    "contratar un seguro es pareja."
   ]
  },
  {
   "cell_type": "markdown",
   "id": "96d58bf0",
   "metadata": {
    "lines_to_next_cell": 0
   },
   "source": [
    "### Variable explicativa: EverTravelledAbroad"
   ]
  },
  {
   "cell_type": "code",
   "execution_count": null,
   "id": "3b6e19f3",
   "metadata": {},
   "outputs": [],
   "source": [
    "fig = plt.figure(figsize=(5, 5))\n",
    "sns.countplot(data=df_train,\n",
    "              x=\"TravelInsurance\",\n",
    "              hue=df_train.EverTravelledAbroad)\n",
    "\n",
    "pd.crosstab(df_train[\"TravelInsurance\"], df_train[\"EverTravelledAbroad\"])"
   ]
  }
 ],
 "metadata": {
  "jupytext": {
   "encoding": "# -*- coding: utf-8 -*-",
   "main_language": "python"
  },
  "kernelspec": {
   "display_name": "Python 3.9.7 64-bit ('diplodatos-supervised': conda)",
   "name": "python397jvsc74a57bd01fbf230ed8a49891bdc325a868414da3a93ccc603acb0edf0a274c21ede9f486"
  }
 },
 "nbformat": 4,
 "nbformat_minor": 5
}
